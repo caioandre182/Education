{
 "cells": [
  {
   "cell_type": "markdown",
   "id": "3c5b3d50",
   "metadata": {},
   "source": [
    "## Teste de hipótese"
   ]
  },
  {
   "cell_type": "markdown",
   "id": "4990132a",
   "metadata": {},
   "source": [
    "### Bibliotecas"
   ]
  },
  {
   "cell_type": "code",
   "execution_count": 3,
   "id": "361c921a",
   "metadata": {},
   "outputs": [],
   "source": [
    "import numpy as np\n",
    "import math\n",
    "from scipy.stats import norm"
   ]
  },
  {
   "cell_type": "markdown",
   "id": "3dacb113",
   "metadata": {},
   "source": [
    "### Base de Dados"
   ]
  },
  {
   "cell_type": "code",
   "execution_count": 2,
   "id": "efb946c1",
   "metadata": {},
   "outputs": [],
   "source": [
    "dados_originais = np.array([126. , 129.5, 133. , 133. , 136.5, 136.5, 140. , 140. , 140. ,\n",
    "                            140. , 143.5, 143.5, 143.5, 143.5, 143.5, 143.5, 147. , 147. ,\n",
    "                            147. , 147. , 147. , 147. , 147. , 150.5, 150.5, 150.5, 150.5,\n",
    "                            150.5, 150.5, 150.5, 150.5, 154. , 154. , 154. , 154. , 154. ,\n",
    "                            154. , 154. , 154. , 154. , 157.5, 157.5, 157.5, 157.5, 157.5,\n",
    "                            157.5, 157.5, 157.5, 157.5, 157.5, 161. , 161. , 161. , 161. ,\n",
    "                            161. , 161. , 161. , 161. , 161. , 161. , 164.5, 164.5, 164.5,\n",
    "                            164.5, 164.5, 164.5, 164.5, 164.5, 164.5, 168. , 168. , 168. ,\n",
    "                            168. , 168. , 168. , 168. , 168. , 171.5, 171.5, 171.5, 171.5,\n",
    "                            171.5, 171.5, 171.5, 175. , 175. , 175. , 175. , 175. , 175. ,\n",
    "                            178.5, 178.5, 178.5, 178.5, 182. , 182. , 185.5, 185.5, 189. , 192.5])"
   ]
  },
  {
   "cell_type": "code",
   "execution_count": 3,
   "id": "dd934d65",
   "metadata": {},
   "outputs": [
    {
     "data": {
      "text/plain": [
       "100"
      ]
     },
     "execution_count": 3,
     "metadata": {},
     "output_type": "execute_result"
    }
   ],
   "source": [
    "len(dados_originais)"
   ]
  },
  {
   "cell_type": "code",
   "execution_count": 4,
   "id": "2196879a",
   "metadata": {},
   "outputs": [
    {
     "data": {
      "text/plain": [
       "159.25"
      ]
     },
     "execution_count": 4,
     "metadata": {},
     "output_type": "execute_result"
    }
   ],
   "source": [
    "H0_media = np.mean(dados_originais)\n",
    "H0_media"
   ]
  },
  {
   "cell_type": "code",
   "execution_count": 5,
   "id": "72004ff6",
   "metadata": {},
   "outputs": [
    {
     "data": {
      "text/plain": [
       "13.65"
      ]
     },
     "execution_count": 5,
     "metadata": {},
     "output_type": "execute_result"
    }
   ],
   "source": [
    "H0_desvio_padrao = np.std(dados_originais)\n",
    "H0_desvio_padrao"
   ]
  },
  {
   "cell_type": "markdown",
   "id": "eae95d6d",
   "metadata": {},
   "source": [
    "### Teste de hipótese"
   ]
  },
  {
   "cell_type": "code",
   "execution_count": 6,
   "id": "fec9af73",
   "metadata": {},
   "outputs": [
    {
     "data": {
      "text/plain": [
       "array([129.78 , 133.385, 136.99 , 136.99 , 140.595, 140.595, 144.2  ,\n",
       "       144.2  , 144.2  , 144.2  , 147.805, 147.805, 147.805, 147.805,\n",
       "       147.805, 147.805, 151.41 , 151.41 , 151.41 , 151.41 , 151.41 ,\n",
       "       151.41 , 151.41 , 155.015, 155.015, 155.015, 155.015, 155.015,\n",
       "       155.015, 155.015, 155.015, 158.62 , 158.62 , 158.62 , 158.62 ,\n",
       "       158.62 , 158.62 , 158.62 , 158.62 , 158.62 , 162.225, 162.225,\n",
       "       162.225, 162.225, 162.225, 162.225, 162.225, 162.225, 162.225,\n",
       "       162.225, 165.83 , 165.83 , 165.83 , 165.83 , 165.83 , 165.83 ,\n",
       "       165.83 , 165.83 , 165.83 , 165.83 , 169.435, 169.435, 169.435,\n",
       "       169.435, 169.435, 169.435, 169.435, 169.435, 169.435, 173.04 ,\n",
       "       173.04 , 173.04 , 173.04 , 173.04 , 173.04 , 173.04 , 173.04 ,\n",
       "       176.645, 176.645, 176.645, 176.645, 176.645, 176.645, 176.645,\n",
       "       180.25 , 180.25 , 180.25 , 180.25 , 180.25 , 180.25 , 183.855,\n",
       "       183.855, 183.855, 183.855, 187.46 , 187.46 , 191.065, 191.065,\n",
       "       194.67 , 198.275])"
      ]
     },
     "execution_count": 6,
     "metadata": {},
     "output_type": "execute_result"
    }
   ],
   "source": [
    "dados_novos = dados_originais * 1.03\n",
    "dados_novos"
   ]
  },
  {
   "cell_type": "code",
   "execution_count": 7,
   "id": "a87ca53a",
   "metadata": {},
   "outputs": [
    {
     "data": {
      "text/plain": [
       "164.0275"
      ]
     },
     "execution_count": 7,
     "metadata": {},
     "output_type": "execute_result"
    }
   ],
   "source": [
    "H1_media = np.mean(dados_novos)\n",
    "H1_media"
   ]
  },
  {
   "cell_type": "code",
   "execution_count": 8,
   "id": "0cdcd2e4",
   "metadata": {},
   "outputs": [
    {
     "data": {
      "text/plain": [
       "14.0595"
      ]
     },
     "execution_count": 8,
     "metadata": {},
     "output_type": "execute_result"
    }
   ],
   "source": [
    "H1_desvio_padrao = np.std(dados_novos)\n",
    "H1_desvio_padrao"
   ]
  },
  {
   "cell_type": "code",
   "execution_count": 9,
   "id": "42552f8c",
   "metadata": {},
   "outputs": [],
   "source": [
    "H1_n = len(dados_novos)"
   ]
  },
  {
   "cell_type": "code",
   "execution_count": 10,
   "id": "0d550084",
   "metadata": {},
   "outputs": [],
   "source": [
    "alpha = 0.05"
   ]
  },
  {
   "cell_type": "markdown",
   "id": "14a70246",
   "metadata": {},
   "source": [
    "#### Teste manual"
   ]
  },
  {
   "cell_type": "code",
   "execution_count": 11,
   "id": "bf5e5499",
   "metadata": {},
   "outputs": [
    {
     "data": {
      "text/plain": [
       "3.398058252427187"
      ]
     },
     "execution_count": 11,
     "metadata": {},
     "output_type": "execute_result"
    }
   ],
   "source": [
    "Z = (H1_media - H0_media) / ((H1_desvio_padrao) / np.sqrt(H1_n))\n",
    "Z"
   ]
  },
  {
   "cell_type": "code",
   "execution_count": 12,
   "id": "3707a495",
   "metadata": {},
   "outputs": [
    {
     "data": {
      "text/plain": [
       "0.9996606701617486"
      ]
     },
     "execution_count": 12,
     "metadata": {},
     "output_type": "execute_result"
    }
   ],
   "source": [
    "norm.cdf(Z)"
   ]
  },
  {
   "cell_type": "code",
   "execution_count": 13,
   "id": "593e3215",
   "metadata": {},
   "outputs": [
    {
     "data": {
      "text/plain": [
       "0.00033932983825135654"
      ]
     },
     "execution_count": 13,
     "metadata": {},
     "output_type": "execute_result"
    }
   ],
   "source": [
    "p = 1 - norm.cdf(Z)\n",
    "p"
   ]
  },
  {
   "cell_type": "code",
   "execution_count": 14,
   "id": "06555c5e",
   "metadata": {},
   "outputs": [
    {
     "name": "stdout",
     "output_type": "stream",
     "text": [
      "Hipotese nula rejeitada\n"
     ]
    }
   ],
   "source": [
    "if p < alpha:\n",
    "    print('Hipotese nula rejeitada')\n",
    "else:\n",
    "    print('Hipotese alternativa rejeitada')"
   ]
  },
  {
   "cell_type": "markdown",
   "id": "c8779842",
   "metadata": {},
   "source": [
    "#### Teste com o statsmodels"
   ]
  },
  {
   "cell_type": "code",
   "execution_count": 15,
   "id": "ea0d8922",
   "metadata": {},
   "outputs": [],
   "source": [
    "from statsmodels.stats.weightstats import ztest"
   ]
  },
  {
   "cell_type": "code",
   "execution_count": 16,
   "id": "c14ba992",
   "metadata": {},
   "outputs": [],
   "source": [
    "_, p = ztest(dados_originais, dados_novos, value = H1_media - H0_media, alternative='larger')"
   ]
  },
  {
   "cell_type": "code",
   "execution_count": 17,
   "id": "e53f98e2",
   "metadata": {},
   "outputs": [
    {
     "data": {
      "text/plain": [
       "0.9999993877283934"
      ]
     },
     "execution_count": 17,
     "metadata": {},
     "output_type": "execute_result"
    }
   ],
   "source": [
    "p"
   ]
  },
  {
   "cell_type": "code",
   "execution_count": 18,
   "id": "befa0abe",
   "metadata": {},
   "outputs": [
    {
     "data": {
      "text/plain": [
       "0.00033932983825135654"
      ]
     },
     "execution_count": 18,
     "metadata": {},
     "output_type": "execute_result"
    }
   ],
   "source": [
    "p = 1 - norm.cdf(Z)\n",
    "p"
   ]
  },
  {
   "cell_type": "code",
   "execution_count": 19,
   "id": "20be447e",
   "metadata": {},
   "outputs": [
    {
     "name": "stdout",
     "output_type": "stream",
     "text": [
      "Hipotese nula rejeitada\n"
     ]
    }
   ],
   "source": [
    "if p < alpha:\n",
    "    print('Hipotese nula rejeitada')\n",
    "else:\n",
    "    print('Hipotese alternativa rejeitada')"
   ]
  },
  {
   "cell_type": "markdown",
   "id": "6a106f6f",
   "metadata": {},
   "source": [
    "### Qui Quadrado"
   ]
  },
  {
   "cell_type": "code",
   "execution_count": 20,
   "id": "accbe09a",
   "metadata": {},
   "outputs": [],
   "source": [
    "from scipy.stats import chi2_contingency"
   ]
  },
  {
   "cell_type": "code",
   "execution_count": 21,
   "id": "21b95365",
   "metadata": {},
   "outputs": [],
   "source": [
    "tabela = np.array([[30,20], [22,28]])"
   ]
  },
  {
   "cell_type": "code",
   "execution_count": 22,
   "id": "1f88f86e",
   "metadata": {},
   "outputs": [
    {
     "data": {
      "text/plain": [
       "array([[30, 20],\n",
       "       [22, 28]])"
      ]
     },
     "execution_count": 22,
     "metadata": {},
     "output_type": "execute_result"
    }
   ],
   "source": [
    "tabela"
   ]
  },
  {
   "cell_type": "code",
   "execution_count": 26,
   "id": "99d9eaa3",
   "metadata": {},
   "outputs": [],
   "source": [
    "_, p, _, _ = chi2_contingency(tabela)"
   ]
  },
  {
   "cell_type": "code",
   "execution_count": 28,
   "id": "d188f85c",
   "metadata": {},
   "outputs": [
    {
     "data": {
      "text/plain": [
       "0.16117778944980238"
      ]
     },
     "execution_count": 28,
     "metadata": {},
     "output_type": "execute_result"
    }
   ],
   "source": [
    "p"
   ]
  },
  {
   "cell_type": "code",
   "execution_count": 29,
   "id": "e212eaf5",
   "metadata": {},
   "outputs": [
    {
     "name": "stdout",
     "output_type": "stream",
     "text": [
      "Hipotese alternativa rejeitada\n"
     ]
    }
   ],
   "source": [
    "if p < alpha:\n",
    "    print('Hipotese nula rejeitada')\n",
    "else:\n",
    "    print('Hipotese alternativa rejeitada')"
   ]
  },
  {
   "cell_type": "markdown",
   "id": "3896dace",
   "metadata": {},
   "source": [
    "## Seleção de atributos com testes de hipóteses - SelectFdr"
   ]
  },
  {
   "cell_type": "code",
   "execution_count": 23,
   "id": "7c6c8303",
   "metadata": {},
   "outputs": [],
   "source": [
    "import pandas as pd\n",
    "import numpy as np\n",
    "from sklearn.feature_selection import SelectFdr, chi2\n",
    "from sklearn.naive_bayes import GaussianNB\n",
    "from sklearn.metrics import accuracy_score"
   ]
  },
  {
   "cell_type": "code",
   "execution_count": 24,
   "id": "d02eff26",
   "metadata": {},
   "outputs": [
    {
     "data": {
      "text/html": [
       "<div>\n",
       "<style scoped>\n",
       "    .dataframe tbody tr th:only-of-type {\n",
       "        vertical-align: middle;\n",
       "    }\n",
       "\n",
       "    .dataframe tbody tr th {\n",
       "        vertical-align: top;\n",
       "    }\n",
       "\n",
       "    .dataframe thead th {\n",
       "        text-align: right;\n",
       "    }\n",
       "</style>\n",
       "<table border=\"1\" class=\"dataframe\">\n",
       "  <thead>\n",
       "    <tr style=\"text-align: right;\">\n",
       "      <th></th>\n",
       "      <th>0</th>\n",
       "      <th>1</th>\n",
       "      <th>2</th>\n",
       "      <th>3</th>\n",
       "      <th>4</th>\n",
       "      <th>5</th>\n",
       "      <th>6</th>\n",
       "      <th>7</th>\n",
       "      <th>8</th>\n",
       "      <th>9</th>\n",
       "      <th>...</th>\n",
       "      <th>1549</th>\n",
       "      <th>1550</th>\n",
       "      <th>1551</th>\n",
       "      <th>1552</th>\n",
       "      <th>1553</th>\n",
       "      <th>1554</th>\n",
       "      <th>1555</th>\n",
       "      <th>1556</th>\n",
       "      <th>1557</th>\n",
       "      <th>1558</th>\n",
       "    </tr>\n",
       "  </thead>\n",
       "  <tbody>\n",
       "    <tr>\n",
       "      <th>0</th>\n",
       "      <td>125</td>\n",
       "      <td>125</td>\n",
       "      <td>1.0000</td>\n",
       "      <td>1</td>\n",
       "      <td>0</td>\n",
       "      <td>0</td>\n",
       "      <td>0</td>\n",
       "      <td>0</td>\n",
       "      <td>0</td>\n",
       "      <td>0</td>\n",
       "      <td>...</td>\n",
       "      <td>0</td>\n",
       "      <td>0</td>\n",
       "      <td>0</td>\n",
       "      <td>0</td>\n",
       "      <td>0</td>\n",
       "      <td>0</td>\n",
       "      <td>0</td>\n",
       "      <td>0</td>\n",
       "      <td>0</td>\n",
       "      <td>ad.</td>\n",
       "    </tr>\n",
       "    <tr>\n",
       "      <th>1</th>\n",
       "      <td>57</td>\n",
       "      <td>468</td>\n",
       "      <td>8.2105</td>\n",
       "      <td>1</td>\n",
       "      <td>0</td>\n",
       "      <td>0</td>\n",
       "      <td>0</td>\n",
       "      <td>0</td>\n",
       "      <td>0</td>\n",
       "      <td>0</td>\n",
       "      <td>...</td>\n",
       "      <td>0</td>\n",
       "      <td>0</td>\n",
       "      <td>0</td>\n",
       "      <td>0</td>\n",
       "      <td>0</td>\n",
       "      <td>0</td>\n",
       "      <td>0</td>\n",
       "      <td>0</td>\n",
       "      <td>0</td>\n",
       "      <td>ad.</td>\n",
       "    </tr>\n",
       "    <tr>\n",
       "      <th>2</th>\n",
       "      <td>33</td>\n",
       "      <td>230</td>\n",
       "      <td>6.9696</td>\n",
       "      <td>1</td>\n",
       "      <td>0</td>\n",
       "      <td>0</td>\n",
       "      <td>0</td>\n",
       "      <td>0</td>\n",
       "      <td>0</td>\n",
       "      <td>0</td>\n",
       "      <td>...</td>\n",
       "      <td>0</td>\n",
       "      <td>0</td>\n",
       "      <td>0</td>\n",
       "      <td>0</td>\n",
       "      <td>0</td>\n",
       "      <td>0</td>\n",
       "      <td>0</td>\n",
       "      <td>0</td>\n",
       "      <td>0</td>\n",
       "      <td>ad.</td>\n",
       "    </tr>\n",
       "    <tr>\n",
       "      <th>3</th>\n",
       "      <td>60</td>\n",
       "      <td>468</td>\n",
       "      <td>7.8000</td>\n",
       "      <td>1</td>\n",
       "      <td>0</td>\n",
       "      <td>0</td>\n",
       "      <td>0</td>\n",
       "      <td>0</td>\n",
       "      <td>0</td>\n",
       "      <td>0</td>\n",
       "      <td>...</td>\n",
       "      <td>0</td>\n",
       "      <td>0</td>\n",
       "      <td>0</td>\n",
       "      <td>0</td>\n",
       "      <td>0</td>\n",
       "      <td>0</td>\n",
       "      <td>0</td>\n",
       "      <td>0</td>\n",
       "      <td>0</td>\n",
       "      <td>ad.</td>\n",
       "    </tr>\n",
       "    <tr>\n",
       "      <th>4</th>\n",
       "      <td>60</td>\n",
       "      <td>468</td>\n",
       "      <td>7.8000</td>\n",
       "      <td>1</td>\n",
       "      <td>0</td>\n",
       "      <td>0</td>\n",
       "      <td>0</td>\n",
       "      <td>0</td>\n",
       "      <td>0</td>\n",
       "      <td>0</td>\n",
       "      <td>...</td>\n",
       "      <td>0</td>\n",
       "      <td>0</td>\n",
       "      <td>0</td>\n",
       "      <td>0</td>\n",
       "      <td>0</td>\n",
       "      <td>0</td>\n",
       "      <td>0</td>\n",
       "      <td>0</td>\n",
       "      <td>0</td>\n",
       "      <td>ad.</td>\n",
       "    </tr>\n",
       "  </tbody>\n",
       "</table>\n",
       "<p>5 rows × 1559 columns</p>\n",
       "</div>"
      ],
      "text/plain": [
       "   0     1       2     3     4     5     6     7     8     9     ...  1549  \\\n",
       "0   125   125  1.0000     1     0     0     0     0     0     0  ...     0   \n",
       "1    57   468  8.2105     1     0     0     0     0     0     0  ...     0   \n",
       "2    33   230  6.9696     1     0     0     0     0     0     0  ...     0   \n",
       "3    60   468  7.8000     1     0     0     0     0     0     0  ...     0   \n",
       "4    60   468  7.8000     1     0     0     0     0     0     0  ...     0   \n",
       "\n",
       "   1550  1551  1552  1553  1554  1555  1556  1557  1558  \n",
       "0     0     0     0     0     0     0     0     0   ad.  \n",
       "1     0     0     0     0     0     0     0     0   ad.  \n",
       "2     0     0     0     0     0     0     0     0   ad.  \n",
       "3     0     0     0     0     0     0     0     0   ad.  \n",
       "4     0     0     0     0     0     0     0     0   ad.  \n",
       "\n",
       "[5 rows x 1559 columns]"
      ]
     },
     "execution_count": 24,
     "metadata": {},
     "output_type": "execute_result"
    }
   ],
   "source": [
    "df = pd.read_csv('../../dados/ad.data', header=None)\n",
    "df.head()"
   ]
  },
  {
   "cell_type": "code",
   "execution_count": 25,
   "id": "55a61d8b",
   "metadata": {},
   "outputs": [
    {
     "data": {
      "text/plain": [
       "(3279, 1559)"
      ]
     },
     "execution_count": 25,
     "metadata": {},
     "output_type": "execute_result"
    }
   ],
   "source": [
    "df.shape"
   ]
  },
  {
   "cell_type": "code",
   "execution_count": 26,
   "id": "ae9fdc4e",
   "metadata": {},
   "outputs": [
    {
     "data": {
      "text/plain": [
       "array(['ad.', 'nonad.'], dtype=object)"
      ]
     },
     "execution_count": 26,
     "metadata": {},
     "output_type": "execute_result"
    }
   ],
   "source": [
    "df[1558].unique()"
   ]
  },
  {
   "cell_type": "code",
   "execution_count": 27,
   "id": "a62bb592",
   "metadata": {},
   "outputs": [],
   "source": [
    "X = df.iloc[:, :-1].values\n",
    "y = df.iloc[:, -1].values"
   ]
  },
  {
   "cell_type": "code",
   "execution_count": 28,
   "id": "e5137c5e",
   "metadata": {},
   "outputs": [
    {
     "data": {
      "text/plain": [
       "array([[125.    , 125.    ,   1.    , ...,   0.    ,   0.    ,   0.    ],\n",
       "       [ 57.    , 468.    ,   8.2105, ...,   0.    ,   0.    ,   0.    ],\n",
       "       [ 33.    , 230.    ,   6.9696, ...,   0.    ,   0.    ,   0.    ],\n",
       "       ...,\n",
       "       [ 23.    , 120.    ,   5.2173, ...,   0.    ,   0.    ,   0.    ],\n",
       "       [  0.    ,   0.    ,   0.    , ...,   0.    ,   0.    ,   0.    ],\n",
       "       [ 40.    ,  40.    ,   1.    , ...,   0.    ,   0.    ,   0.    ]])"
      ]
     },
     "execution_count": 28,
     "metadata": {},
     "output_type": "execute_result"
    }
   ],
   "source": [
    "X"
   ]
  },
  {
   "cell_type": "code",
   "execution_count": 29,
   "id": "782ad19e",
   "metadata": {},
   "outputs": [
    {
     "data": {
      "text/plain": [
       "array(['ad.', 'ad.', 'ad.', ..., 'nonad.', 'nonad.', 'nonad.'],\n",
       "      dtype=object)"
      ]
     },
     "execution_count": 29,
     "metadata": {},
     "output_type": "execute_result"
    }
   ],
   "source": [
    "y"
   ]
  },
  {
   "cell_type": "code",
   "execution_count": 30,
   "id": "db92dc22",
   "metadata": {},
   "outputs": [
    {
     "data": {
      "text/plain": [
       "(array(['ad.', 'nonad.'], dtype=object), array([ 459, 2820], dtype=int64))"
      ]
     },
     "execution_count": 30,
     "metadata": {},
     "output_type": "execute_result"
    }
   ],
   "source": [
    "np.unique(y, return_counts=True)"
   ]
  },
  {
   "cell_type": "code",
   "execution_count": 34,
   "id": "aa22ac06",
   "metadata": {},
   "outputs": [
    {
     "data": {
      "text/plain": [
       "0.7813357731015553"
      ]
     },
     "execution_count": 34,
     "metadata": {},
     "output_type": "execute_result"
    }
   ],
   "source": [
    "naive1 = GaussianNB()\n",
    "naive1.fit(X, y)\n",
    "previsoes1 = naive1.predict(X)\n",
    "accuracy_score(y, previsoes1)"
   ]
  },
  {
   "cell_type": "code",
   "execution_count": 35,
   "id": "ae29ef7f",
   "metadata": {},
   "outputs": [],
   "source": [
    "selecao = SelectFdr(chi2, alpha=0.01)\n",
    "X_novo = selecao.fit_transform(X, y)"
   ]
  },
  {
   "cell_type": "code",
   "execution_count": 36,
   "id": "6d9bff4e",
   "metadata": {},
   "outputs": [
    {
     "data": {
      "text/plain": [
       "((3279, 1558), (3279, 433))"
      ]
     },
     "execution_count": 36,
     "metadata": {},
     "output_type": "execute_result"
    }
   ],
   "source": [
    "X.shape, X_novo.shape"
   ]
  },
  {
   "cell_type": "code",
   "execution_count": 37,
   "id": "bf9bc506",
   "metadata": {},
   "outputs": [
    {
     "data": {
      "text/plain": [
       "(array([2.14710304e-268, 0.00000000e+000, 8.98165813e-150, ...,\n",
       "        6.03353380e-041, 5.63437216e-012, 9.37945775e-002]),\n",
       " 1558)"
      ]
     },
     "execution_count": 37,
     "metadata": {},
     "output_type": "execute_result"
    }
   ],
   "source": [
    "selecao.pvalues_, len(selecao.pvalues_)"
   ]
  },
  {
   "cell_type": "code",
   "execution_count": 38,
   "id": "11840209",
   "metadata": {},
   "outputs": [
    {
     "data": {
      "text/plain": [
       "476"
      ]
     },
     "execution_count": 38,
     "metadata": {},
     "output_type": "execute_result"
    }
   ],
   "source": [
    "np.sum(selecao.pvalues_ <= 0.01)"
   ]
  },
  {
   "cell_type": "code",
   "execution_count": 39,
   "id": "acab387c",
   "metadata": {},
   "outputs": [
    {
     "data": {
      "text/plain": [
       "array([ True,  True,  True, ...,  True,  True, False])"
      ]
     },
     "execution_count": 39,
     "metadata": {},
     "output_type": "execute_result"
    }
   ],
   "source": [
    "colunas = selecao.get_support()\n",
    "colunas"
   ]
  },
  {
   "cell_type": "code",
   "execution_count": 40,
   "id": "2a07d43f",
   "metadata": {},
   "outputs": [
    {
     "data": {
      "text/plain": [
       "(array([   0,    1,    2,    9,   11,   14,   20,   21,   26,   31,   34,\n",
       "          36,   49,   58,   59,   64,   65,   69,   70,   86,   91,   95,\n",
       "          96,  102,  104,  106,  113,  133,  134,  139,  155,  158,  163,\n",
       "         167,  172,  175,  180,  181,  183,  185,  186,  189,  190,  192,\n",
       "         193,  224,  242,  246,  248,  249,  251,  259,  264,  265,  266,\n",
       "         267,  268,  269,  270,  274,  276,  278,  287,  290,  293,  304,\n",
       "         307,  310,  312,  317,  321,  329,  330,  336,  341,  345,  346,\n",
       "         350,  351,  355,  356,  357,  359,  366,  367,  370,  372,  381,\n",
       "         386,  388,  389,  398,  405,  418,  420,  426,  427,  429,  430,\n",
       "         432,  435,  440,  455,  457,  460,  465,  470,  472,  477,  478,\n",
       "         482,  508,  511,  518,  528,  532,  533,  540,  542,  548,  551,\n",
       "         556,  572,  573,  574,  576,  586,  622,  625,  627,  638,  643,\n",
       "         648,  653,  658,  661,  663,  666,  683,  688,  694,  703,  704,\n",
       "         709,  711,  720,  723,  729,  732,  734,  735,  738,  739,  744,\n",
       "         759,  762,  772,  773,  774,  783,  800,  807,  812,  813,  819,\n",
       "         825,  840,  848,  849,  860,  863,  869,  870,  873,  874,  875,\n",
       "         884,  890,  914,  917,  925,  927,  930,  942,  943,  944,  947,\n",
       "         948,  951,  955,  960,  962,  963,  967,  968,  969,  972,  973,\n",
       "         976,  983,  986,  987,  990,  992,  993, 1002, 1007, 1008, 1009,\n",
       "        1010, 1014, 1015, 1016, 1017, 1018, 1022, 1024, 1026, 1035, 1040,\n",
       "        1041, 1042, 1043, 1045, 1046, 1047, 1048, 1049, 1052, 1054, 1055,\n",
       "        1057, 1058, 1059, 1060, 1061, 1065, 1073, 1075, 1081, 1084, 1088,\n",
       "        1089, 1090, 1092, 1097, 1100, 1102, 1108, 1110, 1112, 1115, 1116,\n",
       "        1118, 1122, 1125, 1128, 1129, 1130, 1131, 1132, 1135, 1136, 1139,\n",
       "        1140, 1141, 1142, 1143, 1146, 1149, 1150, 1153, 1154, 1157, 1164,\n",
       "        1165, 1169, 1174, 1177, 1178, 1180, 1185, 1188, 1190, 1193, 1195,\n",
       "        1198, 1200, 1201, 1202, 1203, 1204, 1205, 1207, 1208, 1211, 1213,\n",
       "        1218, 1219, 1220, 1222, 1223, 1224, 1227, 1229, 1230, 1232, 1234,\n",
       "        1235, 1236, 1240, 1243, 1247, 1249, 1250, 1254, 1257, 1258, 1260,\n",
       "        1262, 1265, 1266, 1270, 1271, 1276, 1278, 1283, 1284, 1288, 1289,\n",
       "        1293, 1294, 1296, 1301, 1302, 1306, 1309, 1311, 1312, 1313, 1317,\n",
       "        1318, 1321, 1324, 1326, 1327, 1330, 1332, 1335, 1337, 1338, 1339,\n",
       "        1341, 1342, 1344, 1345, 1346, 1347, 1348, 1351, 1353, 1355, 1357,\n",
       "        1358, 1359, 1361, 1362, 1367, 1368, 1373, 1376, 1380, 1382, 1383,\n",
       "        1385, 1391, 1392, 1393, 1394, 1395, 1398, 1399, 1400, 1402, 1404,\n",
       "        1408, 1410, 1411, 1413, 1416, 1422, 1423, 1424, 1426, 1427, 1428,\n",
       "        1429, 1434, 1435, 1436, 1437, 1442, 1445, 1452, 1454, 1455, 1461,\n",
       "        1462, 1465, 1469, 1483, 1484, 1485, 1494, 1500, 1501, 1507, 1510,\n",
       "        1513, 1515, 1519, 1521, 1526, 1527, 1532, 1533, 1535, 1539, 1541,\n",
       "        1544, 1554, 1555, 1556], dtype=int64),)"
      ]
     },
     "execution_count": 40,
     "metadata": {},
     "output_type": "execute_result"
    }
   ],
   "source": [
    "indices = np.where(colunas == True)\n",
    "indices"
   ]
  },
  {
   "cell_type": "code",
   "execution_count": 41,
   "id": "f639091d",
   "metadata": {},
   "outputs": [
    {
     "data": {
      "text/plain": [
       "0.970722781335773"
      ]
     },
     "execution_count": 41,
     "metadata": {},
     "output_type": "execute_result"
    }
   ],
   "source": [
    "naive2 = GaussianNB()\n",
    "naive2.fit(X_novo, y)\n",
    "previsoes2 = naive2.predict(X_novo)\n",
    "accuracy_score(y, previsoes2)"
   ]
  },
  {
   "cell_type": "markdown",
   "id": "cffa96eb",
   "metadata": {},
   "source": [
    "### ANOVA"
   ]
  },
  {
   "cell_type": "code",
   "execution_count": 4,
   "id": "07497ca6",
   "metadata": {},
   "outputs": [],
   "source": [
    "grupo_a = np.array([165, 152, 143, 140, 155])\n",
    "grupo_b = np.array([130, 169, 164, 143, 154])\n",
    "grupo_c = np.array([163, 158, 154, 149, 156])"
   ]
  },
  {
   "cell_type": "code",
   "execution_count": 5,
   "id": "ad530924",
   "metadata": {},
   "outputs": [],
   "source": [
    "from scipy.stats import f"
   ]
  },
  {
   "cell_type": "code",
   "execution_count": 6,
   "id": "8b4a11b2",
   "metadata": {},
   "outputs": [
    {
     "data": {
      "text/plain": [
       "3.8852938346523933"
      ]
     },
     "execution_count": 6,
     "metadata": {},
     "output_type": "execute_result"
    }
   ],
   "source": [
    "f.ppf(1-0.05, dfn=2, dfd=12)"
   ]
  },
  {
   "cell_type": "code",
   "execution_count": 7,
   "id": "b9205d37",
   "metadata": {},
   "outputs": [],
   "source": [
    "from scipy.stats import f_oneway"
   ]
  },
  {
   "cell_type": "code",
   "execution_count": 8,
   "id": "0c5cc86e",
   "metadata": {},
   "outputs": [
    {
     "data": {
      "text/plain": [
       "0.7613994386091956"
      ]
     },
     "execution_count": 8,
     "metadata": {},
     "output_type": "execute_result"
    }
   ],
   "source": [
    "_, p = f_oneway(grupo_a, grupo_b, grupo_c)\n",
    "p"
   ]
  },
  {
   "cell_type": "markdown",
   "id": "6b6d84bf",
   "metadata": {},
   "source": [
    "### Teste de Tukey"
   ]
  },
  {
   "cell_type": "code",
   "execution_count": 14,
   "id": "02a39a3b",
   "metadata": {},
   "outputs": [],
   "source": [
    "import pandas as pd"
   ]
  },
  {
   "cell_type": "code",
   "execution_count": 10,
   "id": "34c54ed0",
   "metadata": {},
   "outputs": [],
   "source": [
    "dados = {'valores': [165, 152, 143, 140, 155, 130, 169, 164, 143, 154, 163, 158, 154, 149, 156],\n",
    "         'grupo'  : ['A', 'A', 'A', 'A', 'A', 'B', 'B', 'B', 'B', 'B', 'C', 'C', 'C', 'C', 'C']}"
   ]
  },
  {
   "cell_type": "code",
   "execution_count": 15,
   "id": "c135c358",
   "metadata": {},
   "outputs": [
    {
     "data": {
      "text/html": [
       "<div>\n",
       "<style scoped>\n",
       "    .dataframe tbody tr th:only-of-type {\n",
       "        vertical-align: middle;\n",
       "    }\n",
       "\n",
       "    .dataframe tbody tr th {\n",
       "        vertical-align: top;\n",
       "    }\n",
       "\n",
       "    .dataframe thead th {\n",
       "        text-align: right;\n",
       "    }\n",
       "</style>\n",
       "<table border=\"1\" class=\"dataframe\">\n",
       "  <thead>\n",
       "    <tr style=\"text-align: right;\">\n",
       "      <th></th>\n",
       "      <th>valores</th>\n",
       "      <th>grupo</th>\n",
       "    </tr>\n",
       "  </thead>\n",
       "  <tbody>\n",
       "    <tr>\n",
       "      <th>0</th>\n",
       "      <td>165</td>\n",
       "      <td>A</td>\n",
       "    </tr>\n",
       "    <tr>\n",
       "      <th>1</th>\n",
       "      <td>152</td>\n",
       "      <td>A</td>\n",
       "    </tr>\n",
       "    <tr>\n",
       "      <th>2</th>\n",
       "      <td>143</td>\n",
       "      <td>A</td>\n",
       "    </tr>\n",
       "    <tr>\n",
       "      <th>3</th>\n",
       "      <td>140</td>\n",
       "      <td>A</td>\n",
       "    </tr>\n",
       "    <tr>\n",
       "      <th>4</th>\n",
       "      <td>155</td>\n",
       "      <td>A</td>\n",
       "    </tr>\n",
       "    <tr>\n",
       "      <th>5</th>\n",
       "      <td>130</td>\n",
       "      <td>B</td>\n",
       "    </tr>\n",
       "    <tr>\n",
       "      <th>6</th>\n",
       "      <td>169</td>\n",
       "      <td>B</td>\n",
       "    </tr>\n",
       "    <tr>\n",
       "      <th>7</th>\n",
       "      <td>164</td>\n",
       "      <td>B</td>\n",
       "    </tr>\n",
       "    <tr>\n",
       "      <th>8</th>\n",
       "      <td>143</td>\n",
       "      <td>B</td>\n",
       "    </tr>\n",
       "    <tr>\n",
       "      <th>9</th>\n",
       "      <td>154</td>\n",
       "      <td>B</td>\n",
       "    </tr>\n",
       "    <tr>\n",
       "      <th>10</th>\n",
       "      <td>163</td>\n",
       "      <td>C</td>\n",
       "    </tr>\n",
       "    <tr>\n",
       "      <th>11</th>\n",
       "      <td>158</td>\n",
       "      <td>C</td>\n",
       "    </tr>\n",
       "    <tr>\n",
       "      <th>12</th>\n",
       "      <td>154</td>\n",
       "      <td>C</td>\n",
       "    </tr>\n",
       "    <tr>\n",
       "      <th>13</th>\n",
       "      <td>149</td>\n",
       "      <td>C</td>\n",
       "    </tr>\n",
       "    <tr>\n",
       "      <th>14</th>\n",
       "      <td>156</td>\n",
       "      <td>C</td>\n",
       "    </tr>\n",
       "  </tbody>\n",
       "</table>\n",
       "</div>"
      ],
      "text/plain": [
       "    valores grupo\n",
       "0       165     A\n",
       "1       152     A\n",
       "2       143     A\n",
       "3       140     A\n",
       "4       155     A\n",
       "5       130     B\n",
       "6       169     B\n",
       "7       164     B\n",
       "8       143     B\n",
       "9       154     B\n",
       "10      163     C\n",
       "11      158     C\n",
       "12      154     C\n",
       "13      149     C\n",
       "14      156     C"
      ]
     },
     "execution_count": 15,
     "metadata": {},
     "output_type": "execute_result"
    }
   ],
   "source": [
    "df = pd.DataFrame(dados)\n",
    "df"
   ]
  },
  {
   "cell_type": "code",
   "execution_count": 16,
   "id": "548e968e",
   "metadata": {},
   "outputs": [],
   "source": [
    "from statsmodels.stats.multicomp import MultiComparison"
   ]
  },
  {
   "cell_type": "code",
   "execution_count": 18,
   "id": "4456e1cf",
   "metadata": {},
   "outputs": [],
   "source": [
    "compara_grupos = MultiComparison(df['valores'], df['grupo'])"
   ]
  },
  {
   "cell_type": "code",
   "execution_count": 20,
   "id": "16324f8c",
   "metadata": {},
   "outputs": [
    {
     "name": "stdout",
     "output_type": "stream",
     "text": [
      " Multiple Comparison of Means - Tukey HSD, FWER=0.05 \n",
      "=====================================================\n",
      "group1 group2 meandiff p-adj   lower    upper  reject\n",
      "-----------------------------------------------------\n",
      "     A      B      1.0 0.9891 -17.9023 19.9023  False\n",
      "     A      C      5.0 0.7648 -13.9023 23.9023  False\n",
      "     B      C      4.0 0.8411 -14.9023 22.9023  False\n",
      "-----------------------------------------------------\n"
     ]
    }
   ],
   "source": [
    "teste = compara_grupos.tukeyhsd()\n",
    "print(teste)"
   ]
  },
  {
   "cell_type": "code",
   "execution_count": 22,
   "id": "7ef7729d",
   "metadata": {},
   "outputs": [
    {
     "data": {
      "image/png": "[encoded data removed]",
      "text/plain": [
       "<Figure size 720x432 with 1 Axes>"
      ]
     },
     "metadata": {
      "needs_background": "light"
     },
     "output_type": "display_data"
    }
   ],
   "source": [
    "teste.plot_simultaneous();"
   ]
  },
  {
   "cell_type": "markdown",
   "id": "5f36560b",
   "metadata": {},
   "source": [
    "### Seleção de atributos com ANOVA"
   ]
  },
  {
   "cell_type": "code",
   "execution_count": 31,
   "id": "d9f51551",
   "metadata": {},
   "outputs": [],
   "source": [
    "from sklearn.feature_selection import f_classif"
   ]
  },
  {
   "cell_type": "code",
   "execution_count": 43,
   "id": "58252731",
   "metadata": {},
   "outputs": [],
   "source": [
    "selecao = SelectFdr(f_classif, alpha=0.01)\n",
    "X_novo_2 = selecao.fit_transform(X, y)"
   ]
  },
  {
   "cell_type": "code",
   "execution_count": 44,
   "id": "41565cbc",
   "metadata": {},
   "outputs": [
    {
     "data": {
      "text/plain": [
       "((3279, 1558), (3279, 433), (3279, 433))"
      ]
     },
     "execution_count": 44,
     "metadata": {},
     "output_type": "execute_result"
    }
   ],
   "source": [
    "X.shape, X_novo.shape, X_novo_2.shape"
   ]
  },
  {
   "cell_type": "code",
   "execution_count": 45,
   "id": "0fd8ff0e",
   "metadata": {},
   "outputs": [
    {
     "data": {
      "text/plain": [
       "array([1.31095977e-005, 1.19510994e-200, 4.91337302e-016, ...,\n",
       "       1.35872010e-042, 3.77636040e-012, 9.35989125e-002])"
      ]
     },
     "execution_count": 45,
     "metadata": {},
     "output_type": "execute_result"
    }
   ],
   "source": [
    "selecao.pvalues_"
   ]
  },
  {
   "cell_type": "code",
   "execution_count": 46,
   "id": "27351d60",
   "metadata": {},
   "outputs": [
    {
     "data": {
      "text/plain": [
       "476"
      ]
     },
     "execution_count": 46,
     "metadata": {},
     "output_type": "execute_result"
    }
   ],
   "source": [
    "np.sum(selecao.pvalues_ < 0.01)"
   ]
  },
  {
   "cell_type": "code",
   "execution_count": 47,
   "id": "936508db",
   "metadata": {},
   "outputs": [
    {
     "data": {
      "text/html": [
       "<style>#sk-container-id-1 {color: black;background-color: white;}#sk-container-id-1 pre{padding: 0;}#sk-container-id-1 div.sk-toggleable {background-color: white;}#sk-container-id-1 label.sk-toggleable__label {cursor: pointer;display: block;width: 100%;margin-bottom: 0;padding: 0.3em;box-sizing: border-box;text-align: center;}#sk-container-id-1 label.sk-toggleable__label-arrow:before {content: \"▸\";float: left;margin-right: 0.25em;color: #696969;}#sk-container-id-1 label.sk-toggleable__label-arrow:hover:before {color: black;}#sk-container-id-1 div.sk-estimator:hover label.sk-toggleable__label-arrow:before {color: black;}#sk-container-id-1 div.sk-toggleable__content {max-height: 0;max-width: 0;overflow: hidden;text-align: left;background-color: #f0f8ff;}#sk-container-id-1 div.sk-toggleable__content pre {margin: 0.2em;color: black;border-radius: 0.25em;background-color: #f0f8ff;}#sk-container-id-1 input.sk-toggleable__control:checked~div.sk-toggleable__content {max-height: 200px;max-width: 100%;overflow: auto;}#sk-container-id-1 input.sk-toggleable__control:checked~label.sk-toggleable__label-arrow:before {content: \"▾\";}#sk-container-id-1 div.sk-estimator input.sk-toggleable__control:checked~label.sk-toggleable__label {background-color: #d4ebff;}#sk-container-id-1 div.sk-label input.sk-toggleable__control:checked~label.sk-toggleable__label {background-color: #d4ebff;}#sk-container-id-1 input.sk-hidden--visually {border: 0;clip: rect(1px 1px 1px 1px);clip: rect(1px, 1px, 1px, 1px);height: 1px;margin: -1px;overflow: hidden;padding: 0;position: absolute;width: 1px;}#sk-container-id-1 div.sk-estimator {font-family: monospace;background-color: #f0f8ff;border: 1px dotted black;border-radius: 0.25em;box-sizing: border-box;margin-bottom: 0.5em;}#sk-container-id-1 div.sk-estimator:hover {background-color: #d4ebff;}#sk-container-id-1 div.sk-parallel-item::after {content: \"\";width: 100%;border-bottom: 1px solid gray;flex-grow: 1;}#sk-container-id-1 div.sk-label:hover label.sk-toggleable__label {background-color: #d4ebff;}#sk-container-id-1 div.sk-serial::before {content: \"\";position: absolute;border-left: 1px solid gray;box-sizing: border-box;top: 0;bottom: 0;left: 50%;z-index: 0;}#sk-container-id-1 div.sk-serial {display: flex;flex-direction: column;align-items: center;background-color: white;padding-right: 0.2em;padding-left: 0.2em;position: relative;}#sk-container-id-1 div.sk-item {position: relative;z-index: 1;}#sk-container-id-1 div.sk-parallel {display: flex;align-items: stretch;justify-content: center;background-color: white;position: relative;}#sk-container-id-1 div.sk-item::before, #sk-container-id-1 div.sk-parallel-item::before {content: \"\";position: absolute;border-left: 1px solid gray;box-sizing: border-box;top: 0;bottom: 0;left: 50%;z-index: -1;}#sk-container-id-1 div.sk-parallel-item {display: flex;flex-direction: column;z-index: 1;position: relative;background-color: white;}#sk-container-id-1 div.sk-parallel-item:first-child::after {align-self: flex-end;width: 50%;}#sk-container-id-1 div.sk-parallel-item:last-child::after {align-self: flex-start;width: 50%;}#sk-container-id-1 div.sk-parallel-item:only-child::after {width: 0;}#sk-container-id-1 div.sk-dashed-wrapped {border: 1px dashed gray;margin: 0 0.4em 0.5em 0.4em;box-sizing: border-box;padding-bottom: 0.4em;background-color: white;}#sk-container-id-1 div.sk-label label {font-family: monospace;font-weight: bold;display: inline-block;line-height: 1.2em;}#sk-container-id-1 div.sk-label-container {text-align: center;}#sk-container-id-1 div.sk-container {/* jupyter's `normalize.less` sets `[hidden] { display: none; }` but bootstrap.min.css set `[hidden] { display: none !important; }` so we also need the `!important` here to be able to override the default hidden behavior on the sphinx rendered scikit-learn.org. See: https://github.com/scikit-learn/scikit-learn/issues/21755 */display: inline-block !important;position: relative;}#sk-container-id-1 div.sk-text-repr-fallback {display: none;}</style><div id=\"sk-container-id-1\" class=\"sk-top-container\"><div class=\"sk-text-repr-fallback\"><pre>GaussianNB()</pre><b>In a Jupyter environment, please rerun this cell to show the HTML representation or trust the notebook. <br />On GitHub, the HTML representation is unable to render, please try loading this page with nbviewer.org.</b></div><div class=\"sk-container\" hidden><div class=\"sk-item\"><div class=\"sk-estimator sk-toggleable\"><input class=\"sk-toggleable__control sk-hidden--visually\" id=\"sk-estimator-id-1\" type=\"checkbox\" checked><label for=\"sk-estimator-id-1\" class=\"sk-toggleable__label sk-toggleable__label-arrow\">GaussianNB</label><div class=\"sk-toggleable__content\"><pre>GaussianNB()</pre></div></div></div></div></div>"
      ],
      "text/plain": [
       "GaussianNB()"
      ]
     },
     "execution_count": 47,
     "metadata": {},
     "output_type": "execute_result"
    }
   ],
   "source": [
    "naive3 = GaussianNB()\n",
    "naive3.fit(X_novo_2, y)"
   ]
  },
  {
   "cell_type": "code",
   "execution_count": 48,
   "id": "6bae9f9c",
   "metadata": {},
   "outputs": [
    {
     "data": {
      "text/plain": [
       "0.970722781335773"
      ]
     },
     "execution_count": 48,
     "metadata": {},
     "output_type": "execute_result"
    }
   ],
   "source": [
    "previsoes_3 = naive3.predict(X_novo_2)\n",
    "accuracy_score(y, previsoes_3)"
   ]
  },
  {
   "cell_type": "markdown",
   "id": "27f0b5e6",
   "metadata": {},
   "source": [
    "### Resultados dos algoritmos de machine learning"
   ]
  },
  {
   "cell_type": "code",
   "execution_count": 49,
   "id": "3a5b6485",
   "metadata": {},
   "outputs": [],
   "source": [
    "import pandas as pd\n",
    "from sklearn.naive_bayes import GaussianNB\n",
    "from sklearn.linear_model import LogisticRegression\n",
    "from sklearn.ensemble import RandomForestClassifier\n",
    "from sklearn.model_selection import cross_val_score, KFold"
   ]
  },
  {
   "cell_type": "code",
   "execution_count": 50,
   "id": "6ece3a22",
   "metadata": {},
   "outputs": [
    {
     "data": {
      "text/html": [
       "<div>\n",
       "<style scoped>\n",
       "    .dataframe tbody tr th:only-of-type {\n",
       "        vertical-align: middle;\n",
       "    }\n",
       "\n",
       "    .dataframe tbody tr th {\n",
       "        vertical-align: top;\n",
       "    }\n",
       "\n",
       "    .dataframe thead th {\n",
       "        text-align: right;\n",
       "    }\n",
       "</style>\n",
       "<table border=\"1\" class=\"dataframe\">\n",
       "  <thead>\n",
       "    <tr style=\"text-align: right;\">\n",
       "      <th></th>\n",
       "      <th>i#clientid</th>\n",
       "      <th>income</th>\n",
       "      <th>age</th>\n",
       "      <th>loan</th>\n",
       "      <th>c#default</th>\n",
       "    </tr>\n",
       "  </thead>\n",
       "  <tbody>\n",
       "    <tr>\n",
       "      <th>0</th>\n",
       "      <td>1</td>\n",
       "      <td>66155.925095</td>\n",
       "      <td>59.017015</td>\n",
       "      <td>8106.532131</td>\n",
       "      <td>0</td>\n",
       "    </tr>\n",
       "    <tr>\n",
       "      <th>1</th>\n",
       "      <td>2</td>\n",
       "      <td>34415.153966</td>\n",
       "      <td>48.117153</td>\n",
       "      <td>6564.745018</td>\n",
       "      <td>0</td>\n",
       "    </tr>\n",
       "    <tr>\n",
       "      <th>2</th>\n",
       "      <td>3</td>\n",
       "      <td>57317.170063</td>\n",
       "      <td>63.108049</td>\n",
       "      <td>8020.953296</td>\n",
       "      <td>0</td>\n",
       "    </tr>\n",
       "    <tr>\n",
       "      <th>3</th>\n",
       "      <td>4</td>\n",
       "      <td>42709.534201</td>\n",
       "      <td>45.751972</td>\n",
       "      <td>6103.642260</td>\n",
       "      <td>0</td>\n",
       "    </tr>\n",
       "    <tr>\n",
       "      <th>4</th>\n",
       "      <td>5</td>\n",
       "      <td>66952.688845</td>\n",
       "      <td>18.584336</td>\n",
       "      <td>8770.099235</td>\n",
       "      <td>1</td>\n",
       "    </tr>\n",
       "  </tbody>\n",
       "</table>\n",
       "</div>"
      ],
      "text/plain": [
       "   i#clientid        income        age         loan  c#default\n",
       "0           1  66155.925095  59.017015  8106.532131          0\n",
       "1           2  34415.153966  48.117153  6564.745018          0\n",
       "2           3  57317.170063  63.108049  8020.953296          0\n",
       "3           4  42709.534201  45.751972  6103.642260          0\n",
       "4           5  66952.688845  18.584336  8770.099235          1"
      ]
     },
     "execution_count": 50,
     "metadata": {},
     "output_type": "execute_result"
    }
   ],
   "source": [
    "df = pd.read_csv('../../dados/credit_data.csv')\n",
    "df.dropna(inplace=True)\n",
    "df.head()"
   ]
  },
  {
   "cell_type": "code",
   "execution_count": 52,
   "id": "26660bf3",
   "metadata": {},
   "outputs": [],
   "source": [
    "X = df.iloc[:, 1:4].values"
   ]
  },
  {
   "cell_type": "code",
   "execution_count": 53,
   "id": "9b08a39e",
   "metadata": {},
   "outputs": [],
   "source": [
    "y = df.iloc[:, 4].values"
   ]
  },
  {
   "cell_type": "code",
   "execution_count": 55,
   "id": "fa90b819",
   "metadata": {},
   "outputs": [
    {
     "data": {
      "text/plain": [
       "(59.0170150669292, 66155.9250950813)"
      ]
     },
     "execution_count": 55,
     "metadata": {},
     "output_type": "execute_result"
    }
   ],
   "source": [
    "min(X[0]), max(X[0])"
   ]
  },
  {
   "cell_type": "code",
   "execution_count": 56,
   "id": "a587609d",
   "metadata": {},
   "outputs": [],
   "source": [
    "from sklearn.preprocessing import StandardScaler\n",
    "scaler = StandardScaler()\n",
    "X = scaler.fit_transform(X)"
   ]
  },
  {
   "cell_type": "code",
   "execution_count": 57,
   "id": "e4950e88",
   "metadata": {},
   "outputs": [
    {
     "data": {
      "text/plain": [
       "(1.2019070702053862, 1.4538977547824534)"
      ]
     },
     "execution_count": 57,
     "metadata": {},
     "output_type": "execute_result"
    }
   ],
   "source": [
    "min(X[0]), max(X[0])"
   ]
  },
  {
   "cell_type": "code",
   "execution_count": 58,
   "id": "c640ccb1",
   "metadata": {},
   "outputs": [],
   "source": [
    "resultados_naive_cv = []\n",
    "resultados_logistica_cv = []\n",
    "resultados_forest_cv = []\n",
    "\n",
    "for i in range(30):\n",
    "    kfold = KFold(n_splits = 10, shuffle = True, random_state = i)\n",
    "    \n",
    "    naive_bayes = GaussianNB()\n",
    "    scores = cross_val_score(naive_bayes, X, y, cv = kfold)\n",
    "    resultados_naive_cv.append(scores.mean())\n",
    "    \n",
    "    logistica = LogisticRegression()\n",
    "    scores = cross_val_score(logistica, X, y, cv = kfold)\n",
    "    resultados_logistica_cv.append(scores.mean())\n",
    "    \n",
    "    random_forest = RandomForestClassifier()\n",
    "    scores = cross_val_score(random_forest, X, y, cv = kfold)\n",
    "    resultados_forest_cv.append(scores.mean())\n",
    "\n",
    "resultados_naive_cv = np.array(resultados_naive_cv)\n",
    "resultados_logistica_cv = np.array(resultados_logistica_cv)\n",
    "resultados_forest_cv = np.array(resultados_forest_cv)"
   ]
  },
  {
   "cell_type": "code",
   "execution_count": 59,
   "id": "e1e2feb4",
   "metadata": {},
   "outputs": [
    {
     "data": {
      "text/plain": [
       "(0.9249859296482411, 0.9457008375209381, 0.9868804020100501)"
      ]
     },
     "execution_count": 59,
     "metadata": {},
     "output_type": "execute_result"
    }
   ],
   "source": [
    "resultados_naive_cv.mean(), resultados_logistica_cv.mean(), resultados_forest_cv.mean()"
   ]
  },
  {
   "cell_type": "markdown",
   "id": "4c208919",
   "metadata": {},
   "source": [
    "### Teste de hipótese de Shapiro-Wilk"
   ]
  },
  {
   "cell_type": "code",
   "execution_count": 60,
   "id": "49f3bdfb",
   "metadata": {},
   "outputs": [],
   "source": [
    "alpha = 0.05"
   ]
  },
  {
   "cell_type": "code",
   "execution_count": 61,
   "id": "c025912f",
   "metadata": {},
   "outputs": [],
   "source": [
    "from scipy.stats import shapiro"
   ]
  },
  {
   "cell_type": "code",
   "execution_count": 62,
   "id": "23c59592",
   "metadata": {},
   "outputs": [
    {
     "data": {
      "text/plain": [
       "(ShapiroResult(statistic=0.9646671414375305, pvalue=0.4051830470561981),\n",
       " ShapiroResult(statistic=0.9463143944740295, pvalue=0.13459184765815735),\n",
       " ShapiroResult(statistic=0.9554842710494995, pvalue=0.23648448288440704))"
      ]
     },
     "execution_count": 62,
     "metadata": {},
     "output_type": "execute_result"
    }
   ],
   "source": [
    "shapiro(resultados_naive_cv), shapiro(resultados_logistica_cv), shapiro(resultados_forest_cv)"
   ]
  },
  {
   "cell_type": "code",
   "execution_count": 63,
   "id": "28670482",
   "metadata": {},
   "outputs": [],
   "source": [
    "import seaborn as sns"
   ]
  },
  {
   "cell_type": "code",
   "execution_count": 77,
   "id": "78397f7b",
   "metadata": {},
   "outputs": [
    {
     "data": {
      "image/png": "[encoded data removed]",
      "text/plain": [
       "<Figure size 432x288 with 1 Axes>"
      ]
     },
     "metadata": {
      "needs_background": "light"
     },
     "output_type": "display_data"
    }
   ],
   "source": [
    "sns.histplot(resultados_naive_cv, kde=True);"
   ]
  },
  {
   "cell_type": "code",
   "execution_count": 76,
   "id": "b207bf06",
   "metadata": {},
   "outputs": [
    {
     "data": {
      "image/png": "[encoded data removed]",
      "text/plain": [
       "<Figure size 432x288 with 1 Axes>"
      ]
     },
     "metadata": {
      "needs_background": "light"
     },
     "output_type": "display_data"
    }
   ],
   "source": [
    "sns.histplot(resultados_logistica_cv, kde=True);"
   ]
  },
  {
   "cell_type": "code",
   "execution_count": 75,
   "id": "2f95fcb4",
   "metadata": {},
   "outputs": [
    {
     "data": {
      "image/png": "[encoded data removed]",
      "text/plain": [
       "<Figure size 432x288 with 1 Axes>"
      ]
     },
     "metadata": {
      "needs_background": "light"
     },
     "output_type": "display_data"
    }
   ],
   "source": [
    "sns.histplot(resultados_forest_cv, kde=True);"
   ]
  },
  {
   "cell_type": "markdown",
   "id": "38dabaa9",
   "metadata": {},
   "source": [
    "### Teste de hipótese de D'AgostinhoK^2"
   ]
  },
  {
   "cell_type": "code",
   "execution_count": 71,
   "id": "2e61f8e3",
   "metadata": {},
   "outputs": [],
   "source": [
    "from scipy.stats import normaltest"
   ]
  },
  {
   "cell_type": "code",
   "execution_count": 72,
   "id": "4201e84d",
   "metadata": {},
   "outputs": [
    {
     "data": {
      "text/plain": [
       "(NormaltestResult(statistic=0.8391668731677201, pvalue=0.6573205784978502),\n",
       " NormaltestResult(statistic=4.079254883823804, pvalue=0.1300771631514313),\n",
       " NormaltestResult(statistic=1.0061569456297585, pvalue=0.6046663426623394))"
      ]
     },
     "execution_count": 72,
     "metadata": {},
     "output_type": "execute_result"
    }
   ],
   "source": [
    "normaltest(resultados_naive_cv), normaltest(resultados_logistica_cv), normaltest(resultados_forest_cv)"
   ]
  },
  {
   "cell_type": "markdown",
   "id": "b753ee05",
   "metadata": {},
   "source": [
    "### Teste de hipótese de Anderson-Darling"
   ]
  },
  {
   "cell_type": "code",
   "execution_count": 73,
   "id": "4b9229ab",
   "metadata": {},
   "outputs": [],
   "source": [
    "from scipy.stats import anderson"
   ]
  },
  {
   "cell_type": "code",
   "execution_count": 74,
   "id": "c730eeef",
   "metadata": {},
   "outputs": [
    {
     "data": {
      "text/plain": [
       "(0.5456346672421084, 0.6048933015735969, 0.5397621559235724)"
      ]
     },
     "execution_count": 74,
     "metadata": {},
     "output_type": "execute_result"
    }
   ],
   "source": [
    "anderson(resultados_naive_cv).statistic, anderson(resultados_logistica_cv).statistic, anderson(resultados_forest_cv).statistic"
   ]
  },
  {
   "cell_type": "markdown",
   "id": "1c013892",
   "metadata": {},
   "source": [
    "### Testes não paramétricos"
   ]
  },
  {
   "cell_type": "markdown",
   "id": "dce19f22",
   "metadata": {},
   "source": [
    "### Teste de Wilcoxon Signed-Rank"
   ]
  },
  {
   "cell_type": "code",
   "execution_count": 78,
   "id": "63959b7c",
   "metadata": {},
   "outputs": [],
   "source": [
    "from scipy.stats import wilcoxon"
   ]
  },
  {
   "cell_type": "code",
   "execution_count": 79,
   "id": "3a66bb70",
   "metadata": {},
   "outputs": [
    {
     "data": {
      "text/plain": [
       "1.7333066441991056e-06"
      ]
     },
     "execution_count": 79,
     "metadata": {},
     "output_type": "execute_result"
    }
   ],
   "source": [
    "_, p = wilcoxon(resultados_naive_cv, resultados_logistica_cv)\n",
    "p"
   ]
  },
  {
   "cell_type": "code",
   "execution_count": 80,
   "id": "eeffe132",
   "metadata": {},
   "outputs": [
    {
     "data": {
      "text/plain": [
       "1.7343976283205784e-06"
      ]
     },
     "execution_count": 80,
     "metadata": {},
     "output_type": "execute_result"
    }
   ],
   "source": [
    "_, p = wilcoxon(resultados_naive_cv, resultados_forest_cv)\n",
    "p"
   ]
  },
  {
   "cell_type": "code",
   "execution_count": 81,
   "id": "6d64623e",
   "metadata": {},
   "outputs": [
    {
     "data": {
      "text/plain": [
       "1.7343976283205784e-06"
      ]
     },
     "execution_count": 81,
     "metadata": {},
     "output_type": "execute_result"
    }
   ],
   "source": [
    "_, p = wilcoxon(resultados_logistica_cv, resultados_forest_cv)\n",
    "p"
   ]
  },
  {
   "cell_type": "markdown",
   "id": "4ce84887",
   "metadata": {},
   "source": [
    "### Teste de Friedman"
   ]
  },
  {
   "cell_type": "code",
   "execution_count": 82,
   "id": "2a19e715",
   "metadata": {},
   "outputs": [],
   "source": [
    "from scipy.stats import friedmanchisquare"
   ]
  },
  {
   "cell_type": "code",
   "execution_count": 83,
   "id": "31f86a49",
   "metadata": {},
   "outputs": [],
   "source": [
    "_, p = friedmanchisquare(resultados_naive_cv, resultados_logistica_cv, resultados_forest_cv)"
   ]
  },
  {
   "cell_type": "code",
   "execution_count": 84,
   "id": "dfd1378c",
   "metadata": {},
   "outputs": [
    {
     "data": {
      "text/plain": [
       "9.357622968840163e-14"
      ]
     },
     "execution_count": 84,
     "metadata": {},
     "output_type": "execute_result"
    }
   ],
   "source": [
    "p"
   ]
  },
  {
   "cell_type": "markdown",
   "id": "2d78773c",
   "metadata": {},
   "source": [
    "### Exercicio ANOVA"
   ]
  },
  {
   "cell_type": "code",
   "execution_count": 86,
   "id": "602f81bf",
   "metadata": {},
   "outputs": [],
   "source": [
    "from scipy.stats import f_oneway\n",
    "from statsmodels.stats.multicomp import MultiComparison"
   ]
  },
  {
   "cell_type": "code",
   "execution_count": 87,
   "id": "e832dde4",
   "metadata": {},
   "outputs": [],
   "source": [
    "_, p = f_oneway(resultados_naive_cv, resultados_logistica_cv, resultados_forest_cv)"
   ]
  },
  {
   "cell_type": "code",
   "execution_count": 88,
   "id": "a0224c22",
   "metadata": {},
   "outputs": [
    {
     "data": {
      "text/plain": [
       "8.722257763144029e-124"
      ]
     },
     "execution_count": 88,
     "metadata": {},
     "output_type": "execute_result"
    }
   ],
   "source": [
    "p"
   ]
  },
  {
   "cell_type": "code",
   "execution_count": 89,
   "id": "07bda055",
   "metadata": {},
   "outputs": [
    {
     "name": "stdout",
     "output_type": "stream",
     "text": [
      "Hipótese nula rejeitada. Dados são diferentes\n"
     ]
    }
   ],
   "source": [
    "if p <= alpha:\n",
    "    print('Hipótese nula rejeitada. Dados são diferentes')\n",
    "else:\n",
    "    print('Hipótese alternativa rejeitada')"
   ]
  },
  {
   "cell_type": "code",
   "execution_count": null,
   "id": "d67958a7",
   "metadata": {},
   "outputs": [],
   "source": []
  }
 ],
 "metadata": {
  "kernelspec": {
   "display_name": "Python 3 (ipykernel)",
   "language": "python",
   "name": "python3"
  },
  "language_info": {
   "codemirror_mode": {
    "name": "ipython",
    "version": 3
   },
   "file_extension": ".py",
   "mimetype": "text/x-python",
   "name": "python",
   "nbconvert_exporter": "python",
   "pygments_lexer": "ipython3",
   "version": "3.9.12"
  }
 },
 "nbformat": 4,
 "nbformat_minor": 5
}
