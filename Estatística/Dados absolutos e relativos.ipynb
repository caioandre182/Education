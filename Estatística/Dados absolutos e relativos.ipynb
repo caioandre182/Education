{
 "cells": [
  {
   "cell_type": "markdown",
   "id": "19024d03",
   "metadata": {},
   "source": [
    "### Carregando base de dados"
   ]
  },
  {
   "cell_type": "code",
   "execution_count": 1,
   "id": "0bc4a6ff",
   "metadata": {},
   "outputs": [],
   "source": [
    "import pandas as pd\n",
    "import numpy as np\n",
    "import random"
   ]
  },
  {
   "cell_type": "markdown",
   "id": "4fba1a54",
   "metadata": {},
   "source": [
    "### Percentuais"
   ]
  },
  {
   "cell_type": "code",
   "execution_count": 2,
   "id": "dc25b5f9",
   "metadata": {},
   "outputs": [],
   "source": [
    "dados = {'emprego' : ['Administrador_banco_dados', 'Programador', 'Arquiteto_reder'],\n",
    "         'nova_jersey' : [97350,82080, 112840],\n",
    "         'florida' : [77140, 71540, 62310]}"
   ]
  },
  {
   "cell_type": "code",
   "execution_count": 3,
   "id": "7d336f74",
   "metadata": {},
   "outputs": [
    {
     "data": {
      "text/html": [
       "<div>\n",
       "<style scoped>\n",
       "    .dataframe tbody tr th:only-of-type {\n",
       "        vertical-align: middle;\n",
       "    }\n",
       "\n",
       "    .dataframe tbody tr th {\n",
       "        vertical-align: top;\n",
       "    }\n",
       "\n",
       "    .dataframe thead th {\n",
       "        text-align: right;\n",
       "    }\n",
       "</style>\n",
       "<table border=\"1\" class=\"dataframe\">\n",
       "  <thead>\n",
       "    <tr style=\"text-align: right;\">\n",
       "      <th></th>\n",
       "      <th>emprego</th>\n",
       "      <th>nova_jersey</th>\n",
       "      <th>florida</th>\n",
       "    </tr>\n",
       "  </thead>\n",
       "  <tbody>\n",
       "    <tr>\n",
       "      <th>0</th>\n",
       "      <td>Administrador_banco_dados</td>\n",
       "      <td>97350</td>\n",
       "      <td>77140</td>\n",
       "    </tr>\n",
       "    <tr>\n",
       "      <th>1</th>\n",
       "      <td>Programador</td>\n",
       "      <td>82080</td>\n",
       "      <td>71540</td>\n",
       "    </tr>\n",
       "    <tr>\n",
       "      <th>2</th>\n",
       "      <td>Arquiteto_reder</td>\n",
       "      <td>112840</td>\n",
       "      <td>62310</td>\n",
       "    </tr>\n",
       "  </tbody>\n",
       "</table>\n",
       "</div>"
      ],
      "text/plain": [
       "                     emprego  nova_jersey  florida\n",
       "0  Administrador_banco_dados        97350    77140\n",
       "1                Programador        82080    71540\n",
       "2            Arquiteto_reder       112840    62310"
      ]
     },
     "execution_count": 3,
     "metadata": {},
     "output_type": "execute_result"
    }
   ],
   "source": [
    "df = pd.DataFrame(dados)\n",
    "df"
   ]
  },
  {
   "cell_type": "code",
   "execution_count": 4,
   "id": "c4ac00ef",
   "metadata": {},
   "outputs": [
    {
     "data": {
      "text/plain": [
       "292270"
      ]
     },
     "execution_count": 4,
     "metadata": {},
     "output_type": "execute_result"
    }
   ],
   "source": [
    "df['nova_jersey'].sum()"
   ]
  },
  {
   "cell_type": "code",
   "execution_count": 5,
   "id": "1963c1f0",
   "metadata": {},
   "outputs": [
    {
     "data": {
      "text/plain": [
       "210990"
      ]
     },
     "execution_count": 5,
     "metadata": {},
     "output_type": "execute_result"
    }
   ],
   "source": [
    "df['florida'].sum()"
   ]
  },
  {
   "cell_type": "code",
   "execution_count": 6,
   "id": "450a21ef",
   "metadata": {},
   "outputs": [],
   "source": [
    "df['%nova_jersey'] = (df['nova_jersey']  / df['nova_jersey'].sum()) * 100"
   ]
  },
  {
   "cell_type": "code",
   "execution_count": 7,
   "id": "6185e5e9",
   "metadata": {},
   "outputs": [],
   "source": [
    "df['%florida'] = (df['florida']  / df['florida'].sum()) * 100"
   ]
  },
  {
   "cell_type": "code",
   "execution_count": 8,
   "id": "dc32ab5d",
   "metadata": {},
   "outputs": [
    {
     "data": {
      "text/html": [
       "<div>\n",
       "<style scoped>\n",
       "    .dataframe tbody tr th:only-of-type {\n",
       "        vertical-align: middle;\n",
       "    }\n",
       "\n",
       "    .dataframe tbody tr th {\n",
       "        vertical-align: top;\n",
       "    }\n",
       "\n",
       "    .dataframe thead th {\n",
       "        text-align: right;\n",
       "    }\n",
       "</style>\n",
       "<table border=\"1\" class=\"dataframe\">\n",
       "  <thead>\n",
       "    <tr style=\"text-align: right;\">\n",
       "      <th></th>\n",
       "      <th>emprego</th>\n",
       "      <th>nova_jersey</th>\n",
       "      <th>florida</th>\n",
       "      <th>%nova_jersey</th>\n",
       "      <th>%florida</th>\n",
       "    </tr>\n",
       "  </thead>\n",
       "  <tbody>\n",
       "    <tr>\n",
       "      <th>0</th>\n",
       "      <td>Administrador_banco_dados</td>\n",
       "      <td>97350</td>\n",
       "      <td>77140</td>\n",
       "      <td>33.308242</td>\n",
       "      <td>36.560974</td>\n",
       "    </tr>\n",
       "    <tr>\n",
       "      <th>1</th>\n",
       "      <td>Programador</td>\n",
       "      <td>82080</td>\n",
       "      <td>71540</td>\n",
       "      <td>28.083621</td>\n",
       "      <td>33.906820</td>\n",
       "    </tr>\n",
       "    <tr>\n",
       "      <th>2</th>\n",
       "      <td>Arquiteto_reder</td>\n",
       "      <td>112840</td>\n",
       "      <td>62310</td>\n",
       "      <td>38.608136</td>\n",
       "      <td>29.532205</td>\n",
       "    </tr>\n",
       "  </tbody>\n",
       "</table>\n",
       "</div>"
      ],
      "text/plain": [
       "                     emprego  nova_jersey  florida  %nova_jersey   %florida\n",
       "0  Administrador_banco_dados        97350    77140     33.308242  36.560974\n",
       "1                Programador        82080    71540     28.083621  33.906820\n",
       "2            Arquiteto_reder       112840    62310     38.608136  29.532205"
      ]
     },
     "execution_count": 8,
     "metadata": {},
     "output_type": "execute_result"
    }
   ],
   "source": [
    "df"
   ]
  }
 ],
 "metadata": {
  "kernelspec": {
   "display_name": "Python 3 (ipykernel)",
   "language": "python",
   "name": "python3"
  },
  "language_info": {
   "codemirror_mode": {
    "name": "ipython",
    "version": 3
   },
   "file_extension": ".py",
   "mimetype": "text/x-python",
   "name": "python",
   "nbconvert_exporter": "python",
   "pygments_lexer": "ipython3",
   "version": "3.9.12"
  }
 },
 "nbformat": 4,
 "nbformat_minor": 5
}
