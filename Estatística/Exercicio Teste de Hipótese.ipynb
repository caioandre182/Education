{
 "cells": [
  {
   "cell_type": "markdown",
   "id": "f808af7b",
   "metadata": {},
   "source": [
    "## Exercício teste de hipótese"
   ]
  },
  {
   "cell_type": "markdown",
   "id": "22f41b29",
   "metadata": {},
   "source": [
    "### Bibliotecas"
   ]
  },
  {
   "cell_type": "code",
   "execution_count": 1,
   "id": "9843d28d",
   "metadata": {},
   "outputs": [],
   "source": [
    "import numpy as np\n",
    "import math\n",
    "from scipy.stats import norm"
   ]
  },
  {
   "cell_type": "markdown",
   "id": "685909d5",
   "metadata": {},
   "source": [
    "### Base de dados"
   ]
  },
  {
   "cell_type": "code",
   "execution_count": 3,
   "id": "8739230e",
   "metadata": {},
   "outputs": [],
   "source": [
    "dados_originais = np.array([149. , 160. , 147. , 189. , 175. , 168. , 156. , 160. , 152.])"
   ]
  },
  {
   "cell_type": "code",
   "execution_count": 4,
   "id": "6a3da7a6",
   "metadata": {},
   "outputs": [
    {
     "data": {
      "text/plain": [
       "(161.77777777777777, 12.786953227391823)"
      ]
     },
     "execution_count": 4,
     "metadata": {},
     "output_type": "execute_result"
    }
   ],
   "source": [
    "dados_originais.mean(), np.std(dados_originais)"
   ]
  },
  {
   "cell_type": "code",
   "execution_count": 5,
   "id": "7b2820ae",
   "metadata": {},
   "outputs": [
    {
     "data": {
      "text/plain": [
       "array([151.98, 163.2 , 149.94, 192.78, 178.5 , 171.36, 159.12, 163.2 ,\n",
       "       155.04])"
      ]
     },
     "execution_count": 5,
     "metadata": {},
     "output_type": "execute_result"
    }
   ],
   "source": [
    "dados_novos = dados_originais * 1.02\n",
    "dados_novos"
   ]
  },
  {
   "cell_type": "code",
   "execution_count": 6,
   "id": "055a91e0",
   "metadata": {},
   "outputs": [
    {
     "data": {
      "text/plain": [
       "(165.01333333333332, 13.042692291939664)"
      ]
     },
     "execution_count": 6,
     "metadata": {},
     "output_type": "execute_result"
    }
   ],
   "source": [
    "dados_novos.mean(), np.std(dados_novos)"
   ]
  },
  {
   "cell_type": "code",
   "execution_count": 7,
   "id": "5fc6b2ea",
   "metadata": {},
   "outputs": [],
   "source": [
    "from scipy.stats import ttest_rel"
   ]
  },
  {
   "cell_type": "code",
   "execution_count": 8,
   "id": "212a7446",
   "metadata": {},
   "outputs": [
    {
     "data": {
      "text/plain": [
       "4.072922493930298e-10"
      ]
     },
     "execution_count": 8,
     "metadata": {},
     "output_type": "execute_result"
    }
   ],
   "source": [
    "_, p = ttest_rel(dados_originais, dados_novos)\n",
    "p"
   ]
  },
  {
   "cell_type": "code",
   "execution_count": 9,
   "id": "89db0ee6",
   "metadata": {},
   "outputs": [
    {
     "name": "stdout",
     "output_type": "stream",
     "text": [
      "Hipotese nula rejeitada\n"
     ]
    }
   ],
   "source": [
    "alpha = 0.01\n",
    "if p < alpha:\n",
    "    print('Hipotese nula rejeitada')\n",
    "else:\n",
    "    print('Hipotese alternativa rejeitada')"
   ]
  }
 ],
 "metadata": {
  "kernelspec": {
   "display_name": "Python 3 (ipykernel)",
   "language": "python",
   "name": "python3"
  },
  "language_info": {
   "codemirror_mode": {
    "name": "ipython",
    "version": 3
   },
   "file_extension": ".py",
   "mimetype": "text/x-python",
   "name": "python",
   "nbconvert_exporter": "python",
   "pygments_lexer": "ipython3",
   "version": "3.9.12"
  }
 },
 "nbformat": 4,
 "nbformat_minor": 5
}
