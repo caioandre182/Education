{
 "cells": [
  {
   "cell_type": "code",
   "execution_count": 1,
   "id": "5cf3c0bc",
   "metadata": {},
   "outputs": [],
   "source": [
    "import pandas as pd\n",
    "import random\n",
    "import numpy as np\n",
    "\n",
    "from sklearn.model_selection import StratifiedShuffleSplit"
   ]
  },
  {
   "cell_type": "code",
   "execution_count": 2,
   "id": "78638579",
   "metadata": {},
   "outputs": [],
   "source": [
    "df = pd.read_csv('../../dados/credit_data.csv')"
   ]
  },
  {
   "cell_type": "code",
   "execution_count": 45,
   "id": "e33c1830",
   "metadata": {},
   "outputs": [
    {
     "name": "stdout",
     "output_type": "stream",
     "text": [
      "(2000, 6)\n"
     ]
    },
    {
     "data": {
      "text/html": [
       "<div>\n",
       "<style scoped>\n",
       "    .dataframe tbody tr th:only-of-type {\n",
       "        vertical-align: middle;\n",
       "    }\n",
       "\n",
       "    .dataframe tbody tr th {\n",
       "        vertical-align: top;\n",
       "    }\n",
       "\n",
       "    .dataframe thead th {\n",
       "        text-align: right;\n",
       "    }\n",
       "</style>\n",
       "<table border=\"1\" class=\"dataframe\">\n",
       "  <thead>\n",
       "    <tr style=\"text-align: right;\">\n",
       "      <th></th>\n",
       "      <th>i#clientid</th>\n",
       "      <th>income</th>\n",
       "      <th>age</th>\n",
       "      <th>loan</th>\n",
       "      <th>c#default</th>\n",
       "      <th>grupo</th>\n",
       "    </tr>\n",
       "  </thead>\n",
       "  <tbody>\n",
       "    <tr>\n",
       "      <th>0</th>\n",
       "      <td>1</td>\n",
       "      <td>66155.925095</td>\n",
       "      <td>59.017015</td>\n",
       "      <td>8106.532131</td>\n",
       "      <td>0</td>\n",
       "      <td>0</td>\n",
       "    </tr>\n",
       "    <tr>\n",
       "      <th>1</th>\n",
       "      <td>2</td>\n",
       "      <td>34415.153966</td>\n",
       "      <td>48.117153</td>\n",
       "      <td>6564.745018</td>\n",
       "      <td>0</td>\n",
       "      <td>0</td>\n",
       "    </tr>\n",
       "    <tr>\n",
       "      <th>2</th>\n",
       "      <td>3</td>\n",
       "      <td>57317.170063</td>\n",
       "      <td>63.108049</td>\n",
       "      <td>8020.953296</td>\n",
       "      <td>0</td>\n",
       "      <td>0</td>\n",
       "    </tr>\n",
       "    <tr>\n",
       "      <th>3</th>\n",
       "      <td>4</td>\n",
       "      <td>42709.534201</td>\n",
       "      <td>45.751972</td>\n",
       "      <td>6103.642260</td>\n",
       "      <td>0</td>\n",
       "      <td>0</td>\n",
       "    </tr>\n",
       "    <tr>\n",
       "      <th>4</th>\n",
       "      <td>5</td>\n",
       "      <td>66952.688845</td>\n",
       "      <td>18.584336</td>\n",
       "      <td>8770.099235</td>\n",
       "      <td>1</td>\n",
       "      <td>0</td>\n",
       "    </tr>\n",
       "  </tbody>\n",
       "</table>\n",
       "</div>"
      ],
      "text/plain": [
       "   i#clientid        income        age         loan  c#default  grupo\n",
       "0           1  66155.925095  59.017015  8106.532131          0      0\n",
       "1           2  34415.153966  48.117153  6564.745018          0      0\n",
       "2           3  57317.170063  63.108049  8020.953296          0      0\n",
       "3           4  42709.534201  45.751972  6103.642260          0      0\n",
       "4           5  66952.688845  18.584336  8770.099235          1      0"
      ]
     },
     "execution_count": 45,
     "metadata": {},
     "output_type": "execute_result"
    }
   ],
   "source": [
    "print(df.shape)\n",
    "df.head()"
   ]
  },
  {
   "cell_type": "markdown",
   "id": "d5e41f0d",
   "metadata": {},
   "source": [
    "### Amostragem aleatória simples"
   ]
  },
  {
   "cell_type": "code",
   "execution_count": 4,
   "id": "0accf2bf",
   "metadata": {},
   "outputs": [],
   "source": [
    "def amostragem_aleatoria_simples(df, n, seed):\n",
    "    SEED = seed\n",
    "    df_amostragem = df.sample(n=n, random_state=SEED)\n",
    "    return df_amostragem"
   ]
  },
  {
   "cell_type": "code",
   "execution_count": 6,
   "id": "d5381658",
   "metadata": {},
   "outputs": [
    {
     "name": "stdout",
     "output_type": "stream",
     "text": [
      "(1000, 5)\n"
     ]
    },
    {
     "data": {
      "text/html": [
       "<div>\n",
       "<style scoped>\n",
       "    .dataframe tbody tr th:only-of-type {\n",
       "        vertical-align: middle;\n",
       "    }\n",
       "\n",
       "    .dataframe tbody tr th {\n",
       "        vertical-align: top;\n",
       "    }\n",
       "\n",
       "    .dataframe thead th {\n",
       "        text-align: right;\n",
       "    }\n",
       "</style>\n",
       "<table border=\"1\" class=\"dataframe\">\n",
       "  <thead>\n",
       "    <tr style=\"text-align: right;\">\n",
       "      <th></th>\n",
       "      <th>i#clientid</th>\n",
       "      <th>income</th>\n",
       "      <th>age</th>\n",
       "      <th>loan</th>\n",
       "      <th>c#default</th>\n",
       "    </tr>\n",
       "  </thead>\n",
       "  <tbody>\n",
       "    <tr>\n",
       "      <th>674</th>\n",
       "      <td>675</td>\n",
       "      <td>34158.633968</td>\n",
       "      <td>29.421142</td>\n",
       "      <td>2911.408067</td>\n",
       "      <td>0</td>\n",
       "    </tr>\n",
       "    <tr>\n",
       "      <th>1699</th>\n",
       "      <td>1700</td>\n",
       "      <td>25789.742025</td>\n",
       "      <td>45.316211</td>\n",
       "      <td>4442.331780</td>\n",
       "      <td>0</td>\n",
       "    </tr>\n",
       "    <tr>\n",
       "      <th>1282</th>\n",
       "      <td>1283</td>\n",
       "      <td>59589.064289</td>\n",
       "      <td>20.609764</td>\n",
       "      <td>4191.715856</td>\n",
       "      <td>0</td>\n",
       "    </tr>\n",
       "    <tr>\n",
       "      <th>1315</th>\n",
       "      <td>1316</td>\n",
       "      <td>49908.291867</td>\n",
       "      <td>29.550940</td>\n",
       "      <td>2903.036128</td>\n",
       "      <td>0</td>\n",
       "    </tr>\n",
       "    <tr>\n",
       "      <th>1210</th>\n",
       "      <td>1211</td>\n",
       "      <td>69132.462579</td>\n",
       "      <td>33.471182</td>\n",
       "      <td>7621.410219</td>\n",
       "      <td>0</td>\n",
       "    </tr>\n",
       "  </tbody>\n",
       "</table>\n",
       "</div>"
      ],
      "text/plain": [
       "      i#clientid        income        age         loan  c#default\n",
       "674          675  34158.633968  29.421142  2911.408067          0\n",
       "1699        1700  25789.742025  45.316211  4442.331780          0\n",
       "1282        1283  59589.064289  20.609764  4191.715856          0\n",
       "1315        1316  49908.291867  29.550940  2903.036128          0\n",
       "1210        1211  69132.462579  33.471182  7621.410219          0"
      ]
     },
     "execution_count": 6,
     "metadata": {},
     "output_type": "execute_result"
    }
   ],
   "source": [
    "df_amostragem_aleatoria_simples = amostragem_aleatoria_simples(df, 1000, 1)\n",
    "print(df_amostragem_aleatoria_simples.shape)\n",
    "df_amostragem_aleatoria_simples.head()"
   ]
  },
  {
   "cell_type": "markdown",
   "id": "d9c50060",
   "metadata": {},
   "source": [
    "### Amostragem sistemática"
   ]
  },
  {
   "cell_type": "code",
   "execution_count": 7,
   "id": "dc43f0bd",
   "metadata": {},
   "outputs": [],
   "source": [
    "def amostragem_sistematica(df, n):\n",
    "    t = len(df)\n",
    "    random.seed(1)\n",
    "    amostragem = t // n\n",
    "    valor_escolhido = random.randint(0, amostragem)\n",
    "    numeros_escolhidos = np.arange(valor_escolhido, t, step=amostragem)\n",
    "    amostra_sistematica = df.iloc[numeros_escolhidos]\n",
    "    return amostra_sistematica"
   ]
  },
  {
   "cell_type": "code",
   "execution_count": 8,
   "id": "38210ab8",
   "metadata": {},
   "outputs": [
    {
     "name": "stdout",
     "output_type": "stream",
     "text": [
      "(1000, 5)\n"
     ]
    },
    {
     "data": {
      "text/html": [
       "<div>\n",
       "<style scoped>\n",
       "    .dataframe tbody tr th:only-of-type {\n",
       "        vertical-align: middle;\n",
       "    }\n",
       "\n",
       "    .dataframe tbody tr th {\n",
       "        vertical-align: top;\n",
       "    }\n",
       "\n",
       "    .dataframe thead th {\n",
       "        text-align: right;\n",
       "    }\n",
       "</style>\n",
       "<table border=\"1\" class=\"dataframe\">\n",
       "  <thead>\n",
       "    <tr style=\"text-align: right;\">\n",
       "      <th></th>\n",
       "      <th>i#clientid</th>\n",
       "      <th>income</th>\n",
       "      <th>age</th>\n",
       "      <th>loan</th>\n",
       "      <th>c#default</th>\n",
       "    </tr>\n",
       "  </thead>\n",
       "  <tbody>\n",
       "    <tr>\n",
       "      <th>0</th>\n",
       "      <td>1</td>\n",
       "      <td>66155.925095</td>\n",
       "      <td>59.017015</td>\n",
       "      <td>8106.532131</td>\n",
       "      <td>0</td>\n",
       "    </tr>\n",
       "    <tr>\n",
       "      <th>2</th>\n",
       "      <td>3</td>\n",
       "      <td>57317.170063</td>\n",
       "      <td>63.108049</td>\n",
       "      <td>8020.953296</td>\n",
       "      <td>0</td>\n",
       "    </tr>\n",
       "    <tr>\n",
       "      <th>4</th>\n",
       "      <td>5</td>\n",
       "      <td>66952.688845</td>\n",
       "      <td>18.584336</td>\n",
       "      <td>8770.099235</td>\n",
       "      <td>1</td>\n",
       "    </tr>\n",
       "    <tr>\n",
       "      <th>6</th>\n",
       "      <td>7</td>\n",
       "      <td>48430.359613</td>\n",
       "      <td>26.809132</td>\n",
       "      <td>5722.581981</td>\n",
       "      <td>0</td>\n",
       "    </tr>\n",
       "    <tr>\n",
       "      <th>8</th>\n",
       "      <td>9</td>\n",
       "      <td>40654.892537</td>\n",
       "      <td>55.496853</td>\n",
       "      <td>4755.825280</td>\n",
       "      <td>0</td>\n",
       "    </tr>\n",
       "  </tbody>\n",
       "</table>\n",
       "</div>"
      ],
      "text/plain": [
       "   i#clientid        income        age         loan  c#default\n",
       "0           1  66155.925095  59.017015  8106.532131          0\n",
       "2           3  57317.170063  63.108049  8020.953296          0\n",
       "4           5  66952.688845  18.584336  8770.099235          1\n",
       "6           7  48430.359613  26.809132  5722.581981          0\n",
       "8           9  40654.892537  55.496853  4755.825280          0"
      ]
     },
     "execution_count": 8,
     "metadata": {},
     "output_type": "execute_result"
    }
   ],
   "source": [
    "df_amostragem_sistematica = amostragem_sistematica(df, 1000)\n",
    "print(df_amostragem_sistematica.shape)\n",
    "df_amostragem_sistematica.head()"
   ]
  },
  {
   "cell_type": "markdown",
   "id": "856bfdb4",
   "metadata": {},
   "source": [
    "### Amostragem por grupo"
   ]
  },
  {
   "cell_type": "code",
   "execution_count": 56,
   "id": "fc16da50",
   "metadata": {},
   "outputs": [],
   "source": [
    "def amostragem_agrupamento(df, numero_grupos):\n",
    "    total_por_grupo = len(df) / numero_grupos\n",
    "    grupos = []\n",
    "    id_grupo = 0\n",
    "    contagem = 0\n",
    "    for _ in df.iterrows():\n",
    "        grupos.append(id_grupo)\n",
    "        contagem += 1\n",
    "        if contagem > total_por_grupo:\n",
    "            contagem = 0\n",
    "            id_grupo +=1\n",
    "    df['grupo'] = grupos\n",
    "    random.seed(8)\n",
    "    numero_aleatorio = random.randint(0,9)\n",
    "    df_agrupamento = df[df['grupo'] == numero_aleatorio]\n",
    "    return df_agrupamento"
   ]
  },
  {
   "cell_type": "code",
   "execution_count": 59,
   "id": "fa0501c0",
   "metadata": {},
   "outputs": [
    {
     "name": "stdout",
     "output_type": "stream",
     "text": [
      "(497, 6)\n"
     ]
    }
   ],
   "source": [
    "df_amostragem_agrupamento = amostragem_agrupamento(df, 4)\n",
    "print(df_amostragem_agrupamento.shape)"
   ]
  },
  {
   "cell_type": "markdown",
   "id": "423a90a5",
   "metadata": {},
   "source": [
    "### Amostragem estratificada"
   ]
  },
  {
   "cell_type": "code",
   "execution_count": 60,
   "id": "ffc4efba",
   "metadata": {},
   "outputs": [],
   "source": [
    "def amostragem_estratificada(df, percentual):\n",
    "    split = StratifiedShuffleSplit(test_size=percentual)\n",
    "    for _, y in split.split(df, df['c#default']):\n",
    "        df_y = df.iloc[y]\n",
    "    return df_y"
   ]
  },
  {
   "cell_type": "code",
   "execution_count": 61,
   "id": "7cb197bf",
   "metadata": {},
   "outputs": [
    {
     "name": "stdout",
     "output_type": "stream",
     "text": [
      "(1000, 6)\n"
     ]
    },
    {
     "data": {
      "text/html": [
       "<div>\n",
       "<style scoped>\n",
       "    .dataframe tbody tr th:only-of-type {\n",
       "        vertical-align: middle;\n",
       "    }\n",
       "\n",
       "    .dataframe tbody tr th {\n",
       "        vertical-align: top;\n",
       "    }\n",
       "\n",
       "    .dataframe thead th {\n",
       "        text-align: right;\n",
       "    }\n",
       "</style>\n",
       "<table border=\"1\" class=\"dataframe\">\n",
       "  <thead>\n",
       "    <tr style=\"text-align: right;\">\n",
       "      <th></th>\n",
       "      <th>i#clientid</th>\n",
       "      <th>income</th>\n",
       "      <th>age</th>\n",
       "      <th>loan</th>\n",
       "      <th>c#default</th>\n",
       "      <th>grupo</th>\n",
       "    </tr>\n",
       "  </thead>\n",
       "  <tbody>\n",
       "    <tr>\n",
       "      <th>494</th>\n",
       "      <td>495</td>\n",
       "      <td>52534.785476</td>\n",
       "      <td>47.183619</td>\n",
       "      <td>3810.131842</td>\n",
       "      <td>0</td>\n",
       "      <td>0</td>\n",
       "    </tr>\n",
       "    <tr>\n",
       "      <th>100</th>\n",
       "      <td>101</td>\n",
       "      <td>51461.053167</td>\n",
       "      <td>36.651559</td>\n",
       "      <td>7292.264177</td>\n",
       "      <td>0</td>\n",
       "      <td>0</td>\n",
       "    </tr>\n",
       "    <tr>\n",
       "      <th>213</th>\n",
       "      <td>214</td>\n",
       "      <td>62658.221629</td>\n",
       "      <td>25.463160</td>\n",
       "      <td>3343.367161</td>\n",
       "      <td>0</td>\n",
       "      <td>0</td>\n",
       "    </tr>\n",
       "    <tr>\n",
       "      <th>596</th>\n",
       "      <td>597</td>\n",
       "      <td>61464.820644</td>\n",
       "      <td>36.408266</td>\n",
       "      <td>5099.087460</td>\n",
       "      <td>0</td>\n",
       "      <td>1</td>\n",
       "    </tr>\n",
       "    <tr>\n",
       "      <th>607</th>\n",
       "      <td>608</td>\n",
       "      <td>45652.059272</td>\n",
       "      <td>53.674341</td>\n",
       "      <td>5408.212129</td>\n",
       "      <td>0</td>\n",
       "      <td>1</td>\n",
       "    </tr>\n",
       "  </tbody>\n",
       "</table>\n",
       "</div>"
      ],
      "text/plain": [
       "     i#clientid        income        age         loan  c#default  grupo\n",
       "494         495  52534.785476  47.183619  3810.131842          0      0\n",
       "100         101  51461.053167  36.651559  7292.264177          0      0\n",
       "213         214  62658.221629  25.463160  3343.367161          0      0\n",
       "596         597  61464.820644  36.408266  5099.087460          0      1\n",
       "607         608  45652.059272  53.674341  5408.212129          0      1"
      ]
     },
     "execution_count": 61,
     "metadata": {},
     "output_type": "execute_result"
    }
   ],
   "source": [
    "df_amostragem_estratificada = amostragem_estratificada(df, 0.5)\n",
    "print(df_amostragem_estratificada.shape)\n",
    "df_amostragem_estratificada.head()"
   ]
  },
  {
   "cell_type": "markdown",
   "id": "d9bb0766",
   "metadata": {},
   "source": [
    "### Amostragem de reservatório"
   ]
  },
  {
   "cell_type": "code",
   "execution_count": 62,
   "id": "30032946",
   "metadata": {},
   "outputs": [],
   "source": [
    "def amostragem_reservatorio(df, amostras):\n",
    "    stream = []\n",
    "    for i in range(len(df)):\n",
    "        stream.append(i)\n",
    "        \n",
    "    i = 0\n",
    "    tamanho = len(df)\n",
    "    \n",
    "    reservatorio = [0] * amostras\n",
    "    for i in range(amostras):\n",
    "        reservatorio[i] = stream[i]\n",
    "        \n",
    "    while i < tamanho:\n",
    "        j = random.randrange(i + 1)\n",
    "        if j < amostras:\n",
    "            reservatorio[j] = stream[i]\n",
    "        i += 1\n",
    "    \n",
    "    return df.iloc[reservatorio]"
   ]
  },
  {
   "cell_type": "code",
   "execution_count": 63,
   "id": "656494aa",
   "metadata": {},
   "outputs": [
    {
     "name": "stdout",
     "output_type": "stream",
     "text": [
      "(1000, 6)\n"
     ]
    }
   ],
   "source": [
    "df_amostragem_reservatorio = amostragem_reservatorio(df, 1000)\n",
    "print(df_amostragem_reservatorio.shape)"
   ]
  },
  {
   "cell_type": "code",
   "execution_count": 64,
   "id": "cfbd5a3f",
   "metadata": {},
   "outputs": [
    {
     "data": {
      "text/html": [
       "<div>\n",
       "<style scoped>\n",
       "    .dataframe tbody tr th:only-of-type {\n",
       "        vertical-align: middle;\n",
       "    }\n",
       "\n",
       "    .dataframe tbody tr th {\n",
       "        vertical-align: top;\n",
       "    }\n",
       "\n",
       "    .dataframe thead th {\n",
       "        text-align: right;\n",
       "    }\n",
       "</style>\n",
       "<table border=\"1\" class=\"dataframe\">\n",
       "  <thead>\n",
       "    <tr style=\"text-align: right;\">\n",
       "      <th></th>\n",
       "      <th>i#clientid</th>\n",
       "      <th>income</th>\n",
       "      <th>age</th>\n",
       "      <th>loan</th>\n",
       "      <th>c#default</th>\n",
       "      <th>grupo</th>\n",
       "    </tr>\n",
       "  </thead>\n",
       "  <tbody>\n",
       "    <tr>\n",
       "      <th>1507</th>\n",
       "      <td>1508</td>\n",
       "      <td>32291.544548</td>\n",
       "      <td>39.174614</td>\n",
       "      <td>277.387568</td>\n",
       "      <td>0</td>\n",
       "      <td>3</td>\n",
       "    </tr>\n",
       "    <tr>\n",
       "      <th>1</th>\n",
       "      <td>2</td>\n",
       "      <td>34415.153966</td>\n",
       "      <td>48.117153</td>\n",
       "      <td>6564.745018</td>\n",
       "      <td>0</td>\n",
       "      <td>0</td>\n",
       "    </tr>\n",
       "    <tr>\n",
       "      <th>1831</th>\n",
       "      <td>1832</td>\n",
       "      <td>29750.294802</td>\n",
       "      <td>45.544455</td>\n",
       "      <td>3627.987077</td>\n",
       "      <td>0</td>\n",
       "      <td>3</td>\n",
       "    </tr>\n",
       "    <tr>\n",
       "      <th>3</th>\n",
       "      <td>4</td>\n",
       "      <td>42709.534201</td>\n",
       "      <td>45.751972</td>\n",
       "      <td>6103.642260</td>\n",
       "      <td>0</td>\n",
       "      <td>0</td>\n",
       "    </tr>\n",
       "    <tr>\n",
       "      <th>4</th>\n",
       "      <td>5</td>\n",
       "      <td>66952.688845</td>\n",
       "      <td>18.584336</td>\n",
       "      <td>8770.099235</td>\n",
       "      <td>1</td>\n",
       "      <td>0</td>\n",
       "    </tr>\n",
       "  </tbody>\n",
       "</table>\n",
       "</div>"
      ],
      "text/plain": [
       "      i#clientid        income        age         loan  c#default  grupo\n",
       "1507        1508  32291.544548  39.174614   277.387568          0      3\n",
       "1              2  34415.153966  48.117153  6564.745018          0      0\n",
       "1831        1832  29750.294802  45.544455  3627.987077          0      3\n",
       "3              4  42709.534201  45.751972  6103.642260          0      0\n",
       "4              5  66952.688845  18.584336  8770.099235          1      0"
      ]
     },
     "execution_count": 64,
     "metadata": {},
     "output_type": "execute_result"
    }
   ],
   "source": [
    "df_amostragem_reservatorio.head()"
   ]
  },
  {
   "cell_type": "markdown",
   "id": "1b060630",
   "metadata": {},
   "source": [
    "### Comparativo entre as amostragens"
   ]
  },
  {
   "cell_type": "code",
   "execution_count": 66,
   "id": "a87ede17",
   "metadata": {},
   "outputs": [
    {
     "name": "stdout",
     "output_type": "stream",
     "text": [
      "40.80755937840458\n",
      "45331.60001779333\n",
      "4444.369694688262\n"
     ]
    }
   ],
   "source": [
    "#DF\n",
    "print(df['age'].mean())\n",
    "print(df['income'].mean())\n",
    "print(df['loan'].mean())"
   ]
  },
  {
   "cell_type": "code",
   "execution_count": 67,
   "id": "4280ad95",
   "metadata": {},
   "outputs": [
    {
     "name": "stdout",
     "output_type": "stream",
     "text": [
      "40.49552561124429\n",
      "45563.26865376901\n",
      "4449.4469004423645\n"
     ]
    }
   ],
   "source": [
    "#AleatóriaSimples\n",
    "print(df_amostragem_aleatoria_simples['age'].mean())\n",
    "print(df_amostragem_aleatoria_simples['income'].mean())\n",
    "print(df_amostragem_aleatoria_simples['loan'].mean())"
   ]
  },
  {
   "cell_type": "code",
   "execution_count": 68,
   "id": "30c42f99",
   "metadata": {},
   "outputs": [
    {
     "name": "stdout",
     "output_type": "stream",
     "text": [
      "40.91117381141754\n",
      "45691.49875066951\n",
      "4506.787976426329\n"
     ]
    }
   ],
   "source": [
    "#Sistemática\n",
    "print(df_amostragem_sistematica['age'].mean())\n",
    "print(df_amostragem_sistematica['income'].mean())\n",
    "print(df_amostragem_sistematica['loan'].mean())"
   ]
  },
  {
   "cell_type": "code",
   "execution_count": 69,
   "id": "679fe34e",
   "metadata": {},
   "outputs": [
    {
     "name": "stdout",
     "output_type": "stream",
     "text": [
      "40.10642021105454\n",
      "46066.033301384974\n",
      "4640.065674553214\n"
     ]
    }
   ],
   "source": [
    "#PorGrupo\n",
    "print(df_amostragem_agrupamento['age'].mean())\n",
    "print(df_amostragem_agrupamento['income'].mean())\n",
    "print(df_amostragem_agrupamento['loan'].mean())"
   ]
  },
  {
   "cell_type": "code",
   "execution_count": 70,
   "id": "fbc4ffeb",
   "metadata": {},
   "outputs": [
    {
     "name": "stdout",
     "output_type": "stream",
     "text": [
      "40.62728637388653\n",
      "45681.43481757729\n",
      "4368.521166037777\n"
     ]
    }
   ],
   "source": [
    "#Reservatório\n",
    "print(df_amostragem_reservatorio['age'].mean())\n",
    "print(df_amostragem_reservatorio['income'].mean())\n",
    "print(df_amostragem_reservatorio['loan'].mean())"
   ]
  }
 ],
 "metadata": {
  "kernelspec": {
   "display_name": "Python 3 (ipykernel)",
   "language": "python",
   "name": "python3"
  },
  "language_info": {
   "codemirror_mode": {
    "name": "ipython",
    "version": 3
   },
   "file_extension": ".py",
   "mimetype": "text/x-python",
   "name": "python",
   "nbconvert_exporter": "python",
   "pygments_lexer": "ipython3",
   "version": "3.9.12"
  }
 },
 "nbformat": 4,
 "nbformat_minor": 5
}
