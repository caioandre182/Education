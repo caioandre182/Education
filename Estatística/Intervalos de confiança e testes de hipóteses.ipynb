{
 "cells": [
  {
   "cell_type": "markdown",
   "id": "fe1833b1",
   "metadata": {},
   "source": [
    "# Intervalos de confiança"
   ]
  },
  {
   "cell_type": "markdown",
   "id": "c1550b98",
   "metadata": {},
   "source": [
    "## Carregando bibliotecas"
   ]
  },
  {
   "cell_type": "code",
   "execution_count": 10,
   "id": "536e8e46",
   "metadata": {},
   "outputs": [],
   "source": [
    "import numpy as np\n",
    "from scipy.stats import norm\n",
    "from scipy import stats\n",
    "import math\n",
    "\n",
    "import seaborn as sns"
   ]
  },
  {
   "cell_type": "markdown",
   "id": "922a7ad6",
   "metadata": {},
   "source": [
    "## Base de dados"
   ]
  },
  {
   "cell_type": "code",
   "execution_count": 2,
   "id": "49fe16af",
   "metadata": {},
   "outputs": [],
   "source": [
    "dados = np.array([126.,129.5,133.,133.,136.5,136.5,140.,140.,140.,140.,143.5,\n",
    "                 143.5,143.5,143.5,143.5,143.5,147.,147.,147.,147.,147.,147.,147.,\n",
    "                 150.5,150.5,150.5,150.5,150.5,150.5,150.5,150.5,154.,154.,154.,\n",
    "                 154.,154.,154.,154.,154.,154.,157.5,157.5,157.5,157.5,157.5,\n",
    "                 157.5,157.5,157.5,157.5,157.5,161.,161.,161.,161.,161.,161.,\n",
    "                 161.,161.,161.,161.,164.5,164.5,164.5,164.5,164.5,164.5,164.5,\n",
    "                 164.5,164.5,168.,168.,168.,168.,168.,168.,168.,168.,171.5,\n",
    "                 171.5,171.5,171.5,171.5,171.5,175.,175.,175.,175.,175.,175.,\n",
    "                 178.5,178.5,178.5,178.5,178.5,182.,182.,185.5,185.5,189.,192.5])"
   ]
  },
  {
   "cell_type": "code",
   "execution_count": 3,
   "id": "20931af1",
   "metadata": {},
   "outputs": [],
   "source": [
    "n = len(dados)\n",
    "media = dados.mean()\n",
    "desvio_padrao = np.std(dados)"
   ]
  },
  {
   "cell_type": "code",
   "execution_count": 4,
   "id": "07f4ea54",
   "metadata": {},
   "outputs": [
    {
     "data": {
      "text/plain": [
       "(100, 159.32, 13.730353236534011)"
      ]
     },
     "execution_count": 4,
     "metadata": {},
     "output_type": "execute_result"
    }
   ],
   "source": [
    "n, media, desvio_padrao"
   ]
  },
  {
   "cell_type": "markdown",
   "id": "f8775cae",
   "metadata": {},
   "source": [
    "### Cálculo do intervalo de confiança - manual"
   ]
  },
  {
   "cell_type": "code",
   "execution_count": 9,
   "id": "e6ada075",
   "metadata": {},
   "outputs": [
    {
     "data": {
      "text/plain": [
       "(156.62890021613802, 162.01109978386197)"
      ]
     },
     "execution_count": 9,
     "metadata": {},
     "output_type": "execute_result"
    }
   ],
   "source": [
    "alpha = 0.05 / 2\n",
    "\n",
    "z = norm.ppf(1 - alpha)\n",
    "\n",
    "x_inferior = media - z * (desvio_padrao / math.sqrt(n))\n",
    "\n",
    "x_superior = media + z * (desvio_padrao / math.sqrt(n))\n",
    "\n",
    "\n",
    "x_inferior, x_superior"
   ]
  },
  {
   "cell_type": "code",
   "execution_count": 10,
   "id": "5fa4ae08",
   "metadata": {},
   "outputs": [
    {
     "data": {
      "text/plain": [
       "2.691099783861972"
      ]
     },
     "execution_count": 10,
     "metadata": {},
     "output_type": "execute_result"
    }
   ],
   "source": [
    "margem_erro = abs(media - x_superior)\n",
    "margem_erro"
   ]
  },
  {
   "cell_type": "code",
   "execution_count": 14,
   "id": "249bb563",
   "metadata": {},
   "outputs": [
    {
     "data": {
      "image/png": "[encoded data removed]",
      "text/plain": [
       "<Figure size 432x288 with 1 Axes>"
      ]
     },
     "metadata": {
      "needs_background": "light"
     },
     "output_type": "display_data"
    }
   ],
   "source": [
    "sns.histplot(dados);"
   ]
  },
  {
   "cell_type": "markdown",
   "id": "04413556",
   "metadata": {},
   "source": [
    "### Cálculo do intervalo de confiança - scipy"
   ]
  },
  {
   "cell_type": "code",
   "execution_count": 16,
   "id": "af6afe26",
   "metadata": {},
   "outputs": [
    {
     "data": {
      "text/plain": [
       "1.3799524219583392"
      ]
     },
     "execution_count": 16,
     "metadata": {},
     "output_type": "execute_result"
    }
   ],
   "source": [
    "stats.sem(dados)"
   ]
  },
  {
   "cell_type": "code",
   "execution_count": 17,
   "id": "37131842",
   "metadata": {},
   "outputs": [
    {
     "data": {
      "text/plain": [
       "(156.61534295258284, 162.02465704741715)"
      ]
     },
     "execution_count": 17,
     "metadata": {},
     "output_type": "execute_result"
    }
   ],
   "source": [
    "intervalos = norm.interval(0.95, media, stats.sem(dados))\n",
    "intervalos"
   ]
  },
  {
   "cell_type": "markdown",
   "id": "d2da3f02",
   "metadata": {},
   "source": [
    "### Diferentes níveis de confiança"
   ]
  },
  {
   "cell_type": "code",
   "execution_count": 18,
   "id": "e56f15f6",
   "metadata": {},
   "outputs": [
    {
     "data": {
      "text/plain": [
       "(155.76547811401642, 162.87452188598357)"
      ]
     },
     "execution_count": 18,
     "metadata": {},
     "output_type": "execute_result"
    }
   ],
   "source": [
    "intervalos = norm.interval(0.99, media, stats.sem(dados))\n",
    "intervalos"
   ]
  },
  {
   "cell_type": "markdown",
   "id": "b966d682",
   "metadata": {},
   "source": [
    "### Exercício"
   ]
  },
  {
   "cell_type": "code",
   "execution_count": 19,
   "id": "6bfedef0",
   "metadata": {},
   "outputs": [],
   "source": [
    "dados_salario = np.array([82.1191, 72.8014, 79.1266, 71.3552, 59.192, 79.1952, 56.518, 70.3752,\n",
    "                          73.5364, 61.0407, 64.3902, 66.4076, 63.5215, 71.9936, 60.1489, 78.5932, \n",
    "                          76.0459, 67.7726, 64.6149, 80.1948, 76.7998, 76.1831, 80.7065, 62.4953, \n",
    "                          57.204, 62.5408, 80.0982, 63.287, 66.5826, 79.3674])"
   ]
  },
  {
   "cell_type": "code",
   "execution_count": 20,
   "id": "5d3dad82",
   "metadata": {},
   "outputs": [
    {
     "data": {
      "text/plain": [
       "(30, 70.14025666666666, 7.899834598255137)"
      ]
     },
     "execution_count": 20,
     "metadata": {},
     "output_type": "execute_result"
    }
   ],
   "source": [
    "n = len(dados_salario)\n",
    "media = dados_salario.mean()\n",
    "desvio_padrao = np.std(dados_salario)\n",
    "\n",
    "n, media, desvio_padrao"
   ]
  },
  {
   "cell_type": "code",
   "execution_count": 21,
   "id": "6ac863a6",
   "metadata": {},
   "outputs": [
    {
     "data": {
      "text/plain": [
       "(67.26506308375339, 73.01545024957993)"
      ]
     },
     "execution_count": 21,
     "metadata": {},
     "output_type": "execute_result"
    }
   ],
   "source": [
    "intervalos = norm.interval(0.95, media, stats.sem(dados_salario))\n",
    "intervalos"
   ]
  },
  {
   "cell_type": "code",
   "execution_count": 22,
   "id": "9675cc23",
   "metadata": {},
   "outputs": [
    {
     "data": {
      "text/plain": [
       "2.875193582913269"
      ]
     },
     "execution_count": 22,
     "metadata": {},
     "output_type": "execute_result"
    }
   ],
   "source": [
    "margem_erro = abs(media - intervalos[0])\n",
    "margem_erro"
   ]
  }
 ],
 "metadata": {
  "kernelspec": {
   "display_name": "Python 3 (ipykernel)",
   "language": "python",
   "name": "python3"
  },
  "language_info": {
   "codemirror_mode": {
    "name": "ipython",
    "version": 3
   },
   "file_extension": ".py",
   "mimetype": "text/x-python",
   "name": "python",
   "nbconvert_exporter": "python",
   "pygments_lexer": "ipython3",
   "version": "3.9.12"
  }
 },
 "nbformat": 4,
 "nbformat_minor": 5
}
