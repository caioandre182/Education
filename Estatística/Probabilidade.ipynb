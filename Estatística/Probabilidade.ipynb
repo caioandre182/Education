{
 "cells": [
  {
   "cell_type": "markdown",
   "id": "3f3df3c5",
   "metadata": {},
   "source": [
    "# Probabilidade"
   ]
  },
  {
   "cell_type": "markdown",
   "id": "09f7cb8a",
   "metadata": {},
   "source": [
    "## Importações"
   ]
  },
  {
   "cell_type": "code",
   "execution_count": 1,
   "id": "4fa3bcd3",
   "metadata": {},
   "outputs": [],
   "source": [
    "import numpy as np\n",
    "import seaborn as sns\n",
    "import math\n",
    "from scipy import stats"
   ]
  },
  {
   "cell_type": "markdown",
   "id": "6b4cbc43",
   "metadata": {},
   "source": [
    "## Permutações"
   ]
  },
  {
   "cell_type": "markdown",
   "id": "2cdb538c",
   "metadata": {},
   "source": [
    "##### Quantas possíveis combinações pode se ter em uma senha de 5 caracteres com todas as letras do alfabeto(26) e os números de 0 a 9(10), sem repetição de um caractere"
   ]
  },
  {
   "cell_type": "markdown",
   "id": "a1e99cca",
   "metadata": {},
   "source": [
    "#### Quando os valores não pode repetir, utilizamos o fatorial"
   ]
  },
  {
   "cell_type": "code",
   "execution_count": 2,
   "id": "8ef1cf19",
   "metadata": {},
   "outputs": [
    {
     "data": {
      "text/plain": [
       "6"
      ]
     },
     "execution_count": 2,
     "metadata": {},
     "output_type": "execute_result"
    }
   ],
   "source": [
    "math.factorial(3)"
   ]
  },
  {
   "cell_type": "code",
   "execution_count": 3,
   "id": "192a0069",
   "metadata": {},
   "outputs": [
    {
     "data": {
      "text/plain": [
       "45239040.0"
      ]
     },
     "execution_count": 3,
     "metadata": {},
     "output_type": "execute_result"
    }
   ],
   "source": [
    "math.factorial(36) / math.factorial(36-5)"
   ]
  },
  {
   "cell_type": "markdown",
   "id": "de207e34",
   "metadata": {},
   "source": [
    "#### Quando os valores pode repetir, utilizamos a exponenciação"
   ]
  },
  {
   "cell_type": "code",
   "execution_count": 4,
   "id": "9d0ba3ec",
   "metadata": {},
   "outputs": [
    {
     "data": {
      "text/plain": [
       "60466176.0"
      ]
     },
     "execution_count": 4,
     "metadata": {},
     "output_type": "execute_result"
    }
   ],
   "source": [
    "math.pow(36, 5)"
   ]
  },
  {
   "cell_type": "markdown",
   "id": "6a5d7b2e",
   "metadata": {},
   "source": [
    "#### Combinação"
   ]
  },
  {
   "cell_type": "markdown",
   "id": "99fb41b4",
   "metadata": {},
   "source": [
    "#### Quantas duplas de combinações é possível fazer com as letras ABCDEF, sem repetição"
   ]
  },
  {
   "cell_type": "code",
   "execution_count": 5,
   "id": "695f6ce0",
   "metadata": {},
   "outputs": [
    {
     "data": {
      "text/plain": [
       "15.0"
      ]
     },
     "execution_count": 5,
     "metadata": {},
     "output_type": "execute_result"
    }
   ],
   "source": [
    "math.factorial(6) / (math.factorial(2) * math.factorial(6-2))"
   ]
  },
  {
   "cell_type": "markdown",
   "id": "9686c21a",
   "metadata": {},
   "source": [
    "#### Considerando repetições"
   ]
  },
  {
   "cell_type": "code",
   "execution_count": 6,
   "id": "f8b986f9",
   "metadata": {},
   "outputs": [
    {
     "data": {
      "text/plain": [
       "21.0"
      ]
     },
     "execution_count": 6,
     "metadata": {},
     "output_type": "execute_result"
    }
   ],
   "source": [
    "math.factorial((6+2) -1) / (math.factorial(2) * math.factorial(6-1))"
   ]
  },
  {
   "cell_type": "markdown",
   "id": "3174b1af",
   "metadata": {},
   "source": [
    "## Interseção, união e diferença"
   ]
  },
  {
   "cell_type": "code",
   "execution_count": 7,
   "id": "ecf0bb50",
   "metadata": {},
   "outputs": [],
   "source": [
    "a = (0,1,2,3,4,5,6,7)\n",
    "b = (0,2,4,6,8)"
   ]
  },
  {
   "cell_type": "markdown",
   "id": "69fc3bde",
   "metadata": {},
   "source": [
    "#### Interseção"
   ]
  },
  {
   "cell_type": "code",
   "execution_count": 8,
   "id": "899fdf83",
   "metadata": {},
   "outputs": [
    {
     "data": {
      "text/plain": [
       "{0, 2, 4, 6}"
      ]
     },
     "execution_count": 8,
     "metadata": {},
     "output_type": "execute_result"
    }
   ],
   "source": [
    "set(a) & set(b)"
   ]
  },
  {
   "cell_type": "markdown",
   "id": "4e7c4f27",
   "metadata": {},
   "source": [
    "#### União"
   ]
  },
  {
   "cell_type": "code",
   "execution_count": 9,
   "id": "11c7e20f",
   "metadata": {},
   "outputs": [
    {
     "data": {
      "text/plain": [
       "{0, 1, 2, 3, 4, 5, 6, 7, 8}"
      ]
     },
     "execution_count": 9,
     "metadata": {},
     "output_type": "execute_result"
    }
   ],
   "source": [
    "set(a) | set(b)"
   ]
  },
  {
   "cell_type": "markdown",
   "id": "def065cf",
   "metadata": {},
   "source": [
    "#### Diferença"
   ]
  },
  {
   "cell_type": "code",
   "execution_count": 10,
   "id": "fe9bdf16",
   "metadata": {},
   "outputs": [
    {
     "data": {
      "text/plain": [
       "{1, 3, 5, 7}"
      ]
     },
     "execution_count": 10,
     "metadata": {},
     "output_type": "execute_result"
    }
   ],
   "source": [
    "set(a) - set(b)"
   ]
  },
  {
   "cell_type": "code",
   "execution_count": 11,
   "id": "f29c1423",
   "metadata": {},
   "outputs": [
    {
     "data": {
      "text/plain": [
       "{1, 3, 5, 7}"
      ]
     },
     "execution_count": 11,
     "metadata": {},
     "output_type": "execute_result"
    }
   ],
   "source": [
    "set(a).difference(set(b))"
   ]
  },
  {
   "cell_type": "code",
   "execution_count": 12,
   "id": "8443a60c",
   "metadata": {},
   "outputs": [
    {
     "data": {
      "text/plain": [
       "{8}"
      ]
     },
     "execution_count": 12,
     "metadata": {},
     "output_type": "execute_result"
    }
   ],
   "source": [
    "set(b) - set(a)"
   ]
  },
  {
   "cell_type": "markdown",
   "id": "938237ce",
   "metadata": {},
   "source": [
    "## Probabilidade e distribuição normal"
   ]
  },
  {
   "cell_type": "code",
   "execution_count": 14,
   "id": "507b86c1",
   "metadata": {},
   "outputs": [],
   "source": [
    "dados = np.array([126.,129.5,133.,133.,136.5,136.5,140.,140.,140.,140.,143.5,\n",
    "                 143.5,143.5,143.5,143.5,143.5,147.,147.,147.,147.,147.,147.,147.,\n",
    "                 150.5,150.5,150.5,150.5,150.5,150.5,150.5,150.5,154.,154.,154.,\n",
    "                 154.,154.,154.,154.,154.,154.,157.5,157.5,157.5,157.5,157.5,\n",
    "                 157.5,157.5,157.5,157.5,157.5,161.,161.,161.,161.,161.,161.,\n",
    "                 161.,161.,161.,161.,164.5,164.5,164.5,164.5,164.5,164.5,164.5,\n",
    "                 164.5,164.5,168.,168.,168.,168.,168.,168.,168.,168.,171.5,\n",
    "                 171.5,171.5,171.5,171.5,171.5,175.,175.,175.,175.,175.,175.,\n",
    "                 178.5,178.5,178.5,178.5,178.5,182.,182.,185.5,185.5,189.,192.5])"
   ]
  },
  {
   "cell_type": "code",
   "execution_count": 15,
   "id": "9c00e316",
   "metadata": {},
   "outputs": [
    {
     "data": {
      "text/plain": [
       "<AxesSubplot:ylabel='Count'>"
      ]
     },
     "execution_count": 15,
     "metadata": {},
     "output_type": "execute_result"
    },
    {
     "data": {
      "image/png": "[encoded data removed]",
      "text/plain": [
       "<Figure size 432x288 with 1 Axes>"
      ]
     },
     "metadata": {
      "needs_background": "light"
     },
     "output_type": "display_data"
    }
   ],
   "source": [
    "sns.histplot(dados, kde=True)"
   ]
  },
  {
   "cell_type": "code",
   "execution_count": 16,
   "id": "522fbc60",
   "metadata": {},
   "outputs": [
    {
     "data": {
      "text/plain": [
       "(159.32, 13.730353236534011)"
      ]
     },
     "execution_count": 16,
     "metadata": {},
     "output_type": "execute_result"
    }
   ],
   "source": [
    "media = np.mean(dados)\n",
    "desvio_padrao = np.std(dados)\n",
    "media, desvio_padrao"
   ]
  },
  {
   "cell_type": "code",
   "execution_count": 17,
   "id": "18e64c5c",
   "metadata": {},
   "outputs": [
    {
     "data": {
      "text/plain": [
       "array([150.5 , 159.25, 168.  ])"
      ]
     },
     "execution_count": 17,
     "metadata": {},
     "output_type": "execute_result"
    }
   ],
   "source": [
    "np.quantile(dados, [0.25, .5, 0.75])"
   ]
  },
  {
   "cell_type": "markdown",
   "id": "e725e66d",
   "metadata": {},
   "source": [
    "#### Calcular a probabilidade de selecionar uma pessoa em Q1"
   ]
  },
  {
   "cell_type": "code",
   "execution_count": 18,
   "id": "8de280fa",
   "metadata": {},
   "outputs": [
    {
     "data": {
      "text/plain": [
       "-0.6423724028112804"
      ]
     },
     "execution_count": 18,
     "metadata": {},
     "output_type": "execute_result"
    }
   ],
   "source": [
    "(150.5 - media) / desvio_padrao"
   ]
  },
  {
   "cell_type": "code",
   "execution_count": 19,
   "id": "50db5be5",
   "metadata": {},
   "outputs": [
    {
     "data": {
      "text/plain": [
       "26.108999999999998"
      ]
     },
     "execution_count": 19,
     "metadata": {},
     "output_type": "execute_result"
    }
   ],
   "source": [
    "0.26109 * 100"
   ]
  },
  {
   "cell_type": "markdown",
   "id": "160bc3c7",
   "metadata": {},
   "source": [
    "#### Calcular a probabilidade de selecionar uma pessoa em Q3"
   ]
  },
  {
   "cell_type": "code",
   "execution_count": 20,
   "id": "36ebd615",
   "metadata": {},
   "outputs": [
    {
     "data": {
      "text/plain": [
       "0.6321760154650706"
      ]
     },
     "execution_count": 20,
     "metadata": {},
     "output_type": "execute_result"
    }
   ],
   "source": [
    "(168 - media) / desvio_padrao"
   ]
  },
  {
   "cell_type": "code",
   "execution_count": 21,
   "id": "21b9c82f",
   "metadata": {},
   "outputs": [
    {
     "data": {
      "text/plain": [
       "0.73891"
      ]
     },
     "execution_count": 21,
     "metadata": {},
     "output_type": "execute_result"
    }
   ],
   "source": [
    "0.73891"
   ]
  },
  {
   "cell_type": "code",
   "execution_count": 22,
   "id": "84eef4a3",
   "metadata": {},
   "outputs": [
    {
     "data": {
      "text/plain": [
       "0.26109000000000004"
      ]
     },
     "execution_count": 22,
     "metadata": {},
     "output_type": "execute_result"
    }
   ],
   "source": [
    "1 - 0.73891"
   ]
  },
  {
   "cell_type": "markdown",
   "id": "67837c90",
   "metadata": {},
   "source": [
    "#### Calcular a probabilidade de selecionar uma pessoa entre o Q2 e Q3"
   ]
  },
  {
   "cell_type": "code",
   "execution_count": 23,
   "id": "ef7ddd0d",
   "metadata": {},
   "outputs": [
    {
     "data": {
      "text/plain": [
       "0.6321760154650706"
      ]
     },
     "execution_count": 23,
     "metadata": {},
     "output_type": "execute_result"
    }
   ],
   "source": [
    "(168 - media) / desvio_padrao"
   ]
  },
  {
   "cell_type": "code",
   "execution_count": 25,
   "id": "1c2dfa54",
   "metadata": {},
   "outputs": [
    {
     "data": {
      "text/plain": [
       "0.23890999999999996"
      ]
     },
     "execution_count": 25,
     "metadata": {},
     "output_type": "execute_result"
    }
   ],
   "source": [
    "0.73891 - 0.5"
   ]
  },
  {
   "cell_type": "markdown",
   "id": "7b0dd69b",
   "metadata": {},
   "source": [
    "#### Calcular a probabilidade de selecionar uma pessoa em Q1 ou Q3"
   ]
  },
  {
   "cell_type": "code",
   "execution_count": 28,
   "id": "8ca952ae",
   "metadata": {},
   "outputs": [
    {
     "data": {
      "text/plain": [
       "0.52218"
      ]
     },
     "execution_count": 28,
     "metadata": {},
     "output_type": "execute_result"
    }
   ],
   "source": [
    "0.26109 * 2"
   ]
  },
  {
   "cell_type": "markdown",
   "id": "133cc13d",
   "metadata": {},
   "source": [
    "#### Calcular a probabilidade de não selecionar uma pessoa em Q1 ou Q3"
   ]
  },
  {
   "cell_type": "code",
   "execution_count": 29,
   "id": "5f750692",
   "metadata": {},
   "outputs": [
    {
     "data": {
      "text/plain": [
       "0.47782"
      ]
     },
     "execution_count": 29,
     "metadata": {},
     "output_type": "execute_result"
    }
   ],
   "source": [
    "1 - 0.52218"
   ]
  },
  {
   "cell_type": "markdown",
   "id": "07bf0a0d",
   "metadata": {},
   "source": [
    "#### Scipy"
   ]
  },
  {
   "cell_type": "markdown",
   "id": "5e81a904",
   "metadata": {},
   "source": [
    "#### Calcular a probabilidade de selecionar uma pessoa em Q1"
   ]
  },
  {
   "cell_type": "code",
   "execution_count": 31,
   "id": "1f022719",
   "metadata": {},
   "outputs": [
    {
     "data": {
      "text/plain": [
       "0.26031570694492456"
      ]
     },
     "execution_count": 31,
     "metadata": {},
     "output_type": "execute_result"
    }
   ],
   "source": [
    "stats.norm.cdf(150.5, media, desvio_padrao)"
   ]
  },
  {
   "cell_type": "markdown",
   "id": "5a9f9eea",
   "metadata": {},
   "source": [
    "#### Calcular a probabilidade de selecionar uma pessoa em Q3"
   ]
  },
  {
   "cell_type": "code",
   "execution_count": 33,
   "id": "8e87ba7b",
   "metadata": {},
   "outputs": [
    {
     "data": {
      "text/plain": [
       "0.2636359339683334"
      ]
     },
     "execution_count": 33,
     "metadata": {},
     "output_type": "execute_result"
    }
   ],
   "source": [
    "1 - stats.norm.cdf(168, media, desvio_padrao)"
   ]
  },
  {
   "cell_type": "code",
   "execution_count": 34,
   "id": "f869dbf5",
   "metadata": {},
   "outputs": [
    {
     "data": {
      "text/plain": [
       "0.2636359339683334"
      ]
     },
     "execution_count": 34,
     "metadata": {},
     "output_type": "execute_result"
    }
   ],
   "source": [
    "stats.norm.sf(168, media, desvio_padrao)"
   ]
  },
  {
   "cell_type": "markdown",
   "id": "f3bb9fb3",
   "metadata": {},
   "source": [
    "#### Calcular a probabilidade de selecionar uma pessoa entre o Q2 e Q3"
   ]
  },
  {
   "cell_type": "code",
   "execution_count": 35,
   "id": "eda534c5",
   "metadata": {},
   "outputs": [
    {
     "data": {
      "text/plain": [
       "0.7363640660316666"
      ]
     },
     "execution_count": 35,
     "metadata": {},
     "output_type": "execute_result"
    }
   ],
   "source": [
    "stats.norm.cdf(168, media, desvio_padrao)"
   ]
  },
  {
   "cell_type": "code",
   "execution_count": 36,
   "id": "de1a634e",
   "metadata": {},
   "outputs": [
    {
     "data": {
      "text/plain": [
       "0.49796612380073607"
      ]
     },
     "execution_count": 36,
     "metadata": {},
     "output_type": "execute_result"
    }
   ],
   "source": [
    "stats.norm.cdf(159.25, media, desvio_padrao)"
   ]
  },
  {
   "cell_type": "code",
   "execution_count": 37,
   "id": "5f1f0fe4",
   "metadata": {},
   "outputs": [
    {
     "data": {
      "text/plain": [
       "0.23839794223093053"
      ]
     },
     "execution_count": 37,
     "metadata": {},
     "output_type": "execute_result"
    }
   ],
   "source": [
    "stats.norm.cdf(168, media, desvio_padrao) - stats.norm.cdf(159.25, media, desvio_padrao)"
   ]
  },
  {
   "cell_type": "markdown",
   "id": "5bfe93e7",
   "metadata": {},
   "source": [
    "Exercício 1 \n",
    "\n",
    "Uma empresa fez um concurso para seleção de novo funcionários. A prova tinha 50 questões e o Pedro acertou 40 questões.Considerando uma distribuição normal com média 24 e desvio padrão de 8, quais são as chances dele ser contratado?"
   ]
  },
  {
   "cell_type": "code",
   "execution_count": 41,
   "id": "4e4614a8",
   "metadata": {},
   "outputs": [
    {
     "data": {
      "text/plain": [
       "97.72498680518208"
      ]
     },
     "execution_count": 41,
     "metadata": {},
     "output_type": "execute_result"
    }
   ],
   "source": [
    "media = 24\n",
    "desvio_padrao = 8\n",
    "stats.norm.cdf(40, media, desvio_padrao) * 100"
   ]
  },
  {
   "cell_type": "markdown",
   "id": "0e1080e7",
   "metadata": {},
   "source": [
    "Exercício 2\n",
    "A vida útil de uma marca de pneus é representada por um distribuição normal com média de 38.000km e desvio padrão de 3.000km\n",
    "\n",
    "<ul>Qual a probabilidade de que um pneu escolhido aleatoriamente tenha vida útil de 35.000km?</ul>\n",
    "<ul>Qual a probabilidade de que ele dure mais do que 44.000km?</ul>"
   ]
  },
  {
   "cell_type": "code",
   "execution_count": 51,
   "id": "9d313deb",
   "metadata": {},
   "outputs": [
    {
     "data": {
      "text/plain": [
       "84.1344746068543"
      ]
     },
     "execution_count": 51,
     "metadata": {},
     "output_type": "execute_result"
    }
   ],
   "source": [
    "media = 38000\n",
    "desvio_padrao = 3000\n",
    "(1 - stats.norm.cdf(35000, media, desvio_padrao)) * 100"
   ]
  },
  {
   "cell_type": "code",
   "execution_count": 50,
   "id": "b8e2823d",
   "metadata": {},
   "outputs": [
    {
     "data": {
      "text/plain": [
       "2.275013194817921"
      ]
     },
     "execution_count": 50,
     "metadata": {},
     "output_type": "execute_result"
    }
   ],
   "source": [
    "(1 - stats.norm.cdf(44000, media, desvio_padrao)) * 100"
   ]
  },
  {
   "cell_type": "markdown",
   "id": "a9901399",
   "metadata": {},
   "source": [
    "### Probabilidade - Distribuição Binomial"
   ]
  },
  {
   "cell_type": "markdown",
   "id": "6679f84c",
   "metadata": {},
   "source": [
    "#### Exemplo das moedas\n",
    "\n",
    "Jogando a moeda 10 vezes, qual a probabilidade de boter 5 \"caras\"?"
   ]
  },
  {
   "cell_type": "code",
   "execution_count": 52,
   "id": "cdaa1c7f",
   "metadata": {},
   "outputs": [],
   "source": [
    "n = 10\n",
    "x = 5\n",
    "p = 0.5"
   ]
  },
  {
   "cell_type": "code",
   "execution_count": 54,
   "id": "34ff1227",
   "metadata": {},
   "outputs": [
    {
     "data": {
      "text/plain": [
       "0.24609375"
      ]
     },
     "execution_count": 54,
     "metadata": {},
     "output_type": "execute_result"
    }
   ],
   "source": [
    "((math.factorial(n)) / (math.factorial(n - x) * math.factorial(x))) * (math.pow(p, x) * math.pow(1 - p, n-x))"
   ]
  },
  {
   "cell_type": "code",
   "execution_count": 55,
   "id": "8dd4f5ce",
   "metadata": {},
   "outputs": [
    {
     "data": {
      "text/plain": [
       "0.24609375000000003"
      ]
     },
     "execution_count": 55,
     "metadata": {},
     "output_type": "execute_result"
    }
   ],
   "source": [
    "stats.binom.pmf(x, n, p)"
   ]
  },
  {
   "cell_type": "markdown",
   "id": "ecb55245",
   "metadata": {},
   "source": [
    "#### Exercicio 1"
   ]
  },
  {
   "cell_type": "markdown",
   "id": "c9b8a660",
   "metadata": {},
   "source": [
    "70% das pessoas que compraram o livro de Python são mulheres. Se 10 leitores forem selecionados randomicamente, qual a probablidade de selecionarmos 7 mulheres?"
   ]
  },
  {
   "cell_type": "code",
   "execution_count": 56,
   "id": "a1b3b4be",
   "metadata": {},
   "outputs": [],
   "source": [
    "p = 0.7\n",
    "x = 7\n",
    "n = 10"
   ]
  },
  {
   "cell_type": "code",
   "execution_count": 58,
   "id": "d5e6abf2",
   "metadata": {},
   "outputs": [
    {
     "data": {
      "text/plain": [
       "26.682793200000006"
      ]
     },
     "execution_count": 58,
     "metadata": {},
     "output_type": "execute_result"
    }
   ],
   "source": [
    "stats.binom.pmf(x, n, p) * 100"
   ]
  },
  {
   "cell_type": "markdown",
   "id": "13efc577",
   "metadata": {},
   "source": [
    "#### Exercicio 2"
   ]
  },
  {
   "cell_type": "markdown",
   "id": "2ee90d24",
   "metadata": {},
   "source": [
    "Em uma linha de produção de uma fábrica de parafusos, a probabilidade de obter um parafuso defeituoso é 0,05. Tendo uma amostra de 50 peças, qual a probabilidade de obter\n",
    "\n",
    "1. Um parafuso defeituoso\n",
    "2. Nenhum parafuso defeituoso"
   ]
  },
  {
   "cell_type": "code",
   "execution_count": 65,
   "id": "1086703b",
   "metadata": {},
   "outputs": [],
   "source": [
    "p = 0.05\n",
    "n = 50\n",
    "x = 1"
   ]
  },
  {
   "cell_type": "code",
   "execution_count": 66,
   "id": "cdf369d4",
   "metadata": {},
   "outputs": [
    {
     "data": {
      "text/plain": [
       "20.24867770439825"
      ]
     },
     "execution_count": 66,
     "metadata": {},
     "output_type": "execute_result"
    }
   ],
   "source": [
    "stats.binom.pmf(x, n, p) * 100"
   ]
  },
  {
   "cell_type": "code",
   "execution_count": 68,
   "id": "f3bff43c",
   "metadata": {},
   "outputs": [],
   "source": [
    "p = 0.05\n",
    "n = 50\n",
    "x = 0"
   ]
  },
  {
   "cell_type": "code",
   "execution_count": 69,
   "id": "b16468bd",
   "metadata": {},
   "outputs": [
    {
     "data": {
      "text/plain": [
       "7.694497527671315"
      ]
     },
     "execution_count": 69,
     "metadata": {},
     "output_type": "execute_result"
    }
   ],
   "source": [
    "stats.binom.pmf(x, n, p) * 100"
   ]
  },
  {
   "cell_type": "markdown",
   "id": "2702e053",
   "metadata": {},
   "source": [
    "#### Probabilidade - Distribuição  de Poisson"
   ]
  },
  {
   "cell_type": "markdown",
   "id": "38e4bd15",
   "metadata": {},
   "source": [
    "Exemplo dos carros\n",
    "\n",
    "O número médio de carros vendidos por dia é 10. Qual a probabilidade de vender 14 carros amanhã?"
   ]
  },
  {
   "cell_type": "code",
   "execution_count": 70,
   "id": "472a8d5b",
   "metadata": {},
   "outputs": [
    {
     "data": {
      "text/plain": [
       "2.718281828459045"
      ]
     },
     "execution_count": 70,
     "metadata": {},
     "output_type": "execute_result"
    }
   ],
   "source": [
    "math.e"
   ]
  },
  {
   "cell_type": "code",
   "execution_count": 71,
   "id": "31f12571",
   "metadata": {},
   "outputs": [],
   "source": [
    "x = 14\n",
    "media = 10"
   ]
  },
  {
   "cell_type": "code",
   "execution_count": 73,
   "id": "ad6783a4",
   "metadata": {},
   "outputs": [
    {
     "data": {
      "text/plain": [
       "5.207710444602621"
      ]
     },
     "execution_count": 73,
     "metadata": {},
     "output_type": "execute_result"
    }
   ],
   "source": [
    "math.pow(math.e, -media) * (math.pow(media, x) / math.factorial(x)) * 100"
   ]
  },
  {
   "cell_type": "code",
   "execution_count": 74,
   "id": "b0ea3219",
   "metadata": {},
   "outputs": [
    {
     "data": {
      "text/plain": [
       "0.05207710444602615"
      ]
     },
     "execution_count": 74,
     "metadata": {},
     "output_type": "execute_result"
    }
   ],
   "source": [
    "stats.poisson.pmf(x, media)"
   ]
  },
  {
   "cell_type": "markdown",
   "id": "68fa93b1",
   "metadata": {},
   "source": [
    "#### Exercicio 1\n",
    "\n",
    "Em uma linha de produção de uma fábrica de parafusos, a probabilidade é de obter 0.05 defeitos por UNIDADE. Qual a probabilidade de uma unidade apresentar:\n",
    "\n",
    "1. Um defeito\n",
    "2. Nenhum defeito"
   ]
  },
  {
   "cell_type": "code",
   "execution_count": 79,
   "id": "4f5dfe77",
   "metadata": {},
   "outputs": [
    {
     "data": {
      "text/plain": [
       "4.756147122503571"
      ]
     },
     "execution_count": 79,
     "metadata": {},
     "output_type": "execute_result"
    }
   ],
   "source": [
    "x = 1\n",
    "media = 0.05\n",
    "\n",
    "stats.poisson.pmf(x, media) * 100"
   ]
  },
  {
   "cell_type": "code",
   "execution_count": 80,
   "id": "5bdea02f",
   "metadata": {},
   "outputs": [
    {
     "data": {
      "text/plain": [
       "95.1229424500714"
      ]
     },
     "execution_count": 80,
     "metadata": {},
     "output_type": "execute_result"
    }
   ],
   "source": [
    "x = 0\n",
    "media = 0.05\n",
    "\n",
    "stats.poisson.pmf(x, media) * 100"
   ]
  },
  {
   "cell_type": "markdown",
   "id": "92763075",
   "metadata": {},
   "source": [
    "#### Exercicio 2\n",
    "\n",
    "Um vendedor de uma loja vende em média 50 produtos por dia. Qual a probabilidade de vender somente 5 produtos no próximo dia?"
   ]
  },
  {
   "cell_type": "code",
   "execution_count": 82,
   "id": "4ffa4f49",
   "metadata": {},
   "outputs": [],
   "source": [
    "media = 50\n",
    "x = 5"
   ]
  },
  {
   "cell_type": "code",
   "execution_count": 83,
   "id": "e5a30c85",
   "metadata": {},
   "outputs": [
    {
     "data": {
      "text/plain": [
       "5.0227860624060495e-14"
      ]
     },
     "execution_count": 83,
     "metadata": {},
     "output_type": "execute_result"
    }
   ],
   "source": [
    "stats.poisson.pmf(x, media)"
   ]
  },
  {
   "cell_type": "code",
   "execution_count": null,
   "id": "6c593794",
   "metadata": {},
   "outputs": [],
   "source": []
  }
 ],
 "metadata": {
  "kernelspec": {
   "display_name": "Python 3 (ipykernel)",
   "language": "python",
   "name": "python3"
  },
  "language_info": {
   "codemirror_mode": {
    "name": "ipython",
    "version": 3
   },
   "file_extension": ".py",
   "mimetype": "text/x-python",
   "name": "python",
   "nbconvert_exporter": "python",
   "pygments_lexer": "ipython3",
   "version": "3.9.12"
  }
 },
 "nbformat": 4,
 "nbformat_minor": 5
}
