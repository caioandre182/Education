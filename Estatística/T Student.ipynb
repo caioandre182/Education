{
 "cells": [
  {
   "cell_type": "markdown",
   "id": "71bc63f0",
   "metadata": {},
   "source": [
    "## Importando as bibliotecas"
   ]
  },
  {
   "cell_type": "code",
   "execution_count": 8,
   "id": "f50d967d",
   "metadata": {},
   "outputs": [],
   "source": [
    "import numpy as np\n",
    "from scipy.stats import t\n",
    "from scipy import stats\n",
    "import math\n",
    "\n",
    "import seaborn as sns"
   ]
  },
  {
   "cell_type": "markdown",
   "id": "bb067e15",
   "metadata": {},
   "source": [
    "## Distribuição T Student"
   ]
  },
  {
   "cell_type": "code",
   "execution_count": 2,
   "id": "add9a227",
   "metadata": {},
   "outputs": [],
   "source": [
    "dados = np.array([149., 160., 147., 189., 175., 168., 156., 160., 152.])"
   ]
  },
  {
   "cell_type": "code",
   "execution_count": 5,
   "id": "72f07988",
   "metadata": {},
   "outputs": [
    {
     "data": {
      "text/plain": [
       "(9, 161.77777777777777, 12.786953227391823)"
      ]
     },
     "execution_count": 5,
     "metadata": {},
     "output_type": "execute_result"
    }
   ],
   "source": [
    "n = len(dados)\n",
    "media = dados.mean()\n",
    "desvio_padrao = dados.std()\n",
    "\n",
    "n, media, desvio_padrao"
   ]
  },
  {
   "cell_type": "markdown",
   "id": "61e86d85",
   "metadata": {},
   "source": [
    "## Intervalo de confiança"
   ]
  },
  {
   "cell_type": "code",
   "execution_count": 9,
   "id": "75158976",
   "metadata": {},
   "outputs": [
    {
     "data": {
      "text/plain": [
       "(151.9488554388298, 171.60670011672573)"
      ]
     },
     "execution_count": 9,
     "metadata": {},
     "output_type": "execute_result"
    }
   ],
   "source": [
    "intervalos = t.interval(0.95, n - 1, media, stats.sem(dados, ddof = 0))\n",
    "intervalos"
   ]
  },
  {
   "cell_type": "code",
   "execution_count": 10,
   "id": "7906b09c",
   "metadata": {},
   "outputs": [
    {
     "data": {
      "text/plain": [
       "9.828922338947962"
      ]
     },
     "execution_count": 10,
     "metadata": {},
     "output_type": "execute_result"
    }
   ],
   "source": [
    "margem_erro = media - intervalos[0]\n",
    "margem_erro"
   ]
  }
 ],
 "metadata": {
  "kernelspec": {
   "display_name": "Python 3 (ipykernel)",
   "language": "python",
   "name": "python3"
  },
  "language_info": {
   "codemirror_mode": {
    "name": "ipython",
    "version": 3
   },
   "file_extension": ".py",
   "mimetype": "text/x-python",
   "name": "python",
   "nbconvert_exporter": "python",
   "pygments_lexer": "ipython3",
   "version": "3.9.12"
  }
 },
 "nbformat": 4,
 "nbformat_minor": 5
}
