{
 "cells": [
  {
   "cell_type": "markdown",
   "id": "2bcdacd1",
   "metadata": {},
   "source": [
    "### Carregamento da base de dados"
   ]
  },
  {
   "cell_type": "code",
   "execution_count": 1,
   "id": "93dba50b",
   "metadata": {},
   "outputs": [],
   "source": [
    "import pandas as pd\n",
    "import numpy as np\n",
    "\n",
    "import matplotlib.pyplot as plt\n",
    "import seaborn as sns"
   ]
  },
  {
   "cell_type": "code",
   "execution_count": 2,
   "id": "15ce3cbd",
   "metadata": {},
   "outputs": [],
   "source": [
    "dados = np.array([160,165,167,164,160,166,160,161,150,152,173,160,155,\n",
    "                 164,168,162,161,168,163,156,155,169,151,170,164,155,152,\n",
    "                 163,160,155,157,156,158,158,161,154,161,165,172,152])"
   ]
  },
  {
   "cell_type": "markdown",
   "id": "d63e0b0c",
   "metadata": {},
   "source": [
    "### Ordenação"
   ]
  },
  {
   "cell_type": "code",
   "execution_count": 3,
   "id": "28a5e874",
   "metadata": {},
   "outputs": [
    {
     "data": {
      "text/plain": [
       "array([150, 151, 152, 152, 152, 154, 155, 155, 155, 155, 156, 156, 157,\n",
       "       158, 158, 160, 160, 160, 160, 160, 161, 161, 161, 161, 162, 163,\n",
       "       163, 164, 164, 164, 165, 165, 166, 167, 168, 168, 169, 170, 172,\n",
       "       173])"
      ]
     },
     "execution_count": 3,
     "metadata": {},
     "output_type": "execute_result"
    }
   ],
   "source": [
    "dados = np.sort(dados)\n",
    "dados"
   ]
  },
  {
   "cell_type": "code",
   "execution_count": 4,
   "id": "3c5a18a9",
   "metadata": {},
   "outputs": [
    {
     "data": {
      "text/plain": [
       "150"
      ]
     },
     "execution_count": 4,
     "metadata": {},
     "output_type": "execute_result"
    }
   ],
   "source": [
    "minimo = dados.min()\n",
    "minimo"
   ]
  },
  {
   "cell_type": "code",
   "execution_count": 6,
   "id": "1ef41f26",
   "metadata": {},
   "outputs": [
    {
     "data": {
      "text/plain": [
       "173"
      ]
     },
     "execution_count": 6,
     "metadata": {},
     "output_type": "execute_result"
    }
   ],
   "source": [
    "maximo = dados.max()\n",
    "maximo"
   ]
  },
  {
   "cell_type": "code",
   "execution_count": 7,
   "id": "09f11e57",
   "metadata": {},
   "outputs": [
    {
     "data": {
      "text/plain": [
       "(array([150, 151, 152, 154, 155, 156, 157, 158, 160, 161, 162, 163, 164,\n",
       "        165, 166, 167, 168, 169, 170, 172, 173]),\n",
       " array([1, 1, 3, 1, 4, 2, 1, 2, 5, 4, 1, 2, 3, 2, 1, 1, 2, 1, 1, 1, 1],\n",
       "       dtype=int64))"
      ]
     },
     "execution_count": 7,
     "metadata": {},
     "output_type": "execute_result"
    }
   ],
   "source": [
    "np.unique(dados, return_counts=True)"
   ]
  },
  {
   "cell_type": "code",
   "execution_count": 8,
   "id": "4d0d4c96",
   "metadata": {},
   "outputs": [
    {
     "data": {
      "text/plain": [
       "<BarContainer object of 40 artists>"
      ]
     },
     "execution_count": 8,
     "metadata": {},
     "output_type": "execute_result"
    },
    {
     "data": {
      "image/png": "[encoded data removed]",
      "text/plain": [
       "<Figure size 432x288 with 1 Axes>"
      ]
     },
     "metadata": {
      "needs_background": "light"
     },
     "output_type": "display_data"
    }
   ],
   "source": [
    "plt.bar(dados,dados)"
   ]
  },
  {
   "cell_type": "markdown",
   "id": "28ce45b6",
   "metadata": {},
   "source": [
    "### Número de classes"
   ]
  },
  {
   "cell_type": "markdown",
   "id": "ea12c2b6",
   "metadata": {},
   "source": [
    "i = 1 + 3.3 log n"
   ]
  },
  {
   "cell_type": "code",
   "execution_count": 9,
   "id": "4f1963ef",
   "metadata": {},
   "outputs": [
    {
     "data": {
      "text/plain": [
       "40"
      ]
     },
     "execution_count": 9,
     "metadata": {},
     "output_type": "execute_result"
    }
   ],
   "source": [
    "n = len(dados)\n",
    "n"
   ]
  },
  {
   "cell_type": "code",
   "execution_count": 12,
   "id": "28965fb8",
   "metadata": {},
   "outputs": [
    {
     "data": {
      "text/plain": [
       "6.286797971382275"
      ]
     },
     "execution_count": 12,
     "metadata": {},
     "output_type": "execute_result"
    }
   ],
   "source": [
    "i = 1 + 3.3 * np.log10(n)\n",
    "i"
   ]
  },
  {
   "cell_type": "code",
   "execution_count": 13,
   "id": "0d84d24a",
   "metadata": {},
   "outputs": [
    {
     "data": {
      "text/plain": [
       "6"
      ]
     },
     "execution_count": 13,
     "metadata": {},
     "output_type": "execute_result"
    }
   ],
   "source": [
    "i = round(i)\n",
    "i"
   ]
  },
  {
   "cell_type": "markdown",
   "id": "0d4fdd4e",
   "metadata": {},
   "source": [
    "### Amplitude do intervalo"
   ]
  },
  {
   "cell_type": "markdown",
   "id": "209028bd",
   "metadata": {},
   "source": [
    "h = AA/i\n",
    "AA = Xmax - Xmin"
   ]
  },
  {
   "cell_type": "code",
   "execution_count": 14,
   "id": "9218f889",
   "metadata": {},
   "outputs": [
    {
     "data": {
      "text/plain": [
       "23"
      ]
     },
     "execution_count": 14,
     "metadata": {},
     "output_type": "execute_result"
    }
   ],
   "source": [
    "AA = maximo - minimo\n",
    "AA"
   ]
  },
  {
   "cell_type": "code",
   "execution_count": 15,
   "id": "1d0d36d8",
   "metadata": {},
   "outputs": [
    {
     "data": {
      "text/plain": [
       "3.8333333333333335"
      ]
     },
     "execution_count": 15,
     "metadata": {},
     "output_type": "execute_result"
    }
   ],
   "source": [
    "h = AA / i\n",
    "h"
   ]
  },
  {
   "cell_type": "code",
   "execution_count": 16,
   "id": "03a041ee",
   "metadata": {},
   "outputs": [
    {
     "data": {
      "text/plain": [
       "4"
      ]
     },
     "execution_count": 16,
     "metadata": {},
     "output_type": "execute_result"
    }
   ],
   "source": [
    "h = round(h)\n",
    "h"
   ]
  },
  {
   "cell_type": "markdown",
   "id": "6914bc67",
   "metadata": {},
   "source": [
    "### Construção da distribuição de frequência"
   ]
  },
  {
   "cell_type": "code",
   "execution_count": 18,
   "id": "761e3db0",
   "metadata": {},
   "outputs": [
    {
     "data": {
      "text/plain": [
       "array([150, 154, 158, 162, 166, 170, 174])"
      ]
     },
     "execution_count": 18,
     "metadata": {},
     "output_type": "execute_result"
    }
   ],
   "source": [
    "intervalos = np.arange(minimo, maximo + 2, step=h)\n",
    "intervalos"
   ]
  },
  {
   "cell_type": "code",
   "execution_count": 19,
   "id": "95509130",
   "metadata": {},
   "outputs": [],
   "source": [
    "intervalo1, intervalo2, intervalo3, intervalo4, intervalo5, intervalo6 =0,0,0,0,0,0\n",
    "for i in range(n):\n",
    "    if dados[i] >= intervalos[0] and dados[i] < intervalos[1]:\n",
    "        intervalo1 += 1\n",
    "    elif dados[i] >= intervalos[1] and dados[i] < intervalos[2]:\n",
    "        intervalo2 += 1\n",
    "    elif dados[i] >= intervalos[2] and dados[i] < intervalos[3]:\n",
    "        intervalo3 += 1\n",
    "    elif dados[i] >= intervalos[3] and dados[i] < intervalos[4]:\n",
    "        intervalo4 += 1\n",
    "    elif dados[i] >= intervalos[4] and dados[i] < intervalos[5]:\n",
    "        intervalo5 += 1   \n",
    "    else:\n",
    "        intervalo6 +=1"
   ]
  },
  {
   "cell_type": "code",
   "execution_count": 29,
   "id": "432d7a75",
   "metadata": {},
   "outputs": [
    {
     "data": {
      "text/plain": [
       "[5, 8, 11, 8, 5, 3]"
      ]
     },
     "execution_count": 29,
     "metadata": {},
     "output_type": "execute_result"
    }
   ],
   "source": [
    "lista_intervalos = []\n",
    "lista_intervalos.append(intervalo1)\n",
    "lista_intervalos.append(intervalo2)\n",
    "lista_intervalos.append(intervalo3)\n",
    "lista_intervalos.append(intervalo4)\n",
    "lista_intervalos.append(intervalo5)\n",
    "lista_intervalos.append(intervalo6)\n",
    "lista_intervalos"
   ]
  },
  {
   "cell_type": "code",
   "execution_count": 32,
   "id": "0ef4a57b",
   "metadata": {},
   "outputs": [],
   "source": [
    "lista_classes = []\n",
    "for i in range(len(lista_intervalos)):\n",
    "    lista_classes.append(str(intervalos[i]) +'-'+str(intervalos[i + 1]))"
   ]
  },
  {
   "cell_type": "code",
   "execution_count": 33,
   "id": "33fba7f1",
   "metadata": {},
   "outputs": [
    {
     "data": {
      "text/plain": [
       "['150-154', '154-158', '158-162', '162-166', '166-170', '170-174']"
      ]
     },
     "execution_count": 33,
     "metadata": {},
     "output_type": "execute_result"
    }
   ],
   "source": [
    "lista_classes"
   ]
  },
  {
   "cell_type": "code",
   "execution_count": 34,
   "id": "e5bc6eda",
   "metadata": {},
   "outputs": [
    {
     "data": {
      "image/png": "[encoded data removed]",
      "text/plain": [
       "<Figure size 432x288 with 1 Axes>"
      ]
     },
     "metadata": {
      "needs_background": "light"
     },
     "output_type": "display_data"
    }
   ],
   "source": [
    "plt.bar(lista_classes, lista_intervalos)\n",
    "plt.title('Distribuição de frequência - histograma')\n",
    "plt.xlabel('intervalos')\n",
    "plt.ylabel('valores');"
   ]
  },
  {
   "cell_type": "markdown",
   "id": "19722077",
   "metadata": {},
   "source": [
    "### Distribuição de frequência e histograma com numpy e matplotlib"
   ]
  },
  {
   "cell_type": "code",
   "execution_count": 35,
   "id": "cfc72620",
   "metadata": {},
   "outputs": [],
   "source": [
    "dados = np.array([160,165,167,164,160,166,160,161,150,152,173,160,155,\n",
    "                 164,168,162,161,168,163,156,155,169,151,170,164,155,152,\n",
    "                 163,160,155,157,156,158,158,161,154,161,165,172,152])"
   ]
  },
  {
   "cell_type": "code",
   "execution_count": 36,
   "id": "6f77585e",
   "metadata": {},
   "outputs": [],
   "source": [
    "frequencia, classes = np.histogram(dados)"
   ]
  },
  {
   "cell_type": "code",
   "execution_count": 37,
   "id": "0eaeddbc",
   "metadata": {},
   "outputs": [
    {
     "data": {
      "text/plain": [
       "array([5, 1, 6, 3, 9, 3, 6, 3, 2, 2], dtype=int64)"
      ]
     },
     "execution_count": 37,
     "metadata": {},
     "output_type": "execute_result"
    }
   ],
   "source": [
    "frequencia"
   ]
  },
  {
   "cell_type": "code",
   "execution_count": 38,
   "id": "0de5771a",
   "metadata": {},
   "outputs": [
    {
     "data": {
      "text/plain": [
       "array([150. , 152.3, 154.6, 156.9, 159.2, 161.5, 163.8, 166.1, 168.4,\n",
       "       170.7, 173. ])"
      ]
     },
     "execution_count": 38,
     "metadata": {},
     "output_type": "execute_result"
    }
   ],
   "source": [
    "classes"
   ]
  },
  {
   "cell_type": "code",
   "execution_count": 39,
   "id": "1b23f23c",
   "metadata": {},
   "outputs": [
    {
     "data": {
      "image/png": "[encoded data removed]",
      "text/plain": [
       "<Figure size 432x288 with 1 Axes>"
      ]
     },
     "metadata": {
      "needs_background": "light"
     },
     "output_type": "display_data"
    }
   ],
   "source": [
    "plt.hist(dados, bins = classes);"
   ]
  },
  {
   "cell_type": "code",
   "execution_count": 40,
   "id": "100664bd",
   "metadata": {},
   "outputs": [
    {
     "data": {
      "text/plain": [
       "(array([ 6,  9, 12,  9,  4], dtype=int64),\n",
       " array([150. , 154.6, 159.2, 163.8, 168.4, 173. ]))"
      ]
     },
     "execution_count": 40,
     "metadata": {},
     "output_type": "execute_result"
    }
   ],
   "source": [
    "frequencia, classes = np.histogram(dados, bins=5)\n",
    "frequencia, classes"
   ]
  },
  {
   "cell_type": "code",
   "execution_count": 41,
   "id": "3aa8b9af",
   "metadata": {},
   "outputs": [
    {
     "data": {
      "image/png": "[encoded data removed]",
      "text/plain": [
       "<Figure size 432x288 with 1 Axes>"
      ]
     },
     "metadata": {
      "needs_background": "light"
     },
     "output_type": "display_data"
    }
   ],
   "source": [
    "plt.hist(dados, bins = classes);"
   ]
  },
  {
   "cell_type": "code",
   "execution_count": 42,
   "id": "a311d930",
   "metadata": {},
   "outputs": [
    {
     "data": {
      "text/plain": [
       "(array([ 5,  7,  3, 12,  6,  4,  3], dtype=int64),\n",
       " array([150.        , 153.28571429, 156.57142857, 159.85714286,\n",
       "        163.14285714, 166.42857143, 169.71428571, 173.        ]))"
      ]
     },
     "execution_count": 42,
     "metadata": {},
     "output_type": "execute_result"
    }
   ],
   "source": [
    "frequencia, classes = np.histogram(dados, bins='sturges')\n",
    "frequencia, classes"
   ]
  },
  {
   "cell_type": "code",
   "execution_count": 43,
   "id": "f7931417",
   "metadata": {},
   "outputs": [
    {
     "data": {
      "image/png": "[encoded data removed]",
      "text/plain": [
       "<Figure size 432x288 with 1 Axes>"
      ]
     },
     "metadata": {
      "needs_background": "light"
     },
     "output_type": "display_data"
    }
   ],
   "source": [
    "plt.hist(dados, bins = classes);"
   ]
  },
  {
   "cell_type": "markdown",
   "id": "3a3b68d8",
   "metadata": {},
   "source": [
    "### Distribuição de frequência com pandas e seaborn"
   ]
  },
  {
   "cell_type": "code",
   "execution_count": 44,
   "id": "842a8fa1",
   "metadata": {},
   "outputs": [
    {
     "data": {
      "text/html": [
       "<div>\n",
       "<style scoped>\n",
       "    .dataframe tbody tr th:only-of-type {\n",
       "        vertical-align: middle;\n",
       "    }\n",
       "\n",
       "    .dataframe tbody tr th {\n",
       "        vertical-align: top;\n",
       "    }\n",
       "\n",
       "    .dataframe thead th {\n",
       "        text-align: right;\n",
       "    }\n",
       "</style>\n",
       "<table border=\"1\" class=\"dataframe\">\n",
       "  <thead>\n",
       "    <tr style=\"text-align: right;\">\n",
       "      <th></th>\n",
       "      <th>dados</th>\n",
       "    </tr>\n",
       "  </thead>\n",
       "  <tbody>\n",
       "    <tr>\n",
       "      <th>0</th>\n",
       "      <td>160</td>\n",
       "    </tr>\n",
       "    <tr>\n",
       "      <th>1</th>\n",
       "      <td>165</td>\n",
       "    </tr>\n",
       "    <tr>\n",
       "      <th>2</th>\n",
       "      <td>167</td>\n",
       "    </tr>\n",
       "    <tr>\n",
       "      <th>3</th>\n",
       "      <td>164</td>\n",
       "    </tr>\n",
       "    <tr>\n",
       "      <th>4</th>\n",
       "      <td>160</td>\n",
       "    </tr>\n",
       "  </tbody>\n",
       "</table>\n",
       "</div>"
      ],
      "text/plain": [
       "   dados\n",
       "0    160\n",
       "1    165\n",
       "2    167\n",
       "3    164\n",
       "4    160"
      ]
     },
     "execution_count": 44,
     "metadata": {},
     "output_type": "execute_result"
    }
   ],
   "source": [
    "df = pd.DataFrame({'dados':dados})\n",
    "df.head()"
   ]
  },
  {
   "cell_type": "code",
   "execution_count": 47,
   "id": "bca41178",
   "metadata": {},
   "outputs": [
    {
     "data": {
      "image/png": "[encoded data removed]",
      "text/plain": [
       "<Figure size 432x288 with 1 Axes>"
      ]
     },
     "metadata": {
      "needs_background": "light"
     },
     "output_type": "display_data"
    }
   ],
   "source": [
    "df.plot.hist(bins=6);"
   ]
  },
  {
   "cell_type": "code",
   "execution_count": 51,
   "id": "ee8e2ebb",
   "metadata": {},
   "outputs": [
    {
     "data": {
      "image/png": "[encoded data removed]",
      "text/plain": [
       "<Figure size 432x288 with 1 Axes>"
      ]
     },
     "metadata": {
      "needs_background": "light"
     },
     "output_type": "display_data"
    }
   ],
   "source": [
    "sns.histplot(dados, kde=True);"
   ]
  }
 ],
 "metadata": {
  "kernelspec": {
   "display_name": "Python 3 (ipykernel)",
   "language": "python",
   "name": "python3"
  },
  "language_info": {
   "codemirror_mode": {
    "name": "ipython",
    "version": 3
   },
   "file_extension": ".py",
   "mimetype": "text/x-python",
   "name": "python",
   "nbconvert_exporter": "python",
   "pygments_lexer": "ipython3",
   "version": "3.9.12"
  }
 },
 "nbformat": 4,
 "nbformat_minor": 5
}
