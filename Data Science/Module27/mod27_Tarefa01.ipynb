{
 "cells": [
  {
   "cell_type": "markdown",
   "metadata": {},
   "source": [
    "![Cabec%CC%A7alho_notebook.png](cabecalho_notebook.png)"
   ]
  },
  {
   "cell_type": "markdown",
   "metadata": {},
   "source": [
    "# PCA - Tarefa 01: *HAR* com PCA\n",
    "\n",
    "Vamos trabalhar com a base da demonstração feita em aula, mas vamos explorar um pouco melhor como é o desempenho da árvore variando o número de componentes principais."
   ]
  },
  {
   "cell_type": "code",
   "execution_count": 64,
   "metadata": {},
   "outputs": [],
   "source": [
    "import pandas as pd\n",
    "import time\n",
    "\n",
    "from sklearn.tree import DecisionTreeClassifier\n",
    "\n",
    "from sklearn.decomposition import PCA\n",
    "from sklearn.metrics import accuracy_score\n",
    "from sklearn.model_selection import cross_val_score\n",
    "from sklearn.model_selection import GridSearchCV\n",
    "\n",
    "\n",
    "X_train = pd.read_csv('X_train_df.csv')\n",
    "X_test = pd.read_csv('X_test_df.csv')\n",
    "y_train = pd.read_csv('./train/y_train.txt', header=None)\n",
    "y_test = pd.read_csv('./test/y_test.txt', header=None)"
   ]
  },
  {
   "cell_type": "markdown",
   "metadata": {},
   "source": [
    "## Árvore de decisão\n",
    "\n",
    "Rode uma árvore de decisão com todas as variáveis, utilizando o ```ccp_alpha=0.001```. Avalie a acurácia nas bases de treinamento e teste. Avalie o tempo de processamento."
   ]
  },
  {
   "cell_type": "code",
   "execution_count": 42,
   "metadata": {},
   "outputs": [
    {
     "name": "stdout",
     "output_type": "stream",
     "text": [
      "CPU times: user 3.92 s, sys: 38.6 ms, total: 3.96 s\n",
      "Wall time: 3.96 s\n"
     ]
    },
    {
     "data": {
      "text/plain": [
       "DecisionTreeClassifier(ccp_alpha=0.001)"
      ]
     },
     "execution_count": 42,
     "metadata": {},
     "output_type": "execute_result"
    }
   ],
   "source": [
    "%%time\n",
    "\n",
    "clf = DecisionTreeClassifier(ccp_alpha=0.001)\n",
    "\n",
    "clf.fit(X_train, y_train)"
   ]
  },
  {
   "cell_type": "code",
   "execution_count": 43,
   "metadata": {},
   "outputs": [
    {
     "name": "stdout",
     "output_type": "stream",
     "text": [
      "Acurácia do modelo na base de treino é de: 97.7%\n",
      "Acurácia do modelo na base de teste é de: 87.8%\n"
     ]
    }
   ],
   "source": [
    "train_score = clf.score(X_train, y_train)\n",
    "test_score = clf.score(X_test, y_test)\n",
    "\n",
    "print(f'Acurácia do modelo na base de treino é de: {round(train_score, 3) * 100}%')\n",
    "print(f'Acurácia do modelo na base de teste é de: {round(test_score, 3) * 100}%')"
   ]
  },
  {
   "cell_type": "markdown",
   "metadata": {},
   "source": [
    "## Árvore com PCA\n",
    "\n",
    "Faça uma análise de componemtes principais das variáveis originais. Utilize apenas uma componente. Faça uma árvore de decisão com esta componente como variável explicativa.\n",
    "\n",
    "- Avalie a acurácia nas bases de treinamento e teste\n",
    "- Avalie o tempo de processamento"
   ]
  },
  {
   "cell_type": "code",
   "execution_count": 41,
   "metadata": {},
   "outputs": [
    {
     "name": "stdout",
     "output_type": "stream",
     "text": [
      "CPU times: user 477 ms, sys: 60.6 ms, total: 537 ms\n",
      "Wall time: 236 ms\n"
     ]
    }
   ],
   "source": [
    "%%time\n",
    "\n",
    "prcomp = PCA(n_components=1).fit(X_train)\n",
    "\n",
    "pc_train = prcomp.transform(X_train)\n",
    "pc_test  = prcomp.transform(X_test)"
   ]
  },
  {
   "cell_type": "code",
   "execution_count": 50,
   "metadata": {},
   "outputs": [
    {
     "data": {
      "text/plain": [
       "DecisionTreeClassifier(ccp_alpha=0.001)"
      ]
     },
     "execution_count": 50,
     "metadata": {},
     "output_type": "execute_result"
    }
   ],
   "source": [
    "clf_pc = DecisionTreeClassifier(ccp_alpha=0.001)\n",
    "clf_pc.fit(pc_train, y_train)"
   ]
  },
  {
   "cell_type": "code",
   "execution_count": 51,
   "metadata": {},
   "outputs": [
    {
     "name": "stdout",
     "output_type": "stream",
     "text": [
      "Acurácia do modelo na base de treino com PCA é de: 98.7%\n",
      "Acurácia do modelo na base de teste com PCA é de: 13.3%\n"
     ]
    }
   ],
   "source": [
    "pc_train_score = clf_pc.score(pc_train, y_train)\n",
    "pc_test_score = clf_pc.score(pc_test, y_test)\n",
    "\n",
    "print(f'Acurácia do modelo na base de treino com PCA é de: {round(pc_train_score, 3) * 100}%')\n",
    "print(f'Acurácia do modelo na base de teste com PCA é de: {round(pc_test_score, 3) * 100}%')"
   ]
  },
  {
   "cell_type": "markdown",
   "metadata": {},
   "source": [
    "## Testando o número de componentes\n",
    "\n",
    "Com base no código acima, teste a árvore de classificação com pelo menos as seguintes possibilidades de quantidades de componentes: ```[1, 2, 5, 10, 50]```. Avalie para cada uma delas:\n",
    "\n",
    "- Acurácia nas bases de treino e teste\n",
    "- Tempo de processamento\n"
   ]
  },
  {
   "cell_type": "code",
   "execution_count": 59,
   "metadata": {},
   "outputs": [
    {
     "name": "stdout",
     "output_type": "stream",
     "text": [
      "PCA --- 2\n",
      "Acurácia do modelo na base de treino com PCA de 2 é de: 87.8%\n",
      "Acurácia do modelo na base de teste com PCA de 2 é de: 38.3%\n",
      "CPU times: user 592 ms, sys: 52.1 ms, total: 644 ms\n",
      "Wall time: 264 ms\n"
     ]
    }
   ],
   "source": [
    "%%time\n",
    "\n",
    "i=2\n",
    "\n",
    "prcomp = PCA(n_components=i).fit(X_train)\n",
    "\n",
    "pc_train = prcomp.transform(X_train)\n",
    "pc_test  = prcomp.transform(X_test)\n",
    "    \n",
    "clf_pc = DecisionTreeClassifier(ccp_alpha=0.001)\n",
    "clf_pc.fit(pc_train, y_train)\n",
    "    \n",
    "pc_train_score = clf_pc.score(pc_train, y_train)\n",
    "pc_test_score = clf_pc.score(pc_test, y_test)\n",
    "    \n",
    "print(f'PCA --- {i}')\n",
    "print(f'Acurácia do modelo na base de treino com PCA de {i} é de: {round(pc_train_score, 3) * 100}%')\n",
    "print(f'Acurácia do modelo na base de teste com PCA de {i} é de: {round(pc_test_score, 3) * 100}%')"
   ]
  },
  {
   "cell_type": "code",
   "execution_count": 60,
   "metadata": {},
   "outputs": [
    {
     "name": "stdout",
     "output_type": "stream",
     "text": [
      "PCA --- 5\n",
      "Acurácia do modelo na base de treino com PCA de 5 é de: 87.3%\n",
      "Acurácia do modelo na base de teste com PCA de 5 é de: 67.5%\n",
      "CPU times: user 717 ms, sys: 70.9 ms, total: 788 ms\n",
      "Wall time: 307 ms\n"
     ]
    }
   ],
   "source": [
    "%%time\n",
    "\n",
    "i=5\n",
    "\n",
    "prcomp = PCA(n_components=i).fit(X_train)\n",
    "\n",
    "pc_train = prcomp.transform(X_train)\n",
    "pc_test  = prcomp.transform(X_test)\n",
    "    \n",
    "clf_pc = DecisionTreeClassifier(ccp_alpha=0.001)\n",
    "clf_pc.fit(pc_train, y_train)\n",
    "    \n",
    "pc_train_score = clf_pc.score(pc_train, y_train)\n",
    "pc_test_score = clf_pc.score(pc_test, y_test)\n",
    "    \n",
    "print(f'PCA --- {i}')\n",
    "print(f'Acurácia do modelo na base de treino com PCA de {i} é de: {round(pc_train_score, 3) * 100}%')\n",
    "print(f'Acurácia do modelo na base de teste com PCA de {i} é de: {round(pc_test_score, 3) * 100}%')"
   ]
  },
  {
   "cell_type": "code",
   "execution_count": 61,
   "metadata": {},
   "outputs": [
    {
     "name": "stdout",
     "output_type": "stream",
     "text": [
      "PCA --- 10\n",
      "Acurácia do modelo na base de treino com PCA de 10 é de: 89.3%\n",
      "Acurácia do modelo na base de teste com PCA de 10 é de: 72.1%\n",
      "CPU times: user 857 ms, sys: 31.9 ms, total: 889 ms\n",
      "Wall time: 339 ms\n"
     ]
    }
   ],
   "source": [
    "%%time\n",
    "i=10\n",
    "\n",
    "prcomp = PCA(n_components=i).fit(X_train)\n",
    "\n",
    "pc_train = prcomp.transform(X_train)\n",
    "pc_test  = prcomp.transform(X_test)\n",
    "    \n",
    "clf_pc = DecisionTreeClassifier(ccp_alpha=0.001)\n",
    "clf_pc.fit(pc_train, y_train)\n",
    "    \n",
    "pc_train_score = clf_pc.score(pc_train, y_train)\n",
    "pc_test_score = clf_pc.score(pc_test, y_test)\n",
    "    \n",
    "print(f'PCA --- {i}')\n",
    "print(f'Acurácia do modelo na base de treino com PCA de {i} é de: {round(pc_train_score, 3) * 100}%')\n",
    "print(f'Acurácia do modelo na base de teste com PCA de {i} é de: {round(pc_test_score, 3) * 100}%')"
   ]
  },
  {
   "cell_type": "code",
   "execution_count": 62,
   "metadata": {},
   "outputs": [
    {
     "name": "stdout",
     "output_type": "stream",
     "text": [
      "PCA --- 50\n",
      "Acurácia do modelo na base de treino com PCA de 50 é de: 92.0%\n",
      "Acurácia do modelo na base de teste com PCA de 50 é de: 72.8%\n",
      "CPU times: user 1.39 s, sys: 23.7 ms, total: 1.41 s\n",
      "Wall time: 715 ms\n"
     ]
    }
   ],
   "source": [
    "%%time\n",
    "\n",
    "i=50\n",
    "\n",
    "prcomp = PCA(n_components=i).fit(X_train)\n",
    "\n",
    "pc_train = prcomp.transform(X_train)\n",
    "pc_test  = prcomp.transform(X_test)\n",
    "    \n",
    "clf_pc = DecisionTreeClassifier(ccp_alpha=0.001)\n",
    "clf_pc.fit(pc_train, y_train)\n",
    "    \n",
    "pc_train_score = clf_pc.score(pc_train, y_train)\n",
    "pc_test_score = clf_pc.score(pc_test, y_test)\n",
    "    \n",
    "print(f'PCA --- {i}')\n",
    "print(f'Acurácia do modelo na base de treino com PCA de {i} é de: {round(pc_train_score, 3) * 100}%')\n",
    "print(f'Acurácia do modelo na base de teste com PCA de {i} é de: {round(pc_test_score, 3) * 100}%')"
   ]
  },
  {
   "cell_type": "code",
   "execution_count": 70,
   "metadata": {},
   "outputs": [
    {
     "name": "stdout",
     "output_type": "stream",
     "text": [
      "PCA --- 1\n",
      "Acurácia do modelo na base de treino com PCA de 1 é de: 98.7%\n",
      "Acurácia do modelo na base de teste com PCA de 1 é de: 13.3%\n",
      "Tempo de execução: 0.3308 segundos\n",
      "--------------------------------------------------------------------------------------------\n",
      "--------------------------------------------------------------------------------------------\n",
      "PCA --- 2\n",
      "Acurácia do modelo na base de treino com PCA de 2 é de: 87.8%\n",
      "Acurácia do modelo na base de teste com PCA de 2 é de: 38.3%\n",
      "Tempo de execução: 0.2464 segundos\n",
      "--------------------------------------------------------------------------------------------\n",
      "--------------------------------------------------------------------------------------------\n",
      "PCA --- 5\n",
      "Acurácia do modelo na base de treino com PCA de 5 é de: 87.3%\n",
      "Acurácia do modelo na base de teste com PCA de 5 é de: 67.5%\n",
      "Tempo de execução: 0.2859 segundos\n",
      "--------------------------------------------------------------------------------------------\n",
      "--------------------------------------------------------------------------------------------\n",
      "PCA --- 10\n",
      "Acurácia do modelo na base de treino com PCA de 10 é de: 90.3%\n",
      "Acurácia do modelo na base de teste com PCA de 10 é de: 71.39999999999999%\n",
      "Tempo de execução: 0.34 segundos\n",
      "--------------------------------------------------------------------------------------------\n",
      "--------------------------------------------------------------------------------------------\n",
      "PCA --- 50\n",
      "Acurácia do modelo na base de treino com PCA de 50 é de: 92.30000000000001%\n",
      "Acurácia do modelo na base de teste com PCA de 50 é de: 72.89999999999999%\n",
      "Tempo de execução: 0.7478 segundos\n",
      "--------------------------------------------------------------------------------------------\n",
      "--------------------------------------------------------------------------------------------\n",
      "CPU times: user 4.22 s, sys: 233 ms, total: 4.45 s\n",
      "Wall time: 1.95 s\n"
     ]
    }
   ],
   "source": [
    "%%time\n",
    "\n",
    "n = [1,2,5,10,50]\n",
    "\n",
    "for i in n:\n",
    "    t1 = time.time()\n",
    "    prcomp = PCA(n_components=i).fit(X_train)\n",
    "\n",
    "    pc_train = prcomp.transform(X_train)\n",
    "    pc_test  = prcomp.transform(X_test)\n",
    "    \n",
    "    clf_pc = DecisionTreeClassifier(ccp_alpha=0.001)\n",
    "    clf_pc.fit(pc_train, y_train)\n",
    "    \n",
    "    pc_train_score = clf_pc.score(pc_train, y_train)\n",
    "    pc_test_score = clf_pc.score(pc_test, y_test)\n",
    "    time.time()\n",
    "    tempoExec = time.time() - t1\n",
    "    \n",
    "    print(f'PCA --- {i}')\n",
    "    print(f'Acurácia do modelo na base de treino com PCA de {i} é de: {round(pc_train_score, 3) * 100}%')\n",
    "    print(f'Acurácia do modelo na base de teste com PCA de {i} é de: {round(pc_test_score, 3) * 100}%')\n",
    "    print(f'Tempo de execução: {round(tempoExec, 4)} segundos')\n",
    "    print('--------------------------------------------------------------------------------------------')\n",
    "    print('--------------------------------------------------------------------------------------------')"
   ]
  },
  {
   "cell_type": "markdown",
   "metadata": {},
   "source": [
    "## Conclua\n",
    "\n",
    "- O que aconteceu com a acurácia?\n",
    "- O que aconteceu com o tempo de processamento?"
   ]
  },
  {
   "cell_type": "markdown",
   "metadata": {},
   "source": [
    "<p>Conforme aumenta o número de dimensionalidade com a função PCA, a acurácia também aumenta, <code>n=50</code>,  teve uma acurácia de <b>73%</b>, já <code>n=1</code>, teve a pior com <b>13%</b>.</p>"
   ]
  },
  {
   "cell_type": "markdown",
   "metadata": {},
   "source": [
    "<p>Como registrado o tempo foi aumentando conforme o número fosse aumentando, mas ainda bem longe de do tempo sem o uso de PCA.</p>"
   ]
  }
 ],
 "metadata": {
  "kernelspec": {
   "display_name": "Python 3 (ipykernel)",
   "language": "python",
   "name": "python3"
  },
  "language_info": {
   "codemirror_mode": {
    "name": "ipython",
    "version": 3
   },
   "file_extension": ".py",
   "mimetype": "text/x-python",
   "name": "python",
   "nbconvert_exporter": "python",
   "pygments_lexer": "ipython3",
   "version": "3.9.7"
  },
  "toc": {
   "base_numbering": 1,
   "nav_menu": {},
   "number_sections": true,
   "sideBar": true,
   "skip_h1_title": true,
   "title_cell": "Índice",
   "title_sidebar": "Conteúdo",
   "toc_cell": false,
   "toc_position": {},
   "toc_section_display": true,
   "toc_window_display": false
  },
  "varInspector": {
   "cols": {
    "lenName": 16,
    "lenType": 16,
    "lenVar": 40
   },
   "kernels_config": {
    "python": {
     "delete_cmd_postfix": "",
     "delete_cmd_prefix": "del ",
     "library": "var_list.py",
     "varRefreshCmd": "print(var_dic_list())"
    },
    "r": {
     "delete_cmd_postfix": ") ",
     "delete_cmd_prefix": "rm(",
     "library": "var_list.r",
     "varRefreshCmd": "cat(var_dic_list()) "
    }
   },
   "types_to_exclude": [
    "module",
    "function",
    "builtin_function_or_method",
    "instance",
    "_Feature"
   ],
   "window_display": false
  }
 },
 "nbformat": 4,
 "nbformat_minor": 4
}
