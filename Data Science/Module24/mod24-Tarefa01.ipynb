{
 "cells": [
  {
   "cell_type": "markdown",
   "id": "993a3b66",
   "metadata": {},
   "source": [
    "# <center>Tarefa 1</center>"
   ]
  },
  {
   "cell_type": "markdown",
   "id": "977bbae0",
   "metadata": {},
   "source": [
    "### 1. Cite 5 diferenças entre o Random Forest e o AdaBoost"
   ]
  },
  {
   "cell_type": "markdown",
   "id": "17eed34a",
   "metadata": {},
   "source": [
    "<ol>\n",
    "    <li>Random Forest tem uma Floresta de Árvores, o AdaBoost uma floresta de Stumps</li>\n",
    "    <li>Random Forest as árvores são independentes, o AdaBoost o stump influencia no outro</li>\n",
    "    <li>Random Forest as respostas tem o mesmo peso, o AdaBoost cada stump tem um peso que influencia na votação</li>\n",
    "    <li>Random Forest costuma ter uma precisão menor do que o AdaBoost, já o AdaBoost costuma ser mais sensível ao overfitting</li>\n",
    "    <li>Random Forest usa a técnica de emsembling paralelo, enquanto o Adaboost usa ensembling squencial</li>\n",
    "<ol>"
   ]
  },
  {
   "cell_type": "markdown",
   "id": "940790dd",
   "metadata": {},
   "source": [
    "### 2. Acesse o link Scikit-learn – adaboost, leia a explicação (traduza se for preciso) e crie um jupyter notebook contendo o exemplo do AdaBoost"
   ]
  },
  {
   "cell_type": "code",
   "execution_count": 2,
   "id": "497cbcdf",
   "metadata": {},
   "outputs": [],
   "source": [
    "from sklearn.model_selection import cross_val_score\n",
    "from sklearn.datasets import load_iris\n",
    "from sklearn.ensemble import AdaBoostClassifier"
   ]
  },
  {
   "cell_type": "code",
   "execution_count": 3,
   "id": "0f60430c",
   "metadata": {},
   "outputs": [
    {
     "name": "stdout",
     "output_type": "stream",
     "text": [
      "Wall time: 1.13 s\n"
     ]
    },
    {
     "data": {
      "text/plain": [
       "0.9466666666666665"
      ]
     },
     "execution_count": 3,
     "metadata": {},
     "output_type": "execute_result"
    }
   ],
   "source": [
    "%%time \n",
    "\n",
    "X, y = load_iris(return_X_y=True)\n",
    "clf = AdaBoostClassifier(n_estimators=100)\n",
    "scores = cross_val_score(clf, X, y, cv=5)\n",
    "scores.mean()"
   ]
  },
  {
   "cell_type": "markdown",
   "id": "5dc0f0fb",
   "metadata": {},
   "source": [
    "### 3. Cite 5 Hyperparametros importantes no AdaBoost"
   ]
  },
  {
   "cell_type": "markdown",
   "id": "2e5d5b04",
   "metadata": {},
   "source": [
    "<ol>\n",
    "    <li>n_estimators</li>\n",
    "    <li>learning_rate</li>\n",
    "    <li>base_estimator</li>\n",
    "    <li>max_depth</li>\n",
    "    <li>min_samples_split</li>\n",
    "</ol>"
   ]
  },
  {
   "cell_type": "markdown",
   "id": "09d234f8",
   "metadata": {},
   "source": [
    "### 4. (Opcional) Utilize o GridSearch para encontrar os melhores hyperparametros para o conjunto de dados do exemplo (load_iris)"
   ]
  },
  {
   "cell_type": "code",
   "execution_count": 5,
   "id": "1d070098",
   "metadata": {},
   "outputs": [],
   "source": [
    "from sklearn.model_selection import GridSearchCV"
   ]
  },
  {
   "cell_type": "code",
   "execution_count": 11,
   "id": "2737778e",
   "metadata": {},
   "outputs": [
    {
     "data": {
      "text/plain": [
       "[0, 100, 200, 300, 400, 500, 600, 700, 800, 900, 1000]"
      ]
     },
     "execution_count": 11,
     "metadata": {},
     "output_type": "execute_result"
    }
   ],
   "source": [
    "list(range(0, 1001, 100))"
   ]
  },
  {
   "cell_type": "code",
   "execution_count": 13,
   "id": "ceaf01a6",
   "metadata": {},
   "outputs": [
    {
     "name": "stderr",
     "output_type": "stream",
     "text": [
      "C:\\Users\\Caio\\anaconda3\\lib\\site-packages\\sklearn\\model_selection\\_validation.py:610: FitFailedWarning: Estimator fit failed. The score on this train-test partition for these parameters will be set to nan. Details: \n",
      "Traceback (most recent call last):\n",
      "  File \"C:\\Users\\Caio\\anaconda3\\lib\\site-packages\\sklearn\\model_selection\\_validation.py\", line 593, in _fit_and_score\n",
      "    estimator.fit(X_train, y_train, **fit_params)\n",
      "  File \"C:\\Users\\Caio\\anaconda3\\lib\\site-packages\\sklearn\\ensemble\\_weight_boosting.py\", line 443, in fit\n",
      "    return super().fit(X, y, sample_weight)\n",
      "  File \"C:\\Users\\Caio\\anaconda3\\lib\\site-packages\\sklearn\\ensemble\\_weight_boosting.py\", line 117, in fit\n",
      "    self._validate_estimator()\n",
      "  File \"C:\\Users\\Caio\\anaconda3\\lib\\site-packages\\sklearn\\ensemble\\_weight_boosting.py\", line 447, in _validate_estimator\n",
      "    super()._validate_estimator(\n",
      "  File \"C:\\Users\\Caio\\anaconda3\\lib\\site-packages\\sklearn\\ensemble\\_base.py\", line 133, in _validate_estimator\n",
      "    raise ValueError(\"n_estimators must be greater than zero, \"\n",
      "ValueError: n_estimators must be greater than zero, got 0.\n",
      "\n",
      "  warnings.warn(\"Estimator fit failed. The score on this train-test\"\n",
      "C:\\Users\\Caio\\anaconda3\\lib\\site-packages\\sklearn\\model_selection\\_validation.py:610: FitFailedWarning: Estimator fit failed. The score on this train-test partition for these parameters will be set to nan. Details: \n",
      "Traceback (most recent call last):\n",
      "  File \"C:\\Users\\Caio\\anaconda3\\lib\\site-packages\\sklearn\\model_selection\\_validation.py\", line 593, in _fit_and_score\n",
      "    estimator.fit(X_train, y_train, **fit_params)\n",
      "  File \"C:\\Users\\Caio\\anaconda3\\lib\\site-packages\\sklearn\\ensemble\\_weight_boosting.py\", line 443, in fit\n",
      "    return super().fit(X, y, sample_weight)\n",
      "  File \"C:\\Users\\Caio\\anaconda3\\lib\\site-packages\\sklearn\\ensemble\\_weight_boosting.py\", line 117, in fit\n",
      "    self._validate_estimator()\n",
      "  File \"C:\\Users\\Caio\\anaconda3\\lib\\site-packages\\sklearn\\ensemble\\_weight_boosting.py\", line 447, in _validate_estimator\n",
      "    super()._validate_estimator(\n",
      "  File \"C:\\Users\\Caio\\anaconda3\\lib\\site-packages\\sklearn\\ensemble\\_base.py\", line 133, in _validate_estimator\n",
      "    raise ValueError(\"n_estimators must be greater than zero, \"\n",
      "ValueError: n_estimators must be greater than zero, got 0.\n",
      "\n",
      "  warnings.warn(\"Estimator fit failed. The score on this train-test\"\n",
      "C:\\Users\\Caio\\anaconda3\\lib\\site-packages\\sklearn\\model_selection\\_validation.py:610: FitFailedWarning: Estimator fit failed. The score on this train-test partition for these parameters will be set to nan. Details: \n",
      "Traceback (most recent call last):\n",
      "  File \"C:\\Users\\Caio\\anaconda3\\lib\\site-packages\\sklearn\\model_selection\\_validation.py\", line 593, in _fit_and_score\n",
      "    estimator.fit(X_train, y_train, **fit_params)\n",
      "  File \"C:\\Users\\Caio\\anaconda3\\lib\\site-packages\\sklearn\\ensemble\\_weight_boosting.py\", line 443, in fit\n",
      "    return super().fit(X, y, sample_weight)\n",
      "  File \"C:\\Users\\Caio\\anaconda3\\lib\\site-packages\\sklearn\\ensemble\\_weight_boosting.py\", line 117, in fit\n",
      "    self._validate_estimator()\n",
      "  File \"C:\\Users\\Caio\\anaconda3\\lib\\site-packages\\sklearn\\ensemble\\_weight_boosting.py\", line 447, in _validate_estimator\n",
      "    super()._validate_estimator(\n",
      "  File \"C:\\Users\\Caio\\anaconda3\\lib\\site-packages\\sklearn\\ensemble\\_base.py\", line 133, in _validate_estimator\n",
      "    raise ValueError(\"n_estimators must be greater than zero, \"\n",
      "ValueError: n_estimators must be greater than zero, got 0.\n",
      "\n",
      "  warnings.warn(\"Estimator fit failed. The score on this train-test\"\n",
      "C:\\Users\\Caio\\anaconda3\\lib\\site-packages\\sklearn\\model_selection\\_validation.py:610: FitFailedWarning: Estimator fit failed. The score on this train-test partition for these parameters will be set to nan. Details: \n",
      "Traceback (most recent call last):\n",
      "  File \"C:\\Users\\Caio\\anaconda3\\lib\\site-packages\\sklearn\\model_selection\\_validation.py\", line 593, in _fit_and_score\n",
      "    estimator.fit(X_train, y_train, **fit_params)\n",
      "  File \"C:\\Users\\Caio\\anaconda3\\lib\\site-packages\\sklearn\\ensemble\\_weight_boosting.py\", line 443, in fit\n",
      "    return super().fit(X, y, sample_weight)\n",
      "  File \"C:\\Users\\Caio\\anaconda3\\lib\\site-packages\\sklearn\\ensemble\\_weight_boosting.py\", line 117, in fit\n",
      "    self._validate_estimator()\n",
      "  File \"C:\\Users\\Caio\\anaconda3\\lib\\site-packages\\sklearn\\ensemble\\_weight_boosting.py\", line 447, in _validate_estimator\n",
      "    super()._validate_estimator(\n",
      "  File \"C:\\Users\\Caio\\anaconda3\\lib\\site-packages\\sklearn\\ensemble\\_base.py\", line 133, in _validate_estimator\n",
      "    raise ValueError(\"n_estimators must be greater than zero, \"\n",
      "ValueError: n_estimators must be greater than zero, got 0.\n",
      "\n",
      "  warnings.warn(\"Estimator fit failed. The score on this train-test\"\n",
      "C:\\Users\\Caio\\anaconda3\\lib\\site-packages\\sklearn\\model_selection\\_validation.py:610: FitFailedWarning: Estimator fit failed. The score on this train-test partition for these parameters will be set to nan. Details: \n",
      "Traceback (most recent call last):\n",
      "  File \"C:\\Users\\Caio\\anaconda3\\lib\\site-packages\\sklearn\\model_selection\\_validation.py\", line 593, in _fit_and_score\n",
      "    estimator.fit(X_train, y_train, **fit_params)\n",
      "  File \"C:\\Users\\Caio\\anaconda3\\lib\\site-packages\\sklearn\\ensemble\\_weight_boosting.py\", line 443, in fit\n",
      "    return super().fit(X, y, sample_weight)\n",
      "  File \"C:\\Users\\Caio\\anaconda3\\lib\\site-packages\\sklearn\\ensemble\\_weight_boosting.py\", line 117, in fit\n",
      "    self._validate_estimator()\n",
      "  File \"C:\\Users\\Caio\\anaconda3\\lib\\site-packages\\sklearn\\ensemble\\_weight_boosting.py\", line 447, in _validate_estimator\n",
      "    super()._validate_estimator(\n",
      "  File \"C:\\Users\\Caio\\anaconda3\\lib\\site-packages\\sklearn\\ensemble\\_base.py\", line 133, in _validate_estimator\n",
      "    raise ValueError(\"n_estimators must be greater than zero, \"\n",
      "ValueError: n_estimators must be greater than zero, got 0.\n",
      "\n",
      "  warnings.warn(\"Estimator fit failed. The score on this train-test\"\n",
      "C:\\Users\\Caio\\anaconda3\\lib\\site-packages\\sklearn\\model_selection\\_search.py:918: UserWarning: One or more of the test scores are non-finite: [       nan 0.94666667 0.94666667 0.94666667 0.94666667 0.94666667\n",
      " 0.94666667 0.94666667 0.94666667 0.94666667 0.94666667]\n",
      "  warnings.warn(\n"
     ]
    },
    {
     "data": {
      "text/plain": [
       "GridSearchCV(cv=5, estimator=AdaBoostClassifier(),\n",
       "             param_grid={'n_estimators': [0, 100, 200, 300, 400, 500, 600, 700,\n",
       "                                          800, 900, 1000]},\n",
       "             scoring='accuracy')"
      ]
     },
     "execution_count": 13,
     "metadata": {},
     "output_type": "execute_result"
    }
   ],
   "source": [
    "clf = AdaBoostClassifier()\n",
    "\n",
    "params = {\n",
    "    'n_estimators' : list(range(0, 1001, 100))\n",
    "}\n",
    "\n",
    "grid_clf = GridSearchCV(estimator=clf,\n",
    "                       param_grid = params,\n",
    "                       scoring = 'accuracy',\n",
    "                       cv = 5)\n",
    "grid_clf.fit(X,y)"
   ]
  },
  {
   "cell_type": "code",
   "execution_count": 15,
   "id": "d7267095",
   "metadata": {},
   "outputs": [
    {
     "name": "stdout",
     "output_type": "stream",
     "text": [
      "[{'n_estimators': 0}, {'n_estimators': 100}, {'n_estimators': 200}, {'n_estimators': 300}, {'n_estimators': 400}, {'n_estimators': 500}, {'n_estimators': 600}, {'n_estimators': 700}, {'n_estimators': 800}, {'n_estimators': 900}, {'n_estimators': 1000}]\n"
     ]
    }
   ],
   "source": [
    "print(grid_clf.cv_results_['params'])"
   ]
  },
  {
   "cell_type": "code",
   "execution_count": 16,
   "id": "17709bcb",
   "metadata": {},
   "outputs": [
    {
     "name": "stdout",
     "output_type": "stream",
     "text": [
      "AdaBoostClassifier(n_estimators=100)\n"
     ]
    }
   ],
   "source": [
    "print(grid_clf.best_estimator_)"
   ]
  },
  {
   "cell_type": "code",
   "execution_count": 17,
   "id": "01d4a49b",
   "metadata": {},
   "outputs": [
    {
     "name": "stdout",
     "output_type": "stream",
     "text": [
      "0.9733333333333334\n"
     ]
    }
   ],
   "source": [
    "print(grid_clf.score(X, y))"
   ]
  }
 ],
 "metadata": {
  "kernelspec": {
   "display_name": "Python 3",
   "language": "python",
   "name": "python3"
  },
  "language_info": {
   "codemirror_mode": {
    "name": "ipython",
    "version": 3
   },
   "file_extension": ".py",
   "mimetype": "text/x-python",
   "name": "python",
   "nbconvert_exporter": "python",
   "pygments_lexer": "ipython3",
   "version": "3.8.8"
  }
 },
 "nbformat": 4,
 "nbformat_minor": 5
}
