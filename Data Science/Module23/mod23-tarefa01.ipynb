{
 "cells": [
  {
   "cell_type": "markdown",
   "id": "7abf0528",
   "metadata": {},
   "source": [
    "# <center>Tarefa 1</center>"
   ]
  },
  {
   "cell_type": "markdown",
   "id": "ddc2cccc",
   "metadata": {},
   "source": [
    "### 1. Monte um passo a passo para o Bagging:"
   ]
  },
  {
   "cell_type": "markdown",
   "id": "e2c95bba",
   "metadata": {},
   "source": [
    "#### Primeiro passo\n",
    "\n",
    "<p>Após obter o Dataset, após definir o problema e o modelo que será utilizado, devemos fornecer os números de estimadores, e cada estimador receberá uma amostra diferente, podendo repetir as amostras. Caso tenhamos escolhidos 5 estimadores, 5 tipos de amostras serão coletados.</p>\n",
    "\n",
    "#### Segundo passo\n",
    "\n",
    "<p>Nos 5 estimadores escolhidos, com amostras diferentes serão aplicados os modelos, gerando um resultado.</p>\n",
    "\n",
    "#### Terceiro passo\n",
    "\n",
    "<p>Após obtermos os resultados, caso for um problema de classificação, é eleito democraticamente, e o que tiver mais \"votos\" é o que será escolhido. Já um problema de regressão, é tirada a média dos valores que foram gerados.</p>"
   ]
  },
  {
   "cell_type": "markdown",
   "id": "9d0bf4ab",
   "metadata": {},
   "source": [
    "### 2. Explique com suas palavras o Bagging"
   ]
  },
  {
   "cell_type": "markdown",
   "id": "440f9283",
   "metadata": {},
   "source": [
    "<p>Bagging é um modelo que após escolher N amostras com reposição de um dataset, executa um modelo de machine learning, dependendo do tipo de problema. Caso classificação o mais abundante é escolhido, e o de regressão é tirada a média dos valores</p>"
   ]
  },
  {
   "cell_type": "markdown",
   "id": "96bdc63d",
   "metadata": {},
   "source": [
    "### 3. Implementar em python o código do Bagging"
   ]
  },
  {
   "cell_type": "code",
   "execution_count": 16,
   "id": "c5107c8e",
   "metadata": {},
   "outputs": [
    {
     "data": {
      "text/html": [
       "<div>\n",
       "<style scoped>\n",
       "    .dataframe tbody tr th:only-of-type {\n",
       "        vertical-align: middle;\n",
       "    }\n",
       "\n",
       "    .dataframe tbody tr th {\n",
       "        vertical-align: top;\n",
       "    }\n",
       "\n",
       "    .dataframe thead th {\n",
       "        text-align: right;\n",
       "    }\n",
       "</style>\n",
       "<table border=\"1\" class=\"dataframe\">\n",
       "  <thead>\n",
       "    <tr style=\"text-align: right;\">\n",
       "      <th></th>\n",
       "      <th>NAME</th>\n",
       "      <th>2018</th>\n",
       "      <th>2019</th>\n",
       "      <th>2020</th>\n",
       "      <th>2021</th>\n",
       "      <th>2022</th>\n",
       "    </tr>\n",
       "  </thead>\n",
       "  <tbody>\n",
       "    <tr>\n",
       "      <th>0</th>\n",
       "      <td>Elon Musk</td>\n",
       "      <td>19.9</td>\n",
       "      <td>22.3</td>\n",
       "      <td>24.6</td>\n",
       "      <td>151.0</td>\n",
       "      <td>219.0</td>\n",
       "    </tr>\n",
       "    <tr>\n",
       "      <th>1</th>\n",
       "      <td>Jeff Bezos</td>\n",
       "      <td>112.0</td>\n",
       "      <td>131.0</td>\n",
       "      <td>113.0</td>\n",
       "      <td>177.0</td>\n",
       "      <td>171.0</td>\n",
       "    </tr>\n",
       "    <tr>\n",
       "      <th>2</th>\n",
       "      <td>Bernard Arnault</td>\n",
       "      <td>72.0</td>\n",
       "      <td>76.0</td>\n",
       "      <td>76.0</td>\n",
       "      <td>150.0</td>\n",
       "      <td>158.0</td>\n",
       "    </tr>\n",
       "    <tr>\n",
       "      <th>3</th>\n",
       "      <td>Bill Gates</td>\n",
       "      <td>90.0</td>\n",
       "      <td>96.5</td>\n",
       "      <td>98.0</td>\n",
       "      <td>124.0</td>\n",
       "      <td>129.0</td>\n",
       "    </tr>\n",
       "    <tr>\n",
       "      <th>4</th>\n",
       "      <td>Warren Buffett</td>\n",
       "      <td>84.0</td>\n",
       "      <td>82.5</td>\n",
       "      <td>67.5</td>\n",
       "      <td>96.0</td>\n",
       "      <td>118.0</td>\n",
       "    </tr>\n",
       "    <tr>\n",
       "      <th>5</th>\n",
       "      <td>Larry Page</td>\n",
       "      <td>48.8</td>\n",
       "      <td>50.8</td>\n",
       "      <td>50.9</td>\n",
       "      <td>91.5</td>\n",
       "      <td>111.0</td>\n",
       "    </tr>\n",
       "    <tr>\n",
       "      <th>6</th>\n",
       "      <td>Sergey Brin</td>\n",
       "      <td>47.5</td>\n",
       "      <td>49.8</td>\n",
       "      <td>49.1</td>\n",
       "      <td>89.0</td>\n",
       "      <td>107.0</td>\n",
       "    </tr>\n",
       "    <tr>\n",
       "      <th>7</th>\n",
       "      <td>Larry Ellison</td>\n",
       "      <td>58.5</td>\n",
       "      <td>62.5</td>\n",
       "      <td>59.0</td>\n",
       "      <td>93.0</td>\n",
       "      <td>106.0</td>\n",
       "    </tr>\n",
       "    <tr>\n",
       "      <th>8</th>\n",
       "      <td>Steve Ballmer</td>\n",
       "      <td>38.4</td>\n",
       "      <td>41.2</td>\n",
       "      <td>52.7</td>\n",
       "      <td>68.7</td>\n",
       "      <td>91.4</td>\n",
       "    </tr>\n",
       "    <tr>\n",
       "      <th>9</th>\n",
       "      <td>Mukesh Ambani</td>\n",
       "      <td>40.1</td>\n",
       "      <td>50.0</td>\n",
       "      <td>36.8</td>\n",
       "      <td>84.5</td>\n",
       "      <td>90.7</td>\n",
       "    </tr>\n",
       "  </tbody>\n",
       "</table>\n",
       "</div>"
      ],
      "text/plain": [
       "              NAME   2018   2019   2020   2021   2022\n",
       "0        Elon Musk   19.9   22.3   24.6  151.0  219.0\n",
       "1       Jeff Bezos  112.0  131.0  113.0  177.0  171.0\n",
       "2  Bernard Arnault   72.0   76.0   76.0  150.0  158.0\n",
       "3       Bill Gates   90.0   96.5   98.0  124.0  129.0\n",
       "4   Warren Buffett   84.0   82.5   67.5   96.0  118.0\n",
       "5       Larry Page   48.8   50.8   50.9   91.5  111.0\n",
       "6      Sergey Brin   47.5   49.8   49.1   89.0  107.0\n",
       "7    Larry Ellison   58.5   62.5   59.0   93.0  106.0\n",
       "8    Steve Ballmer   38.4   41.2   52.7   68.7   91.4\n",
       "9    Mukesh Ambani   40.1   50.0   36.8   84.5   90.7"
      ]
     },
     "execution_count": 16,
     "metadata": {},
     "output_type": "execute_result"
    }
   ],
   "source": [
    "import pandas as pd\n",
    "import numpy as np\n",
    "from sklearn.linear_model import LinearRegression\n",
    "\n",
    "df = pd.read_csv('The Top Billionaires.csv')\n",
    "df"
   ]
  },
  {
   "cell_type": "code",
   "execution_count": 21,
   "id": "4425a691",
   "metadata": {},
   "outputs": [],
   "source": [
    "# Bootstrap\n",
    "\n",
    "x = df[['2018','2019','2020','2021']]\n",
    "y = df['2022']\n",
    "\n",
    "df1 = df.sample(n=5, random_state=1)\n",
    "x1 = df1[['2018','2019','2020','2021']]\n",
    "y1 = df1['2022']\n",
    "\n",
    "df2 = df.sample(n=5, random_state=2)\n",
    "x2 = df2[['2018','2019','2020','2021']]\n",
    "y2 = df2['2022']\n",
    "\n",
    "df3 = df.sample(n=5, random_state=3)\n",
    "x3 = df3[['2018','2019','2020','2021']]\n",
    "y3 = df3['2022']"
   ]
  },
  {
   "cell_type": "code",
   "execution_count": 25,
   "id": "04b0ada7",
   "metadata": {},
   "outputs": [
    {
     "data": {
      "text/plain": [
       "LinearRegression()"
      ]
     },
     "execution_count": 25,
     "metadata": {},
     "output_type": "execute_result"
    }
   ],
   "source": [
    "model = LinearRegression()\n",
    "model.fit(x, y)\n"
   ]
  },
  {
   "cell_type": "code",
   "execution_count": 26,
   "id": "eacc300b",
   "metadata": {},
   "outputs": [
    {
     "data": {
      "text/plain": [
       "0.9497056332658085"
      ]
     },
     "execution_count": 26,
     "metadata": {},
     "output_type": "execute_result"
    }
   ],
   "source": [
    "r1 = model.score(x1, y1)\n",
    "r1"
   ]
  },
  {
   "cell_type": "code",
   "execution_count": 27,
   "id": "89b88d4c",
   "metadata": {},
   "outputs": [
    {
     "data": {
      "text/plain": [
       "0.9809631271719222"
      ]
     },
     "execution_count": 27,
     "metadata": {},
     "output_type": "execute_result"
    }
   ],
   "source": [
    "r2 = model.score(x2, y2)\n",
    "r2"
   ]
  },
  {
   "cell_type": "code",
   "execution_count": 28,
   "id": "964e1738",
   "metadata": {},
   "outputs": [
    {
     "data": {
      "text/plain": [
       "0.8980574422815029"
      ]
     },
     "execution_count": 28,
     "metadata": {},
     "output_type": "execute_result"
    }
   ],
   "source": [
    "r3 = model.score(x3, y3)\n",
    "r3"
   ]
  },
  {
   "cell_type": "code",
   "execution_count": 30,
   "id": "3d4041d2",
   "metadata": {},
   "outputs": [
    {
     "data": {
      "text/plain": [
       "array([176.21247987,  97.16773681, 110.77521946, 110.93329022,\n",
       "       209.3416998 ])"
      ]
     },
     "execution_count": 30,
     "metadata": {},
     "output_type": "execute_result"
    }
   ],
   "source": [
    "model.predict(x1)"
   ]
  },
  {
   "cell_type": "code",
   "execution_count": 33,
   "id": "f7f66796",
   "metadata": {},
   "outputs": [
    {
     "data": {
      "text/plain": [
       "2    158.0\n",
       "9     90.7\n",
       "6    107.0\n",
       "4    118.0\n",
       "0    219.0\n",
       "Name: 2022, dtype: float64"
      ]
     },
     "execution_count": 33,
     "metadata": {},
     "output_type": "execute_result"
    }
   ],
   "source": [
    "y1"
   ]
  },
  {
   "cell_type": "code",
   "execution_count": 31,
   "id": "b6d2cb21",
   "metadata": {},
   "outputs": [
    {
     "data": {
      "text/plain": [
       "array([110.93329022, 165.63431679, 113.81588613, 209.3416998 ,\n",
       "       107.41898191])"
      ]
     },
     "execution_count": 31,
     "metadata": {},
     "output_type": "execute_result"
    }
   ],
   "source": [
    "model.predict(x2)"
   ]
  },
  {
   "cell_type": "code",
   "execution_count": 32,
   "id": "66106bf4",
   "metadata": {},
   "outputs": [
    {
     "data": {
      "text/plain": [
       "4    118.0\n",
       "1    171.0\n",
       "5    111.0\n",
       "0    219.0\n",
       "7    106.0\n",
       "Name: 2022, dtype: float64"
      ]
     },
     "execution_count": 32,
     "metadata": {},
     "output_type": "execute_result"
    }
   ],
   "source": [
    "y2"
   ]
  },
  {
   "cell_type": "code",
   "execution_count": 34,
   "id": "a196ab70",
   "metadata": {},
   "outputs": [
    {
     "data": {
      "text/plain": [
       "array([113.81588613, 110.93329022, 165.63431679, 176.21247987,\n",
       "        97.16773681])"
      ]
     },
     "execution_count": 34,
     "metadata": {},
     "output_type": "execute_result"
    }
   ],
   "source": [
    "model.predict(x3)"
   ]
  },
  {
   "cell_type": "code",
   "execution_count": 35,
   "id": "a1bed947",
   "metadata": {},
   "outputs": [
    {
     "data": {
      "text/plain": [
       "5    111.0\n",
       "4    118.0\n",
       "1    171.0\n",
       "2    158.0\n",
       "9     90.7\n",
       "Name: 2022, dtype: float64"
      ]
     },
     "execution_count": 35,
     "metadata": {},
     "output_type": "execute_result"
    }
   ],
   "source": [
    "y3"
   ]
  }
 ],
 "metadata": {
  "kernelspec": {
   "display_name": "Python 3",
   "language": "python",
   "name": "python3"
  },
  "language_info": {
   "codemirror_mode": {
    "name": "ipython",
    "version": 3
   },
   "file_extension": ".py",
   "mimetype": "text/x-python",
   "name": "python",
   "nbconvert_exporter": "python",
   "pygments_lexer": "ipython3",
   "version": "3.8.8"
  }
 },
 "nbformat": 4,
 "nbformat_minor": 5
}
