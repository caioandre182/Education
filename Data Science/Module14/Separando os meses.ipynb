{
 "cells": [
  {
   "cell_type": "code",
   "execution_count": 1,
   "id": "f38d44ac",
   "metadata": {},
   "outputs": [],
   "source": [
    "import pandas as pd\n",
    "import numpy as np"
   ]
  },
  {
   "cell_type": "code",
   "execution_count": 30,
   "id": "ca9f9100",
   "metadata": {},
   "outputs": [],
   "source": [
    "base = pd.read_csv('SINASC_RO_2019.csv')"
   ]
  },
  {
   "cell_type": "code",
   "execution_count": 31,
   "id": "db1ea2ef",
   "metadata": {},
   "outputs": [
    {
     "data": {
      "text/html": [
       "<div>\n",
       "<style scoped>\n",
       "    .dataframe tbody tr th:only-of-type {\n",
       "        vertical-align: middle;\n",
       "    }\n",
       "\n",
       "    .dataframe tbody tr th {\n",
       "        vertical-align: top;\n",
       "    }\n",
       "\n",
       "    .dataframe thead th {\n",
       "        text-align: right;\n",
       "    }\n",
       "</style>\n",
       "<table border=\"1\" class=\"dataframe\">\n",
       "  <thead>\n",
       "    <tr style=\"text-align: right;\">\n",
       "      <th></th>\n",
       "      <th>ORIGEM</th>\n",
       "      <th>CODESTAB</th>\n",
       "      <th>CODMUNNASC</th>\n",
       "      <th>LOCNASC</th>\n",
       "      <th>IDADEMAE</th>\n",
       "      <th>ESTCIVMAE</th>\n",
       "      <th>ESCMAE</th>\n",
       "      <th>CODOCUPMAE</th>\n",
       "      <th>QTDFILVIVO</th>\n",
       "      <th>QTDFILMORT</th>\n",
       "      <th>...</th>\n",
       "      <th>KOTELCHUCK</th>\n",
       "      <th>CONTADOR</th>\n",
       "      <th>munResStatus</th>\n",
       "      <th>munResTipo</th>\n",
       "      <th>munResNome</th>\n",
       "      <th>munResUf</th>\n",
       "      <th>munResLat</th>\n",
       "      <th>munResLon</th>\n",
       "      <th>munResAlt</th>\n",
       "      <th>munResArea</th>\n",
       "    </tr>\n",
       "  </thead>\n",
       "  <tbody>\n",
       "    <tr>\n",
       "      <th>0</th>\n",
       "      <td>1</td>\n",
       "      <td>2679477.0</td>\n",
       "      <td>110001</td>\n",
       "      <td>1</td>\n",
       "      <td>19</td>\n",
       "      <td>5.0</td>\n",
       "      <td>8 a 11 anos</td>\n",
       "      <td>NaN</td>\n",
       "      <td>0.0</td>\n",
       "      <td>0.0</td>\n",
       "      <td>...</td>\n",
       "      <td>5</td>\n",
       "      <td>1</td>\n",
       "      <td>ATIVO</td>\n",
       "      <td>MUNIC</td>\n",
       "      <td>Alta Floresta D'Oeste</td>\n",
       "      <td>Rondônia</td>\n",
       "      <td>-11.93554</td>\n",
       "      <td>-61.99982</td>\n",
       "      <td>338.0</td>\n",
       "      <td>7067.025</td>\n",
       "    </tr>\n",
       "    <tr>\n",
       "      <th>1</th>\n",
       "      <td>1</td>\n",
       "      <td>2679477.0</td>\n",
       "      <td>110001</td>\n",
       "      <td>1</td>\n",
       "      <td>29</td>\n",
       "      <td>2.0</td>\n",
       "      <td>8 a 11 anos</td>\n",
       "      <td>999992.0</td>\n",
       "      <td>1.0</td>\n",
       "      <td>0.0</td>\n",
       "      <td>...</td>\n",
       "      <td>5</td>\n",
       "      <td>2</td>\n",
       "      <td>ATIVO</td>\n",
       "      <td>MUNIC</td>\n",
       "      <td>Alta Floresta D'Oeste</td>\n",
       "      <td>Rondônia</td>\n",
       "      <td>-11.93554</td>\n",
       "      <td>-61.99982</td>\n",
       "      <td>338.0</td>\n",
       "      <td>7067.025</td>\n",
       "    </tr>\n",
       "    <tr>\n",
       "      <th>2</th>\n",
       "      <td>1</td>\n",
       "      <td>2679477.0</td>\n",
       "      <td>110001</td>\n",
       "      <td>1</td>\n",
       "      <td>37</td>\n",
       "      <td>9.0</td>\n",
       "      <td>8 a 11 anos</td>\n",
       "      <td>513205.0</td>\n",
       "      <td>2.0</td>\n",
       "      <td>0.0</td>\n",
       "      <td>...</td>\n",
       "      <td>5</td>\n",
       "      <td>3</td>\n",
       "      <td>ATIVO</td>\n",
       "      <td>MUNIC</td>\n",
       "      <td>Alta Floresta D'Oeste</td>\n",
       "      <td>Rondônia</td>\n",
       "      <td>-11.93554</td>\n",
       "      <td>-61.99982</td>\n",
       "      <td>338.0</td>\n",
       "      <td>7067.025</td>\n",
       "    </tr>\n",
       "    <tr>\n",
       "      <th>3</th>\n",
       "      <td>1</td>\n",
       "      <td>2516500.0</td>\n",
       "      <td>110001</td>\n",
       "      <td>1</td>\n",
       "      <td>30</td>\n",
       "      <td>5.0</td>\n",
       "      <td>12 anos ou mais</td>\n",
       "      <td>231205.0</td>\n",
       "      <td>0.0</td>\n",
       "      <td>0.0</td>\n",
       "      <td>...</td>\n",
       "      <td>4</td>\n",
       "      <td>4</td>\n",
       "      <td>ATIVO</td>\n",
       "      <td>MUNIC</td>\n",
       "      <td>Alto Alegre dos Parecis</td>\n",
       "      <td>Rondônia</td>\n",
       "      <td>-12.13178</td>\n",
       "      <td>-61.85308</td>\n",
       "      <td>397.0</td>\n",
       "      <td>3958.273</td>\n",
       "    </tr>\n",
       "    <tr>\n",
       "      <th>4</th>\n",
       "      <td>1</td>\n",
       "      <td>2516500.0</td>\n",
       "      <td>110001</td>\n",
       "      <td>1</td>\n",
       "      <td>30</td>\n",
       "      <td>2.0</td>\n",
       "      <td>8 a 11 anos</td>\n",
       "      <td>999992.0</td>\n",
       "      <td>1.0</td>\n",
       "      <td>0.0</td>\n",
       "      <td>...</td>\n",
       "      <td>5</td>\n",
       "      <td>5</td>\n",
       "      <td>ATIVO</td>\n",
       "      <td>MUNIC</td>\n",
       "      <td>Alta Floresta D'Oeste</td>\n",
       "      <td>Rondônia</td>\n",
       "      <td>-11.93554</td>\n",
       "      <td>-61.99982</td>\n",
       "      <td>338.0</td>\n",
       "      <td>7067.025</td>\n",
       "    </tr>\n",
       "  </tbody>\n",
       "</table>\n",
       "<p>5 rows × 69 columns</p>\n",
       "</div>"
      ],
      "text/plain": [
       "   ORIGEM   CODESTAB  CODMUNNASC  LOCNASC  IDADEMAE  ESTCIVMAE  \\\n",
       "0       1  2679477.0      110001        1        19        5.0   \n",
       "1       1  2679477.0      110001        1        29        2.0   \n",
       "2       1  2679477.0      110001        1        37        9.0   \n",
       "3       1  2516500.0      110001        1        30        5.0   \n",
       "4       1  2516500.0      110001        1        30        2.0   \n",
       "\n",
       "            ESCMAE  CODOCUPMAE  QTDFILVIVO  QTDFILMORT  ...  KOTELCHUCK  \\\n",
       "0      8 a 11 anos         NaN         0.0         0.0  ...           5   \n",
       "1      8 a 11 anos    999992.0         1.0         0.0  ...           5   \n",
       "2      8 a 11 anos    513205.0         2.0         0.0  ...           5   \n",
       "3  12 anos ou mais    231205.0         0.0         0.0  ...           4   \n",
       "4      8 a 11 anos    999992.0         1.0         0.0  ...           5   \n",
       "\n",
       "  CONTADOR munResStatus munResTipo               munResNome  munResUf  \\\n",
       "0        1        ATIVO      MUNIC    Alta Floresta D'Oeste  Rondônia   \n",
       "1        2        ATIVO      MUNIC    Alta Floresta D'Oeste  Rondônia   \n",
       "2        3        ATIVO      MUNIC    Alta Floresta D'Oeste  Rondônia   \n",
       "3        4        ATIVO      MUNIC  Alto Alegre dos Parecis  Rondônia   \n",
       "4        5        ATIVO      MUNIC    Alta Floresta D'Oeste  Rondônia   \n",
       "\n",
       "   munResLat munResLon  munResAlt  munResArea  \n",
       "0  -11.93554 -61.99982      338.0    7067.025  \n",
       "1  -11.93554 -61.99982      338.0    7067.025  \n",
       "2  -11.93554 -61.99982      338.0    7067.025  \n",
       "3  -12.13178 -61.85308      397.0    3958.273  \n",
       "4  -11.93554 -61.99982      338.0    7067.025  \n",
       "\n",
       "[5 rows x 69 columns]"
      ]
     },
     "execution_count": 31,
     "metadata": {},
     "output_type": "execute_result"
    }
   ],
   "source": [
    "base.head()"
   ]
  },
  {
   "cell_type": "code",
   "execution_count": 32,
   "id": "5a107ef9",
   "metadata": {},
   "outputs": [
    {
     "data": {
      "text/plain": [
       "0        02\n",
       "1        02\n",
       "2        02\n",
       "3        03\n",
       "4        03\n",
       "         ..\n",
       "27023    12\n",
       "27024    10\n",
       "27025    08\n",
       "27026    12\n",
       "27027    12\n",
       "Name: mes, Length: 27028, dtype: object"
      ]
     },
     "execution_count": 32,
     "metadata": {},
     "output_type": "execute_result"
    }
   ],
   "source": [
    "mes = base['DTNASC']\n",
    "mes_lista = []\n",
    "for i in mes:\n",
    "    data_slice = str(i)\n",
    "    data_final = data_slice[5:7]\n",
    "    mes_lista.append(data_final)\n",
    "\n",
    "    \n",
    "base['mes'] = mes_lista\n",
    "\n",
    "base['mes']"
   ]
  },
  {
   "cell_type": "code",
   "execution_count": 33,
   "id": "1fa66629",
   "metadata": {},
   "outputs": [
    {
     "data": {
      "text/plain": [
       "('2019-01-31', '2019-01-01')"
      ]
     },
     "execution_count": 33,
     "metadata": {},
     "output_type": "execute_result"
    }
   ],
   "source": [
    "base_jan = base[base['mes'] == '01']\n",
    "base_jan['DTNASC'].max(), base_jan['DTNASC'].min()"
   ]
  },
  {
   "cell_type": "code",
   "execution_count": 34,
   "id": "32f0b8db",
   "metadata": {},
   "outputs": [
    {
     "data": {
      "text/plain": [
       "('2019-02-28', '2019-02-01')"
      ]
     },
     "execution_count": 34,
     "metadata": {},
     "output_type": "execute_result"
    }
   ],
   "source": [
    "base_fev = base[base['mes'] == '02']\n",
    "base_fev['DTNASC'].max(), base_fev['DTNASC'].min()"
   ]
  },
  {
   "cell_type": "code",
   "execution_count": 35,
   "id": "2e6c1f76",
   "metadata": {},
   "outputs": [
    {
     "data": {
      "text/plain": [
       "('2019-03-31', '2019-03-01')"
      ]
     },
     "execution_count": 35,
     "metadata": {},
     "output_type": "execute_result"
    }
   ],
   "source": [
    "#pegando a base de março\n",
    "\n",
    "base_mar = base[base['mes'] == '03']\n",
    "base_mar['DTNASC'].max(), base_mar['DTNASC'].min()"
   ]
  },
  {
   "cell_type": "code",
   "execution_count": 36,
   "id": "e3014a01",
   "metadata": {},
   "outputs": [
    {
     "data": {
      "text/plain": [
       "('2019-04-30', '2019-04-01')"
      ]
     },
     "execution_count": 36,
     "metadata": {},
     "output_type": "execute_result"
    }
   ],
   "source": [
    "base_abr = base[base['mes'] == '04']\n",
    "base_abr['DTNASC'].max(), base_abr['DTNASC'].min()"
   ]
  },
  {
   "cell_type": "code",
   "execution_count": 37,
   "id": "7c4ef7af",
   "metadata": {},
   "outputs": [
    {
     "data": {
      "text/plain": [
       "('2019-05-31', '2019-05-01')"
      ]
     },
     "execution_count": 37,
     "metadata": {},
     "output_type": "execute_result"
    }
   ],
   "source": [
    "base_maio = base[base['mes'] == '05']\n",
    "base_maio['DTNASC'].max(), base_maio['DTNASC'].min()"
   ]
  },
  {
   "cell_type": "code",
   "execution_count": 38,
   "id": "4619b9ad",
   "metadata": {},
   "outputs": [
    {
     "data": {
      "text/plain": [
       "('2019-06-30', '2019-06-01')"
      ]
     },
     "execution_count": 38,
     "metadata": {},
     "output_type": "execute_result"
    }
   ],
   "source": [
    "base_junho = base[base['mes'] == '06']\n",
    "base_junho['DTNASC'].max(), base_junho['DTNASC'].min()"
   ]
  },
  {
   "cell_type": "code",
   "execution_count": 39,
   "id": "3258802a",
   "metadata": {},
   "outputs": [
    {
     "data": {
      "text/plain": [
       "('2019-01-01', '2019-02-28')"
      ]
     },
     "execution_count": 39,
     "metadata": {},
     "output_type": "execute_result"
    }
   ],
   "source": [
    "base_feve = pd.merge(base_jan, base_fev, how = 'outer')\n",
    "base_feve['DTNASC'].min(), base_feve['DTNASC'].max()"
   ]
  },
  {
   "cell_type": "code",
   "execution_count": 20,
   "id": "77f61f88",
   "metadata": {},
   "outputs": [
    {
     "data": {
      "text/plain": [
       "('2019-01-01', '2019-03-31')"
      ]
     },
     "execution_count": 20,
     "metadata": {},
     "output_type": "execute_result"
    }
   ],
   "source": [
    "base_mar = pd.merge(base_feve, base_mar, how = 'outer')\n",
    "base_mar['DTNASC'].min(), base_mar['DTNASC'].max()"
   ]
  },
  {
   "cell_type": "code",
   "execution_count": 26,
   "id": "ee8b35ea",
   "metadata": {},
   "outputs": [],
   "source": [
    "base_mar.to_csv('SINASC_RO_2019_MAR.csv')"
   ]
  },
  {
   "cell_type": "code",
   "execution_count": 40,
   "id": "342a003c",
   "metadata": {},
   "outputs": [
    {
     "data": {
      "text/plain": [
       "('2019-03-01', '2019-04-30')"
      ]
     },
     "execution_count": 40,
     "metadata": {},
     "output_type": "execute_result"
    }
   ],
   "source": [
    "base_abril = pd.merge(base_mar, base_abr, how = 'outer')\n",
    "base_abril['DTNASC'].min(), base_abril['DTNASC'].max()"
   ]
  },
  {
   "cell_type": "code",
   "execution_count": 27,
   "id": "b19f0718",
   "metadata": {},
   "outputs": [],
   "source": [
    "base_abril.to_csv('SINASC_RO_2019_ABR.csv')"
   ]
  },
  {
   "cell_type": "code",
   "execution_count": 41,
   "id": "5946537c",
   "metadata": {},
   "outputs": [
    {
     "data": {
      "text/plain": [
       "('2019-03-01', '2019-05-31')"
      ]
     },
     "execution_count": 41,
     "metadata": {},
     "output_type": "execute_result"
    }
   ],
   "source": [
    "base_maio = pd.merge(base_abril, base_maio, how = 'outer')\n",
    "base_maio['DTNASC'].min(), base_maio['DTNASC'].max()"
   ]
  },
  {
   "cell_type": "code",
   "execution_count": 43,
   "id": "8f75827c",
   "metadata": {},
   "outputs": [],
   "source": [
    "base_maio.to_csv('SINASC_RO_2019_MAI.csv')"
   ]
  },
  {
   "cell_type": "code",
   "execution_count": 25,
   "id": "63b3cfa1",
   "metadata": {},
   "outputs": [
    {
     "data": {
      "text/plain": [
       "('2019-01-01', '2019-06-30')"
      ]
     },
     "execution_count": 25,
     "metadata": {},
     "output_type": "execute_result"
    }
   ],
   "source": [
    "base_junho = pd.merge(base_maio, base_junho, how = 'outer')\n",
    "base_junho['DTNASC'].min(), base_junho['DTNASC'].max()"
   ]
  },
  {
   "cell_type": "code",
   "execution_count": 28,
   "id": "3773bd6c",
   "metadata": {},
   "outputs": [],
   "source": [
    "base_junho.to_csv('SINASC_RO_2019_JUN.csv')"
   ]
  },
  {
   "cell_type": "code",
   "execution_count": 29,
   "id": "5ef70115",
   "metadata": {},
   "outputs": [],
   "source": [
    "base.to_csv('SINASC_RO_2019_DEZ.csv')"
   ]
  }
 ],
 "metadata": {
  "kernelspec": {
   "display_name": "Python 3",
   "language": "python",
   "name": "python3"
  },
  "language_info": {
   "codemirror_mode": {
    "name": "ipython",
    "version": 3
   },
   "file_extension": ".py",
   "mimetype": "text/x-python",
   "name": "python",
   "nbconvert_exporter": "python",
   "pygments_lexer": "ipython3",
   "version": "3.8.8"
  }
 },
 "nbformat": 4,
 "nbformat_minor": 5
}
