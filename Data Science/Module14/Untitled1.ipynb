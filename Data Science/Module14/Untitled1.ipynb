{
 "cells": [
  {
   "cell_type": "code",
   "execution_count": 1,
   "id": "a5595a14",
   "metadata": {},
   "outputs": [
    {
     "ename": "IndentationError",
     "evalue": "unexpected indent (<ipython-input-1-c1b1db2a3ab5>, line 15)",
     "output_type": "error",
     "traceback": [
      "\u001b[1;36m  File \u001b[1;32m\"<ipython-input-1-c1b1db2a3ab5>\"\u001b[1;36m, line \u001b[1;32m15\u001b[0m\n\u001b[1;33m    def plota_pivot_table(df, value, index, func, ylabel, xlabel, opcao='nada'):\u001b[0m\n\u001b[1;37m    ^\u001b[0m\n\u001b[1;31mIndentationError\u001b[0m\u001b[1;31m:\u001b[0m unexpected indent\n"
     ]
    }
   ],
   "source": [
    "import pandas as pd\n",
    "import seaborn as sns\n",
    "import matplotlib.pyplot as plt\n",
    "import os\n",
    "import sys\n",
    "\n",
    "sns.set_theme()  \n",
    "\n",
    "print(len(sys.argv[1]))\n",
    "print(sys.argv[2])\n",
    "print(sys.argv[3])\n",
    "\n",
    "for i in range(1,len(sys.argv)):\n",
    "    mes = sys.argv[i]\n",
    "\n",
    "    def plota_pivot_table(df, value, index, func, ylabel, xlabel, opcao='nada'):\n",
    "        if opcao == 'nada':\n",
    "            pd.pivot_table(df, values=value, index=index,\n",
    "                            aggfunc=func).plot(figsize=[15, 5])\n",
    "        elif opcao == 'sort':\n",
    "            pd.pivot_table(df, values=value, index=index,\n",
    "                            aggfunc=func).sort_values(value).plot(figsize=[15, 5])\n",
    "        elif opcao == 'unstack':\n",
    "            pd.pivot_table(df, values=value, index=index,\n",
    "                            aggfunc=func).unstack().plot(figsize=[15, 5])\n",
    "        plt.ylabel(ylabel)\n",
    "        plt.xlabel(xlabel)\n",
    "        return None\n",
    "\n",
    "    sinasc = pd.read_csv('SINASC_RO_2019_MAR.csv')\n",
    "    print(sinasc.DTNASC.min(), sinasc.DTNASC.max())\n",
    "\n",
    "    max_data = sinasc.DTNASC.max()[:7]\n",
    "    print(max_data)\n",
    "    os.makedirs('./output/figs/'+max_data, exist_ok=True)\n",
    "\n",
    "    plota_pivot_table(sinasc, 'IDADEMAE', 'DTNASC', 'count', 'quantidade de nascimento','data de nascimento')\n",
    "    plt.savefig('./output/figs/'+max_data+'/quantidade de nascimento.png')\n",
    "\n",
    "    plota_pivot_table(sinasc, 'IDADEMAE', ['DTNASC', 'SEXO'], 'mean', 'media idade mae','data de nascimento','unstack')\n",
    "    plt.savefig('./output/figs/'+max_data+'/media idade mae por sexo.png')\n",
    "\n",
    "    plota_pivot_table(sinasc, 'PESO', ['DTNASC', 'SEXO'], 'mean', 'media peso bebe','data de nascimento','unstack')\n",
    "    plt.savefig('./output/figs/'+max_data+'/media peso bebe por sexo.png')\n",
    "\n",
    "    plota_pivot_table(sinasc, 'PESO', 'ESCMAE', 'median', 'apgar1 medio','gestacao','sort')\n",
    "    plt.savefig('./output/figs/'+max_data+'/media apgar1 por escolaridade mae.png')\n",
    "\n",
    "    plota_pivot_table(sinasc, 'APGAR1', 'GESTACAO', 'mean', 'apgar1 medio','gestacao','sort')\n",
    "    plt.savefig('./output/figs/'+max_data+'/media apgar1 por gestacao.png')\n",
    "\n",
    "    plota_pivot_table(sinasc, 'APGAR5', 'GESTACAO', 'mean', 'apgar5 medio','gestacao','sort')\n",
    "    plt.savefig('./output/figs/'+max_data+'/media apgar5 por gestacao.png')"
   ]
  },
  {
   "cell_type": "code",
   "execution_count": null,
   "id": "37db2c6b",
   "metadata": {},
   "outputs": [],
   "source": []
  }
 ],
 "metadata": {
  "kernelspec": {
   "display_name": "Python 3",
   "language": "python",
   "name": "python3"
  },
  "language_info": {
   "codemirror_mode": {
    "name": "ipython",
    "version": 3
   },
   "file_extension": ".py",
   "mimetype": "text/x-python",
   "name": "python",
   "nbconvert_exporter": "python",
   "pygments_lexer": "ipython3",
   "version": "3.8.8"
  }
 },
 "nbformat": 4,
 "nbformat_minor": 5
}
