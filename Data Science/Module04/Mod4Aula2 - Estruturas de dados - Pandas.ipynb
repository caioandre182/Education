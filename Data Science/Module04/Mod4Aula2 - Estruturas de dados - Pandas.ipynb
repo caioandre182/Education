{
 "cells": [
  {
   "cell_type": "markdown",
   "metadata": {},
   "source": [
    "# Introdução às estruturas de dados do Pandas"
   ]
  },
  {
   "cell_type": "code",
   "execution_count": 2,
   "metadata": {
    "ExecuteTime": {
     "end_time": "2021-05-20T02:11:05.773904Z",
     "start_time": "2021-05-20T02:11:02.822729Z"
    }
   },
   "outputs": [],
   "source": [
    "import numpy as np\n",
    "import pandas as pd"
   ]
  },
  {
   "cell_type": "markdown",
   "metadata": {},
   "source": [
    "## Séries ``series``\n",
    "\n",
    "O tipo de estrutura ``series`` é um array com rótulos de 1 dimensão e é capaz de conter qualquer tipo de dado do Python. Os rótulos são chamados de índices (``index``). O método mais básico para criar uma série do pandas é:\n",
    "\n",
    "```python\n",
    ">>> s = pd.Series(data=dados, index=indice)\n",
    "```\n",
    "\n",
    "O parâmetro ``dados`` pode ser de diferentes tipos:\n",
    "- Lista do Python\n",
    "- Dicionário do Python\n",
    "- ND-Array\n",
    "- Valor escalar\n",
    "\n",
    "O indice é um rótulo/nome para cada linha."
   ]
  },
  {
   "cell_type": "markdown",
   "metadata": {
    "ExecuteTime": {
     "end_time": "2021-05-20T09:03:30.069791Z",
     "start_time": "2021-05-20T09:03:30.052806Z"
    }
   },
   "source": [
    "Dado essa tabela do IBGE de 2020, vamos construir uma série do pandas:\n",
    "\n",
    "| Classe | Renda Familiar (Limite inferior)|\n",
    "|:-------:|:----------------------------:|\n",
    "| A      | 20.900       |\n",
    "| B      | 10.450|\n",
    "| C      | 4.180 |\n",
    "| D      | 2.090  |\n",
    "| E      | 0                |"
   ]
  },
  {
   "cell_type": "markdown",
   "metadata": {},
   "source": [
    "### Série: a partir de uma lista"
   ]
  },
  {
   "cell_type": "code",
   "execution_count": 3,
   "metadata": {
    "ExecuteTime": {
     "end_time": "2021-05-23T16:21:42.378182Z",
     "start_time": "2021-05-23T16:21:41.965492Z"
    }
   },
   "outputs": [
    {
     "data": {
      "text/plain": [
       "0    20900\n",
       "1    10450\n",
       "2     4180\n",
       "3     2090\n",
       "4        0\n",
       "dtype: int64"
      ]
     },
     "execution_count": 3,
     "metadata": {},
     "output_type": "execute_result"
    }
   ],
   "source": [
    "dados = [20900,10450,4180,2090,0]\n",
    "classeSocialSemIndex = pd.Series(dados)\n",
    "classeSocialSemIndex"
   ]
  },
  {
   "cell_type": "code",
   "execution_count": 4,
   "metadata": {
    "ExecuteTime": {
     "end_time": "2021-05-23T16:21:42.506987Z",
     "start_time": "2021-05-23T16:21:42.477006Z"
    }
   },
   "outputs": [
    {
     "data": {
      "text/plain": [
       "0    20900\n",
       "1    10450\n",
       "2     4180\n",
       "3     2090\n",
       "4        0\n",
       "dtype: int64"
      ]
     },
     "execution_count": 4,
     "metadata": {},
     "output_type": "execute_result"
    }
   ],
   "source": [
    "classeSocialSemIndex = pd.Series([20900,10450,4180,2090,0])\n",
    "classeSocialSemIndex"
   ]
  },
  {
   "cell_type": "code",
   "execution_count": 5,
   "metadata": {
    "ExecuteTime": {
     "end_time": "2021-05-23T16:21:43.230161Z",
     "start_time": "2021-05-23T16:21:43.185106Z"
    }
   },
   "outputs": [
    {
     "data": {
      "text/plain": [
       "20900"
      ]
     },
     "execution_count": 5,
     "metadata": {},
     "output_type": "execute_result"
    }
   ],
   "source": [
    "classeSocialSemIndex[0]"
   ]
  },
  {
   "cell_type": "code",
   "execution_count": 6,
   "metadata": {
    "ExecuteTime": {
     "end_time": "2021-05-23T16:21:43.307102Z",
     "start_time": "2021-05-23T16:21:43.294124Z"
    }
   },
   "outputs": [
    {
     "data": {
      "text/plain": [
       "RangeIndex(start=0, stop=5, step=1)"
      ]
     },
     "execution_count": 6,
     "metadata": {},
     "output_type": "execute_result"
    }
   ],
   "source": [
    "classeSocialSemIndex.index"
   ]
  },
  {
   "cell_type": "code",
   "execution_count": 7,
   "metadata": {
    "ExecuteTime": {
     "end_time": "2021-05-23T16:21:43.386144Z",
     "start_time": "2021-05-23T16:21:43.358079Z"
    }
   },
   "outputs": [
    {
     "data": {
      "text/plain": [
       "A    20900\n",
       "B    10450\n",
       "C     4180\n",
       "D     2090\n",
       "E        0\n",
       "dtype: int64"
      ]
     },
     "execution_count": 7,
     "metadata": {},
     "output_type": "execute_result"
    }
   ],
   "source": [
    "classeSocialComIndex = pd.Series([20900, 10450, 4180, 2090, 0],\n",
    "                                 index=['A', 'B', 'C', 'D', 'E'])\n",
    "classeSocialComIndex"
   ]
  },
  {
   "cell_type": "code",
   "execution_count": 8,
   "metadata": {
    "ExecuteTime": {
     "end_time": "2021-05-23T16:21:43.465082Z",
     "start_time": "2021-05-23T16:21:43.437100Z"
    }
   },
   "outputs": [
    {
     "data": {
      "text/plain": [
       "20900"
      ]
     },
     "execution_count": 8,
     "metadata": {},
     "output_type": "execute_result"
    }
   ],
   "source": [
    "classeSocialComIndex['A']"
   ]
  },
  {
   "cell_type": "code",
   "execution_count": 9,
   "metadata": {
    "ExecuteTime": {
     "end_time": "2021-05-23T16:21:43.701006Z",
     "start_time": "2021-05-23T16:21:43.546046Z"
    }
   },
   "outputs": [
    {
     "data": {
      "text/plain": [
       "array([20900, 10450,  4180,  2090,     0], dtype=int64)"
      ]
     },
     "execution_count": 9,
     "metadata": {},
     "output_type": "execute_result"
    }
   ],
   "source": [
    "classeSocialComIndex.values"
   ]
  },
  {
   "cell_type": "code",
   "execution_count": 10,
   "metadata": {
    "ExecuteTime": {
     "end_time": "2021-05-23T16:21:43.810957Z",
     "start_time": "2021-05-23T16:21:43.750977Z"
    }
   },
   "outputs": [
    {
     "data": {
      "text/plain": [
       "Index(['A', 'B', 'C', 'D', 'E'], dtype='object')"
      ]
     },
     "execution_count": 10,
     "metadata": {},
     "output_type": "execute_result"
    }
   ],
   "source": [
    "# do tipo pd.Index\n",
    "classeSocialComIndex.index"
   ]
  },
  {
   "cell_type": "code",
   "execution_count": null,
   "metadata": {
    "ExecuteTime": {
     "end_time": "2021-05-23T16:21:44.079529Z",
     "start_time": "2021-05-23T16:21:43.876919Z"
    }
   },
   "outputs": [],
   "source": [
    "classeSocialComIndex['A':'C']"
   ]
  },
  {
   "cell_type": "code",
   "execution_count": 11,
   "metadata": {
    "ExecuteTime": {
     "end_time": "2021-05-23T16:21:44.143490Z",
     "start_time": "2021-05-23T16:21:44.112510Z"
    }
   },
   "outputs": [
    {
     "data": {
      "text/plain": [
       "10    20900\n",
       "1     10450\n",
       "3      4180\n",
       "9      2090\n",
       "8         0\n",
       "dtype: int64"
      ]
     },
     "execution_count": 11,
     "metadata": {},
     "output_type": "execute_result"
    }
   ],
   "source": [
    "classeSocialComIndex = pd.Series([20900, 10450, 4180, 2090, 0],\n",
    "                                 index=[10, 1, 3, 9, 8])\n",
    "classeSocialComIndex"
   ]
  },
  {
   "cell_type": "code",
   "execution_count": 12,
   "metadata": {
    "ExecuteTime": {
     "end_time": "2021-05-23T16:21:44.239437Z",
     "start_time": "2021-05-23T16:21:44.176487Z"
    }
   },
   "outputs": [
    {
     "data": {
      "text/plain": [
       "0"
      ]
     },
     "execution_count": 12,
     "metadata": {},
     "output_type": "execute_result"
    }
   ],
   "source": [
    "classeSocialComIndex[8]"
   ]
  },
  {
   "cell_type": "markdown",
   "metadata": {},
   "source": [
    "### Série: a partir de um dicionário"
   ]
  },
  {
   "cell_type": "markdown",
   "metadata": {},
   "source": [
    "| Classe        | Renda Familiar (Limite inferior)|\n",
    "|:-------:      |:-------------------------------:|\n",
    "| classe_A       | 20.900                          |\n",
    "| classe_B       | 10.450                          |\n",
    "| classe_C       | 4.180                           |\n",
    "| classe_D       | 2.090                           |\n",
    "| classe_E       | 0                               |"
   ]
  },
  {
   "cell_type": "code",
   "execution_count": 13,
   "metadata": {
    "ExecuteTime": {
     "end_time": "2021-05-23T16:21:45.044578Z",
     "start_time": "2021-05-23T16:21:44.454010Z"
    }
   },
   "outputs": [
    {
     "data": {
      "text/plain": [
       "classe_A    20900\n",
       "classe_B    10450\n",
       "classe_C     4180\n",
       "classe_D     2090\n",
       "classe_E        0\n",
       "dtype: int64"
      ]
     },
     "execution_count": 13,
     "metadata": {},
     "output_type": "execute_result"
    }
   ],
   "source": [
    "classeSocialDict = {'classe_A': 20900,\n",
    "                   'classe_B': 10450,\n",
    "                   'classe_C': 4180,\n",
    "                   'classe_D': 2090,\n",
    "                   'classe_E': 0}\n",
    "classeSocialSeries = pd.Series(classeSocialDict)\n",
    "classeSocialSeries"
   ]
  },
  {
   "cell_type": "code",
   "execution_count": 14,
   "metadata": {
    "ExecuteTime": {
     "end_time": "2021-05-23T16:21:45.092533Z",
     "start_time": "2021-05-23T16:21:45.082552Z"
    }
   },
   "outputs": [
    {
     "data": {
      "text/plain": [
       "4180"
      ]
     },
     "execution_count": 14,
     "metadata": {},
     "output_type": "execute_result"
    }
   ],
   "source": [
    "classeSocialSeries['classe_C']"
   ]
  },
  {
   "cell_type": "code",
   "execution_count": 15,
   "metadata": {
    "ExecuteTime": {
     "end_time": "2021-05-23T16:21:45.329540Z",
     "start_time": "2021-05-23T16:21:45.143517Z"
    }
   },
   "outputs": [
    {
     "data": {
      "text/plain": [
       "classe_C    4180\n",
       "classe_D    2090\n",
       "classe_E       0\n",
       "dtype: int64"
      ]
     },
     "execution_count": 15,
     "metadata": {},
     "output_type": "execute_result"
    }
   ],
   "source": [
    "classeSocialSeries['classe_C':'classe_E']"
   ]
  },
  {
   "cell_type": "markdown",
   "metadata": {},
   "source": [
    "### Série: a partir de um NDArray"
   ]
  },
  {
   "cell_type": "code",
   "execution_count": 16,
   "metadata": {
    "ExecuteTime": {
     "end_time": "2021-05-23T16:21:45.487410Z",
     "start_time": "2021-05-23T16:21:45.394463Z"
    },
    "scrolled": true
   },
   "outputs": [
    {
     "data": {
      "text/plain": [
       "0    0.719350\n",
       "1    0.624797\n",
       "2    1.627973\n",
       "3   -0.466716\n",
       "4    0.545821\n",
       "dtype: float64"
      ]
     },
     "execution_count": 16,
     "metadata": {},
     "output_type": "execute_result"
    }
   ],
   "source": [
    "pd.Series(np.random.randn(5))"
   ]
  },
  {
   "cell_type": "markdown",
   "metadata": {},
   "source": [
    "### Série: a partir de um escalar"
   ]
  },
  {
   "cell_type": "code",
   "execution_count": 17,
   "metadata": {
    "ExecuteTime": {
     "end_time": "2021-05-23T16:21:45.582355Z",
     "start_time": "2021-05-23T16:21:45.553371Z"
    }
   },
   "outputs": [
    {
     "data": {
      "text/plain": [
       "0    5\n",
       "1    5\n",
       "2    5\n",
       "3    5\n",
       "4    5\n",
       "dtype: int64"
      ]
     },
     "execution_count": 17,
     "metadata": {},
     "output_type": "execute_result"
    }
   ],
   "source": [
    "pd.Series(5, index=[0,1,2,3,4])"
   ]
  },
  {
   "cell_type": "markdown",
   "metadata": {},
   "source": [
    "## Pandas Dataframe"
   ]
  },
  {
   "cell_type": "markdown",
   "metadata": {},
   "source": [
    "``DataFrame`` é uma estrutura de dados com rótulos de 2 dimensões, podendo ter  colunas de diferentes tipos. É comparável às tabelas do excel ou de bancos de dados. É a estrutura de dados do pandas mais usada.\n"
   ]
  },
  {
   "cell_type": "markdown",
   "metadata": {},
   "source": [
    "### DataFrame: a partir de uma lista"
   ]
  },
  {
   "cell_type": "code",
   "execution_count": null,
   "metadata": {
    "ExecuteTime": {
     "end_time": "2021-05-23T16:21:46.256229Z",
     "start_time": "2021-05-23T16:21:46.237257Z"
    }
   },
   "outputs": [],
   "source": [
    "pd.DataFrame([2,4,6,8,10])"
   ]
  },
  {
   "cell_type": "code",
   "execution_count": null,
   "metadata": {
    "ExecuteTime": {
     "end_time": "2021-05-23T16:21:46.432218Z",
     "start_time": "2021-05-23T16:21:46.414229Z"
    }
   },
   "outputs": [],
   "source": [
    "pd.DataFrame([2,4,6,8,10],\n",
    "             columns=['par'])"
   ]
  },
  {
   "cell_type": "markdown",
   "metadata": {},
   "source": [
    "### DataFrame: a partir de um dicionário com lista"
   ]
  },
  {
   "cell_type": "code",
   "execution_count": null,
   "metadata": {
    "ExecuteTime": {
     "end_time": "2021-05-23T16:21:46.795540Z",
     "start_time": "2021-05-23T16:21:46.781533Z"
    }
   },
   "outputs": [],
   "source": [
    "pd.DataFrame({'impar': [1,3,5,7,9]})"
   ]
  },
  {
   "cell_type": "markdown",
   "metadata": {},
   "source": [
    "### DataFrame: a partir de um dicionário com 2 listas"
   ]
  },
  {
   "cell_type": "code",
   "execution_count": null,
   "metadata": {
    "ExecuteTime": {
     "end_time": "2021-05-23T16:21:47.205689Z",
     "start_time": "2021-05-23T16:21:47.132905Z"
    }
   },
   "outputs": [],
   "source": [
    "pd.DataFrame({'impar': [1,3,5,7,9],\n",
    "              'par': [2,4,6,8,10]})"
   ]
  },
  {
   "cell_type": "markdown",
   "metadata": {},
   "source": [
    "| Estado           | População |  Área (m2)|\n",
    "|:----------------:|:---------:|:-------:  |\n",
    "| **Amazonas**         | 3.938.336 | 1.559.167 |\n",
    "| **São Paulo**        | 44.396.484| 248.219   |\n",
    "| **Bahia**            | 15.203.934| 564.760   |\n",
    "| **Minas Gerais**     | 20.869.101| 586.521   |\n",
    "| **Roraima**          | 505.665   | 223.644   |\n",
    "| **Distrito Federal** | 2.914.830 | 5.760     |"
   ]
  },
  {
   "cell_type": "markdown",
   "metadata": {},
   "source": [
    "### DataFrame: a partir de um dicionário com 1 série do pandas"
   ]
  },
  {
   "cell_type": "code",
   "execution_count": 19,
   "metadata": {
    "ExecuteTime": {
     "end_time": "2021-05-23T16:21:47.738877Z",
     "start_time": "2021-05-23T16:21:47.668250Z"
    }
   },
   "outputs": [
    {
     "data": {
      "text/plain": [
       "Amazonas             3938336\n",
       "São Paulo           44396484\n",
       "Bahia               15203934\n",
       "Minas Gerais        20869101\n",
       "Roraima               505665\n",
       "Distrito Federal     2914830\n",
       "dtype: int64"
      ]
     },
     "execution_count": 19,
     "metadata": {},
     "output_type": "execute_result"
    }
   ],
   "source": [
    "popBrasilDict = {\n",
    "    'Amazonas': 3938336,\n",
    "    'São Paulo': 44396484,\n",
    "    'Bahia': 15203934,\n",
    "    'Minas Gerais': 20869101,\n",
    "    'Roraima': 505665,\n",
    "    'Distrito Federal': 2914830\n",
    "}\n",
    "popBrasilSerie  =  pd.Series(popBrasilDict)\n",
    "popBrasilSerie"
   ]
  },
  {
   "cell_type": "code",
   "execution_count": 20,
   "metadata": {
    "ExecuteTime": {
     "end_time": "2021-05-23T16:21:47.881564Z",
     "start_time": "2021-05-23T16:21:47.853582Z"
    }
   },
   "outputs": [
    {
     "data": {
      "text/html": [
       "<div>\n",
       "<style scoped>\n",
       "    .dataframe tbody tr th:only-of-type {\n",
       "        vertical-align: middle;\n",
       "    }\n",
       "\n",
       "    .dataframe tbody tr th {\n",
       "        vertical-align: top;\n",
       "    }\n",
       "\n",
       "    .dataframe thead th {\n",
       "        text-align: right;\n",
       "    }\n",
       "</style>\n",
       "<table border=\"1\" class=\"dataframe\">\n",
       "  <thead>\n",
       "    <tr style=\"text-align: right;\">\n",
       "      <th></th>\n",
       "      <th>População</th>\n",
       "    </tr>\n",
       "  </thead>\n",
       "  <tbody>\n",
       "    <tr>\n",
       "      <th>Amazonas</th>\n",
       "      <td>3938336</td>\n",
       "    </tr>\n",
       "    <tr>\n",
       "      <th>São Paulo</th>\n",
       "      <td>44396484</td>\n",
       "    </tr>\n",
       "    <tr>\n",
       "      <th>Bahia</th>\n",
       "      <td>15203934</td>\n",
       "    </tr>\n",
       "    <tr>\n",
       "      <th>Minas Gerais</th>\n",
       "      <td>20869101</td>\n",
       "    </tr>\n",
       "    <tr>\n",
       "      <th>Roraima</th>\n",
       "      <td>505665</td>\n",
       "    </tr>\n",
       "    <tr>\n",
       "      <th>Distrito Federal</th>\n",
       "      <td>2914830</td>\n",
       "    </tr>\n",
       "  </tbody>\n",
       "</table>\n",
       "</div>"
      ],
      "text/plain": [
       "                  População\n",
       "Amazonas            3938336\n",
       "São Paulo          44396484\n",
       "Bahia              15203934\n",
       "Minas Gerais       20869101\n",
       "Roraima              505665\n",
       "Distrito Federal    2914830"
      ]
     },
     "execution_count": 20,
     "metadata": {},
     "output_type": "execute_result"
    }
   ],
   "source": [
    "pd.DataFrame({'População': popBrasilSerie})"
   ]
  },
  {
   "cell_type": "code",
   "execution_count": 21,
   "metadata": {
    "ExecuteTime": {
     "end_time": "2021-05-23T16:21:48.055513Z",
     "start_time": "2021-05-23T16:21:48.037511Z"
    }
   },
   "outputs": [
    {
     "data": {
      "text/plain": [
       "Amazonas            1559167\n",
       "São Paulo            248219\n",
       "Bahia                564760\n",
       "Minas Gerais         586521\n",
       "Roraima              223644\n",
       "Distrito Federal       5760\n",
       "dtype: int64"
      ]
     },
     "execution_count": 21,
     "metadata": {},
     "output_type": "execute_result"
    }
   ],
   "source": [
    "areaBrasilDict = {\n",
    "    'Amazonas': 1559167,\n",
    "    'São Paulo': 248219,\n",
    "    'Bahia': 564760,\n",
    "    'Minas Gerais': 586521,\n",
    "    'Roraima': 223644,\n",
    "    'Distrito Federal': 5760\n",
    "}\n",
    "\n",
    "areaBrasilSerie  =  pd.Series(areaBrasilDict)\n",
    "areaBrasilSerie"
   ]
  },
  {
   "cell_type": "code",
   "execution_count": 22,
   "metadata": {
    "ExecuteTime": {
     "end_time": "2021-05-23T16:21:48.229161Z",
     "start_time": "2021-05-23T16:21:48.220168Z"
    }
   },
   "outputs": [
    {
     "data": {
      "text/html": [
       "<div>\n",
       "<style scoped>\n",
       "    .dataframe tbody tr th:only-of-type {\n",
       "        vertical-align: middle;\n",
       "    }\n",
       "\n",
       "    .dataframe tbody tr th {\n",
       "        vertical-align: top;\n",
       "    }\n",
       "\n",
       "    .dataframe thead th {\n",
       "        text-align: right;\n",
       "    }\n",
       "</style>\n",
       "<table border=\"1\" class=\"dataframe\">\n",
       "  <thead>\n",
       "    <tr style=\"text-align: right;\">\n",
       "      <th></th>\n",
       "      <th>Área</th>\n",
       "    </tr>\n",
       "  </thead>\n",
       "  <tbody>\n",
       "    <tr>\n",
       "      <th>Amazonas</th>\n",
       "      <td>1559167</td>\n",
       "    </tr>\n",
       "    <tr>\n",
       "      <th>São Paulo</th>\n",
       "      <td>248219</td>\n",
       "    </tr>\n",
       "    <tr>\n",
       "      <th>Bahia</th>\n",
       "      <td>564760</td>\n",
       "    </tr>\n",
       "    <tr>\n",
       "      <th>Minas Gerais</th>\n",
       "      <td>586521</td>\n",
       "    </tr>\n",
       "    <tr>\n",
       "      <th>Roraima</th>\n",
       "      <td>223644</td>\n",
       "    </tr>\n",
       "    <tr>\n",
       "      <th>Distrito Federal</th>\n",
       "      <td>5760</td>\n",
       "    </tr>\n",
       "  </tbody>\n",
       "</table>\n",
       "</div>"
      ],
      "text/plain": [
       "                     Área\n",
       "Amazonas          1559167\n",
       "São Paulo          248219\n",
       "Bahia              564760\n",
       "Minas Gerais       586521\n",
       "Roraima            223644\n",
       "Distrito Federal     5760"
      ]
     },
     "execution_count": 22,
     "metadata": {},
     "output_type": "execute_result"
    }
   ],
   "source": [
    "pd.DataFrame({'Área': areaBrasilSerie})"
   ]
  },
  {
   "cell_type": "markdown",
   "metadata": {},
   "source": [
    "### DataFrame: a partir de um dicionário com 2 séries do pandas "
   ]
  },
  {
   "cell_type": "code",
   "execution_count": 23,
   "metadata": {
    "ExecuteTime": {
     "end_time": "2021-05-23T16:21:48.706629Z",
     "start_time": "2021-05-23T16:21:48.597312Z"
    }
   },
   "outputs": [
    {
     "data": {
      "text/html": [
       "<div>\n",
       "<style scoped>\n",
       "    .dataframe tbody tr th:only-of-type {\n",
       "        vertical-align: middle;\n",
       "    }\n",
       "\n",
       "    .dataframe tbody tr th {\n",
       "        vertical-align: top;\n",
       "    }\n",
       "\n",
       "    .dataframe thead th {\n",
       "        text-align: right;\n",
       "    }\n",
       "</style>\n",
       "<table border=\"1\" class=\"dataframe\">\n",
       "  <thead>\n",
       "    <tr style=\"text-align: right;\">\n",
       "      <th></th>\n",
       "      <th>População</th>\n",
       "      <th>Área</th>\n",
       "    </tr>\n",
       "  </thead>\n",
       "  <tbody>\n",
       "    <tr>\n",
       "      <th>Amazonas</th>\n",
       "      <td>3938336</td>\n",
       "      <td>1559167</td>\n",
       "    </tr>\n",
       "    <tr>\n",
       "      <th>São Paulo</th>\n",
       "      <td>44396484</td>\n",
       "      <td>248219</td>\n",
       "    </tr>\n",
       "    <tr>\n",
       "      <th>Bahia</th>\n",
       "      <td>15203934</td>\n",
       "      <td>564760</td>\n",
       "    </tr>\n",
       "    <tr>\n",
       "      <th>Minas Gerais</th>\n",
       "      <td>20869101</td>\n",
       "      <td>586521</td>\n",
       "    </tr>\n",
       "    <tr>\n",
       "      <th>Roraima</th>\n",
       "      <td>505665</td>\n",
       "      <td>223644</td>\n",
       "    </tr>\n",
       "    <tr>\n",
       "      <th>Distrito Federal</th>\n",
       "      <td>2914830</td>\n",
       "      <td>5760</td>\n",
       "    </tr>\n",
       "  </tbody>\n",
       "</table>\n",
       "</div>"
      ],
      "text/plain": [
       "                  População     Área\n",
       "Amazonas            3938336  1559167\n",
       "São Paulo          44396484   248219\n",
       "Bahia              15203934   564760\n",
       "Minas Gerais       20869101   586521\n",
       "Roraima              505665   223644\n",
       "Distrito Federal    2914830     5760"
      ]
     },
     "execution_count": 23,
     "metadata": {},
     "output_type": "execute_result"
    }
   ],
   "source": [
    "estadosBrasil = pd.DataFrame({'População': popBrasilSerie,\n",
    "                       'Área': areaBrasilSerie})\n",
    "estadosBrasil"
   ]
  },
  {
   "cell_type": "code",
   "execution_count": 24,
   "metadata": {
    "ExecuteTime": {
     "end_time": "2021-05-23T16:21:48.799577Z",
     "start_time": "2021-05-23T16:21:48.780588Z"
    }
   },
   "outputs": [
    {
     "data": {
      "text/plain": [
       "Index(['Amazonas', 'São Paulo', 'Bahia', 'Minas Gerais', 'Roraima',\n",
       "       'Distrito Federal'],\n",
       "      dtype='object')"
      ]
     },
     "execution_count": 24,
     "metadata": {},
     "output_type": "execute_result"
    }
   ],
   "source": [
    "estadosBrasil.index"
   ]
  },
  {
   "cell_type": "code",
   "execution_count": null,
   "metadata": {
    "ExecuteTime": {
     "end_time": "2021-05-23T16:21:48.972417Z",
     "start_time": "2021-05-23T16:21:48.958427Z"
    }
   },
   "outputs": [],
   "source": [
    "estadosBrasil.columns"
   ]
  },
  {
   "cell_type": "code",
   "execution_count": null,
   "metadata": {
    "ExecuteTime": {
     "end_time": "2021-05-23T16:21:49.162356Z",
     "start_time": "2021-05-23T16:21:49.149349Z"
    }
   },
   "outputs": [],
   "source": [
    "estadosBrasil['População']"
   ]
  },
  {
   "cell_type": "code",
   "execution_count": null,
   "metadata": {
    "ExecuteTime": {
     "end_time": "2021-05-23T16:21:49.366353Z",
     "start_time": "2021-05-23T16:21:49.333371Z"
    }
   },
   "outputs": [],
   "source": [
    "estadosBrasil['Área']"
   ]
  },
  {
   "cell_type": "markdown",
   "metadata": {},
   "source": [
    "### Criando uma nova coluna"
   ]
  },
  {
   "cell_type": "code",
   "execution_count": null,
   "metadata": {
    "ExecuteTime": {
     "end_time": "2021-05-23T16:21:50.066407Z",
     "start_time": "2021-05-23T16:21:49.710546Z"
    }
   },
   "outputs": [],
   "source": [
    "estadosBrasil['Densidade'] = estadosBrasil['População'] / estadosBrasil['Área']\n",
    "estadosBrasil"
   ]
  },
  {
   "cell_type": "code",
   "execution_count": null,
   "metadata": {
    "ExecuteTime": {
     "end_time": "2021-05-23T16:21:52.143338Z",
     "start_time": "2021-05-23T16:21:50.132350Z"
    }
   },
   "outputs": [],
   "source": [
    "estadosBrasil['População'].plot(kind='bar');"
   ]
  },
  {
   "cell_type": "code",
   "execution_count": null,
   "metadata": {
    "ExecuteTime": {
     "end_time": "2021-05-23T16:21:52.536455Z",
     "start_time": "2021-05-23T16:21:52.226373Z"
    }
   },
   "outputs": [],
   "source": [
    "estadosBrasil['Área'].plot(kind='bar');"
   ]
  },
  {
   "cell_type": "code",
   "execution_count": null,
   "metadata": {
    "ExecuteTime": {
     "end_time": "2021-05-23T16:21:52.882583Z",
     "start_time": "2021-05-23T16:21:52.601403Z"
    },
    "scrolled": true
   },
   "outputs": [],
   "source": [
    "estadosBrasil['Densidade'].plot(kind='bar');"
   ]
  },
  {
   "cell_type": "code",
   "execution_count": null,
   "metadata": {},
   "outputs": [],
   "source": []
  }
 ],
 "metadata": {
  "kernelspec": {
   "display_name": "Python 3",
   "language": "python",
   "name": "python3"
  },
  "language_info": {
   "codemirror_mode": {
    "name": "ipython",
    "version": 3
   },
   "file_extension": ".py",
   "mimetype": "text/x-python",
   "name": "python",
   "nbconvert_exporter": "python",
   "pygments_lexer": "ipython3",
   "version": "3.8.8"
  },
  "varInspector": {
   "cols": {
    "lenName": 16,
    "lenType": 16,
    "lenVar": 40
   },
   "kernels_config": {
    "python": {
     "delete_cmd_postfix": "",
     "delete_cmd_prefix": "del ",
     "library": "var_list.py",
     "varRefreshCmd": "print(var_dic_list())"
    },
    "r": {
     "delete_cmd_postfix": ") ",
     "delete_cmd_prefix": "rm(",
     "library": "var_list.r",
     "varRefreshCmd": "cat(var_dic_list()) "
    }
   },
   "types_to_exclude": [
    "module",
    "function",
    "builtin_function_or_method",
    "instance",
    "_Feature"
   ],
   "window_display": false
  }
 },
 "nbformat": 4,
 "nbformat_minor": 4
}
