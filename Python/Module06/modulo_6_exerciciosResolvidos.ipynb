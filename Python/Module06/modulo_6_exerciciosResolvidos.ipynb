{
  "nbformat": 4,
  "nbformat_minor": 0,
  "metadata": {
    "colab": {
      "name": "modulo_6_exerciciosResolvidos.ipynb",
      "provenance": [],
      "collapsed_sections": []
    },
    "kernelspec": {
      "name": "python3",
      "display_name": "Python 3"
    }
  },
  "cells": [
    {
      "cell_type": "markdown",
      "metadata": {
        "id": "KJqp9AANOCtf"
      },
      "source": [
        "<img src=\"https://raw.githubusercontent.com/andre-marcos-perez/ebac-course-utils/main/media/logo/newebac_logo_black_half.png\" alt=\"ebac-logo\">\n",
        "\n",
        "---\n",
        "\n",
        "# **Módulo** | Python: Programação Orientada a Objetos\n",
        "Caderno de **Exercícios**<br> \n",
        "Professor [André Perez](https://www.linkedin.com/in/andremarcosperez/)\n",
        "\n",
        "---"
      ]
    },
    {
      "cell_type": "markdown",
      "metadata": {
        "id": "d9jDtUbDOE1-"
      },
      "source": [
        "# **Tópicos**\n",
        "\n",
        "<ol type=\"1\">\n",
        "  <li>Um pouco de teoria;</li>\n",
        "  <li>Classes;</li>\n",
        "  <li>Objetos;</li>\n",
        "  <li>Herança.</li>\n",
        "</ol>"
      ]
    },
    {
      "cell_type": "markdown",
      "metadata": {
        "id": "SmoHgt-lwkpD"
      },
      "source": [
        "---"
      ]
    },
    {
      "cell_type": "markdown",
      "metadata": {
        "id": "GABI6OW8OfQ2"
      },
      "source": [
        "# **Exercícios**"
      ]
    },
    {
      "cell_type": "markdown",
      "metadata": {
        "id": "syVczIAwGO3A"
      },
      "source": [
        "## 0\\. Preparação do ambiente"
      ]
    },
    {
      "cell_type": "markdown",
      "metadata": {
        "id": "2X3TrxdzGO3C"
      },
      "source": [
        "Neste exercício vamos trabalhar com os arquivos de csv e texto definidos abaixo. Execute cada uma das células de código para escrever os arquivos na sua máquina virtual."
      ]
    },
    {
      "cell_type": "markdown",
      "metadata": {
        "id": "u0uFuhRSq_hQ"
      },
      "source": [
        "* **carros.csv**: arquivo csv com informações sobre carros (venda, manutenção, portas, etc.)."
      ]
    },
    {
      "cell_type": "code",
      "metadata": {
        "id": "daMf-xaXqKs2",
        "colab": {
          "base_uri": "https://localhost:8080/"
        },
        "outputId": "b2d2a615-0634-4a84-8b31-702b00f03fb8"
      },
      "source": [
        "%%writefile carros.csv\n",
        "id,valor_venda,valor_manutencao,portas,pessoas,porta_malas\n",
        "1,vhigh,med,2,2,small\n",
        "2,med,vhigh,2,2,small\n",
        "3,low,vhigh,2,2,small\n",
        "4,low,high,2,2,small\n",
        "5,low,high,2,2,small\n",
        "6,low,high,4,4,big\n",
        "7,low,high,4,4,big\n",
        "8,low,med,2,2,small\n",
        "9,low,med,2,2,small\n",
        "10,low,med,2,2,small\n",
        "11,low,med,4,4,big\n",
        "12,low,low,2,2,small\n",
        "13,low,low,4,4,small\n",
        "14,low,low,4,4,med"
      ],
      "execution_count": 1,
      "outputs": [
        {
          "output_type": "stream",
          "name": "stdout",
          "text": [
            "Writing carros.csv\n"
          ]
        }
      ]
    },
    {
      "cell_type": "markdown",
      "metadata": {
        "id": "X0Z2PhbCrTz1"
      },
      "source": [
        "* **musica.txt**: arquivo texto com a letra da música Roda Viva do Chico Buarque."
      ]
    },
    {
      "cell_type": "code",
      "metadata": {
        "id": "m7Ge2rggrU73",
        "colab": {
          "base_uri": "https://localhost:8080/"
        },
        "outputId": "ae4999d3-bad1-4c4a-f9ce-a8ee0c4a5b38"
      },
      "source": [
        "%%writefile musica.txt\n",
        "Roda Viva\n",
        "Chico Buarque\n",
        "\n",
        "Tem dias que a gente se sente\n",
        "Como quem partiu ou morreu\n",
        "A gente estancou de repente\n",
        "Ou foi o mundo então que cresceu\n",
        "A gente quer ter voz ativa\n",
        "No nosso destino mandar\n",
        "Mas eis que chega a roda viva\n",
        "E carrega o destino pra lá\n",
        "\n",
        "Roda mundo, roda-gigante\n",
        "Roda moinho, roda pião\n",
        "\n",
        "O tempo rodou num instante\n",
        "Nas voltas do meu coração\n",
        "A gente vai contra a corrente\n",
        "Até não poder resistir\n",
        "Na volta do barco é que sente\n",
        "O quanto deixou de cumprir\n",
        "Faz tempo que a gente cultiva\n",
        "A mais linda roseira que há\n",
        "Mas eis que chega a roda viva\n",
        "E carrega a roseira pra lá\n",
        "\n",
        "Roda mundo, roda-gigante\n",
        "Roda moinho, roda pião"
      ],
      "execution_count": 2,
      "outputs": [
        {
          "output_type": "stream",
          "name": "stdout",
          "text": [
            "Writing musica.txt\n"
          ]
        }
      ]
    },
    {
      "cell_type": "markdown",
      "metadata": {
        "id": "HV69LMAVGO3J"
      },
      "source": [
        "---"
      ]
    },
    {
      "cell_type": "markdown",
      "metadata": {
        "id": "U4S19ZvHsPcE"
      },
      "source": [
        "## 1\\. Classe para ler arquivos de texto"
      ]
    },
    {
      "cell_type": "markdown",
      "metadata": {
        "id": "HQrKGtoMGjf6"
      },
      "source": [
        "Crie a classe `ArquivoTexto`. Ela deve conter os seguintes atributos:\n",
        "\n",
        "*   `self.arquivo`: Atributo do tipo `str` com o nome do arquivo;\n",
        "*   `self.conteudo`: Atributo do tipo `list` onde cada elemento é uma linha do arquivo;\n",
        "\n",
        "A classe também deve conter o seguinte método:\n",
        "\n",
        "*   `self.extrair_linha`: Método que recebe como parâmetro o número da linha e retorna o seu conteúdo."
      ]
    },
    {
      "cell_type": "code",
      "metadata": {
        "id": "9QFsOQ9ZGXUC"
      },
      "source": [
        "class ArquivoTexto(object):\n",
        "\n",
        "  def __init__(self, arquivo: str):\n",
        "    self.arquivo = arquivo\n",
        "    self.conteudo = self.extrair_conteudo()\n",
        "\n",
        "  def extrair_conteudo(self):\n",
        "    conteudo = None\n",
        "    with open(file=self.arquivo, mode='r', encoding='utf8') as arquivo:\n",
        "      conteudo = arquivo.readlines()\n",
        "    return conteudo \n",
        "\n",
        "  def extrair_linha(self, numero_linha: int):\n",
        "    linha_final = list()\n",
        "    contador = 0\n",
        "    for linha in self.conteudo:\n",
        "      contador += 1\n",
        "      if contador == numero_linha:\n",
        "        linha_final = linha\n",
        "    return linha_final"
      ],
      "execution_count": 82,
      "outputs": []
    },
    {
      "cell_type": "markdown",
      "metadata": {
        "id": "866OgsyHHw2M"
      },
      "source": [
        "Utilize o código abaixo para testar sua classe."
      ]
    },
    {
      "cell_type": "code",
      "metadata": {
        "id": "_HV_CE7CH8LO",
        "colab": {
          "base_uri": "https://localhost:8080/"
        },
        "outputId": "85f9b7f7-4edf-4d9e-d7d5-ca1e20a51cfb"
      },
      "source": [
        "arquivo_texto = ArquivoTexto(arquivo='musica.txt')\n",
        "\n",
        "numero_linha = 1\n",
        "print(arquivo_texto.extrair_linha(numero_linha=numero_linha)) # Roda Viva\n",
        "\n",
        "numero_linha = 10\n",
        "print(arquivo_texto.extrair_linha(numero_linha=numero_linha)) # Mas eis que chega a roda viva"
      ],
      "execution_count": 83,
      "outputs": [
        {
          "output_type": "stream",
          "name": "stdout",
          "text": [
            "Roda Viva\n",
            "\n",
            "Mas eis que chega a roda viva\n",
            "\n"
          ]
        }
      ]
    },
    {
      "cell_type": "markdown",
      "metadata": {
        "id": "zMN1Q3jdwoJm"
      },
      "source": [
        "---"
      ]
    },
    {
      "cell_type": "markdown",
      "metadata": {
        "id": "aQ8euzThIlLl"
      },
      "source": [
        "## 2\\. Classe para ler arquivos de csv"
      ]
    },
    {
      "cell_type": "markdown",
      "metadata": {
        "id": "EMWhvKAWIlL0"
      },
      "source": [
        "Crie a classe `ArquivoCSV`. Ela deve extender (herdar) a classe `ArquivoTexto` para reaproveitar os seus atributos (`self.arquivo` e `self.conteudo`) e método (`self.extrair_linha`). Além disso, adicione o seguinte atributo:\n",
        "\n",
        "*   `self.colunas`: Atributo do tipo `list` onde os elementos são os nome das colunas;\n",
        "\n",
        "A classe também deve conter o seguinte método:\n",
        "\n",
        "*   `self.extrair_coluna_da_linha`: Método que recebe como parâmetro o numero da linha e o indice da coluna e retorna o valor em questão."
      ]
    },
    {
      "cell_type": "code",
      "metadata": {
        "id": "2r3mfEyYIlL0"
      },
      "source": [
        "class ArquivoCSV(ArquivoTexto):\n",
        "\n",
        "  def __init__(self, arquivo: str):\n",
        "    super().__init__(arquivo = arquivo)\n",
        "    self.colunas = self.extrair_nome_colunas()\n",
        "\n",
        "  def extrair_nome_colunas(self):\n",
        "    return self.conteudo[0].strip().split(sep=',')\n",
        "\n",
        "  def extrair_coluna_da_linha(self, numero_linha: int, numero_coluna: int):\n",
        "    coluna = list()\n",
        "    contador = 0\n",
        "    for linha in self.conteudo:\n",
        "      conteudo_linha = linha.strip().split(sep=',')\n",
        "      coluna.append(conteudo_linha[numero_coluna - 1])\n",
        "    coluna.pop(0)\n",
        "\n",
        "    for item in coluna:\n",
        "      contador += 1\n",
        "      if contador == numero_linha:\n",
        "        resultado = item\n",
        "\n",
        "    \n",
        "    return resultado\n",
        "\n",
        "\n",
        "\n",
        "\n",
        "\n",
        "\n"
      ],
      "execution_count": 117,
      "outputs": []
    },
    {
      "cell_type": "markdown",
      "metadata": {
        "id": "jQm_hBETIlL1"
      },
      "source": [
        "Utilize o código abaixo para testar sua classe."
      ]
    },
    {
      "cell_type": "code",
      "metadata": {
        "id": "GKSf1YbcIlL1",
        "colab": {
          "base_uri": "https://localhost:8080/"
        },
        "outputId": "08270749-38ae-467d-bd4c-2165a5fb16c1"
      },
      "source": [
        "arquivo_csv = ArquivoCSV(arquivo='carros.csv')\n",
        "\n",
        "numero_linha = 1\n",
        "print(arquivo_csv.extrair_linha(numero_linha=numero_linha)) # id,valor_venda,valor_manutencao,portas,pessoas,porta_malas\n",
        "\n",
        "print(arquivo_csv.colunas) # ['id', 'valor_venda', 'valor_manutencao', 'portas', 'pessoas', 'porta_malas']\n",
        "\n",
        "numero_linha = 10\n",
        "print(arquivo_csv.extrair_linha(numero_linha=numero_linha)) # 9,low,med,2,2,small\n",
        "\n",
        "numero_linha = 10\n",
        "numero_coluna = 2\n",
        "print(arquivo_csv.extrair_coluna_da_linha(numero_linha=numero_linha, numero_coluna=numero_coluna)) # low"
      ],
      "execution_count": 121,
      "outputs": [
        {
          "output_type": "stream",
          "name": "stdout",
          "text": [
            "id,valor_venda,valor_manutencao,portas,pessoas,porta_malas\n",
            "\n",
            "['id', 'valor_venda', 'valor_manutencao', 'portas', 'pessoas', 'porta_malas']\n",
            "9,low,med,2,2,small\n",
            "\n",
            "low\n"
          ]
        }
      ]
    },
    {
      "cell_type": "markdown",
      "metadata": {
        "id": "78xH4bWUIlL2"
      },
      "source": [
        "---"
      ]
    }
  ]
}