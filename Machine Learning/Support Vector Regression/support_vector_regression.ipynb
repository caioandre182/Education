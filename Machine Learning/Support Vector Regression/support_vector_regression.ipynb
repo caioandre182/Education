{
 "cells": [
  {
   "cell_type": "markdown",
   "metadata": {
    "colab_type": "text",
    "id": "m3PAEPRDRLA3"
   },
   "source": [
    "# Support Vector Regression (SVR)"
   ]
  },
  {
   "cell_type": "markdown",
   "metadata": {
    "colab_type": "text",
    "id": "0VCUAVIjRdzZ"
   },
   "source": [
    "## Importing the libraries"
   ]
  },
  {
   "cell_type": "code",
   "execution_count": 2,
   "metadata": {},
   "outputs": [],
   "source": [
    "import pandas as pd\n",
    "import numpy as np\n",
    "import matplotlib.pyplot as plt"
   ]
  },
  {
   "cell_type": "markdown",
   "metadata": {
    "colab_type": "text",
    "id": "fXVXoFWtSF4_"
   },
   "source": [
    "## Importing the dataset"
   ]
  },
  {
   "cell_type": "code",
   "execution_count": 64,
   "metadata": {},
   "outputs": [],
   "source": [
    "dataset = pd.read_csv('Position_Salaries.csv')\n",
    "X = dataset.iloc[:, 1:-1].values\n",
    "y = dataset.iloc[:, -1].values"
   ]
  },
  {
   "cell_type": "code",
   "execution_count": 65,
   "metadata": {},
   "outputs": [
    {
     "name": "stdout",
     "output_type": "stream",
     "text": [
      "[[ 1]\n",
      " [ 2]\n",
      " [ 3]\n",
      " [ 4]\n",
      " [ 5]\n",
      " [ 6]\n",
      " [ 7]\n",
      " [ 8]\n",
      " [ 9]\n",
      " [10]]\n"
     ]
    }
   ],
   "source": [
    "print(X)"
   ]
  },
  {
   "cell_type": "code",
   "execution_count": 66,
   "metadata": {},
   "outputs": [
    {
     "name": "stdout",
     "output_type": "stream",
     "text": [
      "[  45000   50000   60000   80000  110000  150000  200000  300000  500000\n",
      " 1000000]\n"
     ]
    }
   ],
   "source": [
    "print(y)"
   ]
  },
  {
   "cell_type": "code",
   "execution_count": 67,
   "metadata": {},
   "outputs": [
    {
     "data": {
      "text/plain": [
       "array([[  45000],\n",
       "       [  50000],\n",
       "       [  60000],\n",
       "       [  80000],\n",
       "       [ 110000],\n",
       "       [ 150000],\n",
       "       [ 200000],\n",
       "       [ 300000],\n",
       "       [ 500000],\n",
       "       [1000000]])"
      ]
     },
     "execution_count": 67,
     "metadata": {},
     "output_type": "execute_result"
    }
   ],
   "source": [
    "y = y.reshape(len(y),1)\n",
    "y"
   ]
  },
  {
   "cell_type": "markdown",
   "metadata": {
    "colab_type": "text",
    "id": "YS8FeLHYS-nI"
   },
   "source": [
    "## Feature Scaling"
   ]
  },
  {
   "cell_type": "code",
   "execution_count": 68,
   "metadata": {},
   "outputs": [],
   "source": [
    "from sklearn.preprocessing import StandardScaler\n",
    "sc_X = StandardScaler()\n",
    "sc_y = StandardScaler()\n",
    "X = sc_X.fit_transform(X)\n",
    "y = sc_y.fit_transform(y)"
   ]
  },
  {
   "cell_type": "code",
   "execution_count": 69,
   "metadata": {},
   "outputs": [
    {
     "data": {
      "text/plain": [
       "array([[-1.5666989 ],\n",
       "       [-1.21854359],\n",
       "       [-0.87038828],\n",
       "       [-0.52223297],\n",
       "       [-0.17407766],\n",
       "       [ 0.17407766],\n",
       "       [ 0.52223297],\n",
       "       [ 0.87038828],\n",
       "       [ 1.21854359],\n",
       "       [ 1.5666989 ]])"
      ]
     },
     "execution_count": 69,
     "metadata": {},
     "output_type": "execute_result"
    }
   ],
   "source": [
    "X"
   ]
  },
  {
   "cell_type": "code",
   "execution_count": 70,
   "metadata": {},
   "outputs": [
    {
     "data": {
      "text/plain": [
       "array([[-0.72004253],\n",
       "       [-0.70243757],\n",
       "       [-0.66722767],\n",
       "       [-0.59680786],\n",
       "       [-0.49117815],\n",
       "       [-0.35033854],\n",
       "       [-0.17428902],\n",
       "       [ 0.17781001],\n",
       "       [ 0.88200808],\n",
       "       [ 2.64250325]])"
      ]
     },
     "execution_count": 70,
     "metadata": {},
     "output_type": "execute_result"
    }
   ],
   "source": [
    "y"
   ]
  },
  {
   "cell_type": "markdown",
   "metadata": {
    "colab_type": "text",
    "id": "eiU6D2QFRjxY"
   },
   "source": [
    "## Training the SVR model on the whole dataset"
   ]
  },
  {
   "cell_type": "code",
   "execution_count": 71,
   "metadata": {},
   "outputs": [
    {
     "name": "stderr",
     "output_type": "stream",
     "text": [
      "/home/caio/anaconda3/lib/python3.9/site-packages/sklearn/utils/validation.py:993: DataConversionWarning: A column-vector y was passed when a 1d array was expected. Please change the shape of y to (n_samples, ), for example using ravel().\n",
      "  y = column_or_1d(y, warn=True)\n"
     ]
    },
    {
     "data": {
      "text/plain": [
       "SVR()"
      ]
     },
     "execution_count": 71,
     "metadata": {},
     "output_type": "execute_result"
    }
   ],
   "source": [
    "from sklearn.svm import SVR\n",
    "regressor = SVR(kernel = 'rbf')\n",
    "regressor.fit(X, y)"
   ]
  },
  {
   "cell_type": "markdown",
   "metadata": {
    "colab_type": "text",
    "id": "deDnDr8UR5vq"
   },
   "source": [
    "## Predicting a new result"
   ]
  },
  {
   "cell_type": "code",
   "execution_count": 73,
   "metadata": {},
   "outputs": [
    {
     "data": {
      "text/plain": [
       "array([[170370.0204065]])"
      ]
     },
     "execution_count": 73,
     "metadata": {},
     "output_type": "execute_result"
    }
   ],
   "source": [
    "y_pred = regressor.predict(sc.transform([[6.5]]))\n",
    "\n",
    "y_pred = sc_y.inverse_transform([y_pred])\n",
    "y_pred"
   ]
  },
  {
   "cell_type": "code",
   "execution_count": 79,
   "metadata": {},
   "outputs": [
    {
     "data": {
      "text/plain": [
       "array([[ 73474.15615697],\n",
       "       [ 70786.94584626],\n",
       "       [ 88213.00902103],\n",
       "       [108254.98574956],\n",
       "       [122574.52250599],\n",
       "       [145503.10688572],\n",
       "       [209410.23132923],\n",
       "       [330606.89204569],\n",
       "       [471671.95587315],\n",
       "       [557821.75899897]])"
      ]
     },
     "execution_count": 79,
     "metadata": {},
     "output_type": "execute_result"
    }
   ],
   "source": [
    "pred = regressor.predict(X)\n",
    "\n",
    "pred = sc_y.inverse_transform([pred])\n",
    "pred.reshape(10,1)"
   ]
  },
  {
   "cell_type": "markdown",
   "metadata": {
    "colab_type": "text",
    "id": "zzedFlUISSu_"
   },
   "source": [
    "## Visualising the SVR results"
   ]
  },
  {
   "cell_type": "code",
   "execution_count": 88,
   "metadata": {},
   "outputs": [
    {
     "data": {
      "image/png": "[encoded data removed]",
      "text/plain": [
       "<Figure size 432x288 with 1 Axes>"
      ]
     },
     "metadata": {
      "needs_background": "light"
     },
     "output_type": "display_data"
    }
   ],
   "source": [
    "plt.scatter(sc.inverse_transform(X), sc_y.inverse_transform(y), color='red')\n",
    "plt.plot(sc.inverse_transform(X), pred.reshape(10,1), color='blue')\n",
    "plt.title('Salary Job - Support Vector Regression')\n",
    "plt.xlabel('Level')\n",
    "plt.ylabel('Salary')\n",
    "plt.show()"
   ]
  },
  {
   "cell_type": "markdown",
   "metadata": {
    "colab_type": "text",
    "id": "UahPVNlJSZ-K"
   },
   "source": [
    "## Visualising the SVR results (for higher resolution and smoother curve)"
   ]
  },
  {
   "cell_type": "code",
   "execution_count": 89,
   "metadata": {},
   "outputs": [
    {
     "data": {
      "text/plain": [
       "array([[ 73474.15615697],\n",
       "       [ 71922.03659018],\n",
       "       [ 70670.99294089],\n",
       "       [ 69718.75598421],\n",
       "       [ 69060.84136608],\n",
       "       [ 68690.62180388],\n",
       "       [ 68599.42348551],\n",
       "       [ 68776.64490899],\n",
       "       [ 69209.89612215],\n",
       "       [ 69885.15610075],\n",
       "       [ 70786.94584626],\n",
       "       [ 71898.51469391],\n",
       "       [ 73202.03729633],\n",
       "       [ 74678.81878626],\n",
       "       [ 76309.50571743],\n",
       "       [ 78074.30052969],\n",
       "       [ 79953.17747364],\n",
       "       [ 81926.09815079],\n",
       "       [ 83973.22506746],\n",
       "       [ 86075.13185068],\n",
       "       [ 88213.00902103],\n",
       "       [ 90368.86444809],\n",
       "       [ 92525.71781744],\n",
       "       [ 94667.78860374],\n",
       "       [ 96780.67716343],\n",
       "       [ 98851.5386261 ],\n",
       "       [100869.24927101],\n",
       "       [102824.5650224 ],\n",
       "       [104710.27158468],\n",
       "       [106521.32556977],\n",
       "       [108254.98574956],\n",
       "       [109910.93330544],\n",
       "       [111491.37965606],\n",
       "       [113001.16013538],\n",
       "       [114447.81148303],\n",
       "       [115841.63081208],\n",
       "       [117195.71345446],\n",
       "       [118525.9668672 ],\n",
       "       [119851.09763112],\n",
       "       [121192.56850296],\n",
       "       [122574.52250599],\n",
       "       [124023.67117499],\n",
       "       [125569.14431796],\n",
       "       [127242.29902404],\n",
       "       [129076.48613802],\n",
       "       [131106.77303274],\n",
       "       [133369.62223723],\n",
       "       [135902.52630829],\n",
       "       [138743.60025363],\n",
       "       [141931.1338057 ],\n",
       "       [145503.10688572],\n",
       "       [149496.67266206],\n",
       "       [153947.61366839],\n",
       "       [158889.77747515],\n",
       "       [164354.49937396],\n",
       "       [170370.0204065 ],\n",
       "       [176960.90981939],\n",
       "       [184147.50162521],\n",
       "       [191945.35537372],\n",
       "       [200364.7514627 ],\n",
       "       [209410.23132924],\n",
       "       [219080.19264609],\n",
       "       [229366.54919709],\n",
       "       [240254.46442002],\n",
       "       [251722.16668976],\n",
       "       [263740.85328003],\n",
       "       [276274.68860722],\n",
       "       [289280.90084733],\n",
       "       [302709.9793565 ],\n",
       "       [316505.97355033],\n",
       "       [330606.89204569],\n",
       "       [344945.19898037],\n",
       "       [359448.4025454 ],\n",
       "       [374039.7289343 ],\n",
       "       [388638.8731765 ],\n",
       "       [403162.81672182],\n",
       "       [417526.70021648],\n",
       "       [431644.73869576],\n",
       "       [445431.16544376],\n",
       "       [458801.19006304],\n",
       "       [471671.95587316],\n",
       "       [483963.48163147],\n",
       "       [495599.57274468],\n",
       "       [506508.68761384],\n",
       "       [516624.74551877],\n",
       "       [525887.86348246],\n",
       "       [534245.01083923],\n",
       "       [541650.57173175],\n",
       "       [548066.807448  ],\n",
       "       [553464.21233975]])"
      ]
     },
     "execution_count": 89,
     "metadata": {},
     "output_type": "execute_result"
    }
   ],
   "source": [
    "pred1 = regressor.predict(sc_X.transform(X_grid))\n",
    "\n",
    "pred1 = sc_y.inverse_transform([pred1])\n",
    "pred1.reshape(90,1)"
   ]
  },
  {
   "cell_type": "code",
   "execution_count": 90,
   "metadata": {},
   "outputs": [
    {
     "data": {
      "image/png": "[encoded data removed]",
      "text/plain": [
       "<Figure size 432x288 with 1 Axes>"
      ]
     },
     "metadata": {
      "needs_background": "light"
     },
     "output_type": "display_data"
    }
   ],
   "source": [
    "X_grid = np.arange(min(sc.inverse_transform(X)), max(sc.inverse_transform(X)), 0.1)\n",
    "X_grid = X_grid.reshape(len(X_grid), 1)\n",
    "plt.scatter(sc.inverse_transform(X), sc_y.inverse_transform(y), color = 'red')\n",
    "plt.plot(X_grid, pred1.reshape(90,1),color='blue')\n",
    "plt.title('Truth or Bluff(Support Vector Regression)')\n",
    "plt.xlabel('Position level')\n",
    "plt.ylabel('Salary')\n",
    "plt.show()"
   ]
  }
 ],
 "metadata": {
  "colab": {
   "collapsed_sections": [],
   "name": "support_vector_regression.ipynb",
   "provenance": [],
   "toc_visible": true
  },
  "kernelspec": {
   "display_name": "Python 3 (ipykernel)",
   "language": "python",
   "name": "python3"
  },
  "language_info": {
   "codemirror_mode": {
    "name": "ipython",
    "version": 3
   },
   "file_extension": ".py",
   "mimetype": "text/x-python",
   "name": "python",
   "nbconvert_exporter": "python",
   "pygments_lexer": "ipython3",
   "version": "3.9.7"
  }
 },
 "nbformat": 4,
 "nbformat_minor": 1
}
